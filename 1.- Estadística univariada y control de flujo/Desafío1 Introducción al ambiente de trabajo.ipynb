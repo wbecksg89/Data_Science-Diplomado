{
 "cells": [
  {
   "cell_type": "markdown",
   "metadata": {},
   "source": [
    "## Desafío 1 - Introducción al ambiente de trabajo\n",
    "* Autor: Walther Becks"
   ]
  },
  {
   "cell_type": "markdown",
   "metadata": {
    "ExecuteTime": {
     "end_time": "2022-04-10T17:47:51.768757Z",
     "start_time": "2022-04-10T17:47:51.750814Z"
    }
   },
   "source": [
    "### Pregunta 1: Hola Mundo\n",
    "* Utilice el método print para mostrar en pantalla la siguiente línea: Hola Mundo, esta es mi primera incursión en Python"
   ]
  },
  {
   "cell_type": "code",
   "execution_count": 1,
   "metadata": {
    "ExecuteTime": {
     "end_time": "2021-07-13T01:35:13.984781Z",
     "start_time": "2021-07-13T01:35:13.974807Z"
    }
   },
   "outputs": [
    {
     "name": "stdout",
     "output_type": "stream",
     "text": [
      "Hola Mundo, esta es mi primera incursión en Python\n"
     ]
    }
   ],
   "source": [
    "print(\"Hola Mundo, esta es mi primera incursión en Python\")"
   ]
  },
  {
   "cell_type": "markdown",
   "metadata": {},
   "source": [
    "### Pregunta 2: Ingreso de variables\n",
    "Ingrese una serie de datos respecto a su información personal. Esta información debe estar\n",
    "ingresada en variables para su posterior uso. Ingrese los siguientes datos:\n",
    "* Su nombre.\n",
    "* Edad.\n",
    "* Una lista con sus 3 actividades favoritas.\n",
    "* ¿Tiene mascotas?\n"
   ]
  },
  {
   "cell_type": "code",
   "execution_count": 2,
   "metadata": {
    "ExecuteTime": {
     "end_time": "2022-04-10T17:52:50.933541Z",
     "start_time": "2022-04-10T17:52:50.918580Z"
    }
   },
   "outputs": [],
   "source": [
    "nombre = 'Walther'\n",
    "edad=33\n",
    "actividades=['jugar ajedrez','leer','jugar tenis']\n",
    "mascota = bool(0)\n"
   ]
  },
  {
   "cell_type": "markdown",
   "metadata": {
    "ExecuteTime": {
     "end_time": "2021-07-13T01:43:53.947590Z",
     "start_time": "2021-07-13T01:43:53.929619Z"
    }
   },
   "source": [
    "### Pregunta 3: Imprimiendo Variables\n",
    "* Imprima cada variable creada.\n",
    "     * Acceda al segundo elemento de su lista.\n",
    "* Pida los tipos de datos asociados.\n",
    "* Interpole los datos en un método print para generar una presentación sobre usted."
   ]
  },
  {
   "cell_type": "code",
   "execution_count": 4,
   "metadata": {
    "ExecuteTime": {
     "end_time": "2022-04-10T17:53:17.397176Z",
     "start_time": "2022-04-10T17:53:17.390196Z"
    }
   },
   "outputs": [
    {
     "name": "stdout",
     "output_type": "stream",
     "text": [
      "Walther tipo: <class 'str'>\n",
      "33 tipo: <class 'int'>\n",
      "leer tipo: <class 'list'>\n",
      "False tipo: <class 'bool'>\n",
      "\n",
      "\n",
      "Hola, me llamo Walther, tengo 33 años de edad, mis actividades favoritas son: ['jugar ajedrez', 'leer', 'jugar tenis'] y sobre si tengo mascota eso es False\n"
     ]
    }
   ],
   "source": [
    "print(nombre, f\"tipo: {type(nombre)}\")\n",
    "print(edad, f\"tipo: {type(edad)}\")\n",
    "print(actividades[1], f\"tipo: {type(actividades)}\")\n",
    "print(mascota, f\"tipo: {type(mascota)}\")\n",
    "print(\"\\n\")\n",
    "print(f\"Hola, me llamo {nombre}, tengo {edad} años de edad, mis actividades favoritas son: {actividades} y sobre si tengo mascota eso es {mascota}\")"
   ]
  },
  {
   "cell_type": "markdown",
   "metadata": {},
   "source": [
    "### Pregunta 4\n",
    "A continuación se presenta una serie de códigos que generan errores. Corríjalos y comente\n",
    "cuáles fueron las fallas."
   ]
  },
  {
   "cell_type": "code",
   "execution_count": 14,
   "metadata": {
    "ExecuteTime": {
     "end_time": "2022-04-10T17:54:27.311557Z",
     "start_time": "2022-04-10T17:54:27.302578Z"
    }
   },
   "outputs": [
    {
     "name": "stdout",
     "output_type": "stream",
     "text": [
      "Estaba la pájara pinta sentada en el verde limón\n"
     ]
    }
   ],
   "source": [
    "print('Estaba la pájara pinta sentada en el verde limón')"
   ]
  },
  {
   "cell_type": "markdown",
   "metadata": {},
   "source": [
    "Primer caso: \n",
    "print('Estaba la pájara pinta sentada en el verde limón)\n",
    "Error: Es debido a que falta el cierre de comilla al final de la sentencia"
   ]
  },
  {
   "cell_type": "code",
   "execution_count": 15,
   "metadata": {
    "ExecuteTime": {
     "end_time": "2022-04-10T17:54:37.462454Z",
     "start_time": "2022-04-10T17:54:37.446513Z"
    }
   },
   "outputs": [
    {
     "name": "stdout",
     "output_type": "stream",
     "text": [
      "Mi nombre es Walther y tengo 33 años\n"
     ]
    }
   ],
   "source": [
    "print(f'Mi nombre es {nombre} y tengo {edad} años')"
   ]
  },
  {
   "cell_type": "markdown",
   "metadata": {},
   "source": [
    "Segundo Caso: print('Mi nombre es' name 'y tengo' edad, 'años')\n",
    "Error: Es que no se utiliza el llamado de format y error en las comillas, ya que faltan los paréntesis"
   ]
  },
  {
   "cell_type": "markdown",
   "metadata": {},
   "source": [
    "Tercer Caso: \n",
    "import padnas as pd\n",
    "import nunnpy as np\n",
    "\n",
    "Error en el nombre de los imports"
   ]
  },
  {
   "cell_type": "markdown",
   "metadata": {
    "ExecuteTime": {
     "end_time": "2021-07-13T01:58:18.038073Z",
     "start_time": "2021-07-13T01:58:18.026108Z"
    }
   },
   "source": [
    "Cuarto Caso:\n",
    "\n",
    "\"Ornitorrinco\" + 45\n",
    "Error: No se puede sumar un tipo integer y un tipo string, si se quisiera concatenar ambas variables habría que convertir el 45 a string usando comillas"
   ]
  },
  {
   "cell_type": "markdown",
   "metadata": {},
   "source": [
    "### Pregunta 5: Utilizando pandas y numpy\n",
    "* Importe pandas y numpy.\n",
    "* Posteriormente importe el archivo flights.csv.\n",
    "* Solicite las primeras y últimas 5 observaciones de la tabla de datos.\n",
    "* Utilice describe para obtener las medidas univariadas de la columna year.\n",
    "* Utilice value_counts para obtener la frecuencia de meses y años de la tabla.\n",
    "* Guarde en variables las primeras y últimas 15 observaciones de la tabla.\n",
    "* Solicite la media, mediana y desviación estándar de la cantidad de pasajeros utilizando los métodos de numpy. Replique el procedimiento para las últimas y primeras 15 observaciones. Comente brevemente los resultados.\n"
   ]
  },
  {
   "cell_type": "code",
   "execution_count": 5,
   "metadata": {
    "ExecuteTime": {
     "end_time": "2022-04-10T17:57:14.529265Z",
     "start_time": "2022-04-10T17:57:14.519221Z"
    }
   },
   "outputs": [],
   "source": [
    "import pandas as pd\n",
    "import numpy as np"
   ]
  },
  {
   "cell_type": "code",
   "execution_count": 6,
   "metadata": {
    "ExecuteTime": {
     "end_time": "2022-04-10T17:57:15.100929Z",
     "start_time": "2022-04-10T17:57:15.069766Z"
    }
   },
   "outputs": [],
   "source": [
    "df = pd.read_csv('flights.csv')"
   ]
  },
  {
   "cell_type": "code",
   "execution_count": 7,
   "metadata": {
    "ExecuteTime": {
     "end_time": "2022-04-10T17:57:15.810901Z",
     "start_time": "2022-04-10T17:57:15.780002Z"
    }
   },
   "outputs": [
    {
     "data": {
      "text/html": [
       "<div>\n",
       "<style scoped>\n",
       "    .dataframe tbody tr th:only-of-type {\n",
       "        vertical-align: middle;\n",
       "    }\n",
       "\n",
       "    .dataframe tbody tr th {\n",
       "        vertical-align: top;\n",
       "    }\n",
       "\n",
       "    .dataframe thead th {\n",
       "        text-align: right;\n",
       "    }\n",
       "</style>\n",
       "<table border=\"1\" class=\"dataframe\">\n",
       "  <thead>\n",
       "    <tr style=\"text-align: right;\">\n",
       "      <th></th>\n",
       "      <th>year</th>\n",
       "      <th>month</th>\n",
       "      <th>passengers</th>\n",
       "    </tr>\n",
       "  </thead>\n",
       "  <tbody>\n",
       "    <tr>\n",
       "      <th>0</th>\n",
       "      <td>1949</td>\n",
       "      <td>January</td>\n",
       "      <td>112</td>\n",
       "    </tr>\n",
       "    <tr>\n",
       "      <th>1</th>\n",
       "      <td>1949</td>\n",
       "      <td>February</td>\n",
       "      <td>118</td>\n",
       "    </tr>\n",
       "    <tr>\n",
       "      <th>2</th>\n",
       "      <td>1949</td>\n",
       "      <td>March</td>\n",
       "      <td>132</td>\n",
       "    </tr>\n",
       "    <tr>\n",
       "      <th>3</th>\n",
       "      <td>1949</td>\n",
       "      <td>April</td>\n",
       "      <td>129</td>\n",
       "    </tr>\n",
       "    <tr>\n",
       "      <th>4</th>\n",
       "      <td>1949</td>\n",
       "      <td>May</td>\n",
       "      <td>121</td>\n",
       "    </tr>\n",
       "  </tbody>\n",
       "</table>\n",
       "</div>"
      ],
      "text/plain": [
       "   year     month  passengers\n",
       "0  1949   January         112\n",
       "1  1949  February         118\n",
       "2  1949     March         132\n",
       "3  1949     April         129\n",
       "4  1949       May         121"
      ]
     },
     "execution_count": 7,
     "metadata": {},
     "output_type": "execute_result"
    }
   ],
   "source": [
    "df.head()"
   ]
  },
  {
   "cell_type": "code",
   "execution_count": 8,
   "metadata": {
    "ExecuteTime": {
     "end_time": "2022-04-10T17:57:20.009692Z",
     "start_time": "2022-04-10T17:57:20.000716Z"
    }
   },
   "outputs": [
    {
     "data": {
      "text/html": [
       "<div>\n",
       "<style scoped>\n",
       "    .dataframe tbody tr th:only-of-type {\n",
       "        vertical-align: middle;\n",
       "    }\n",
       "\n",
       "    .dataframe tbody tr th {\n",
       "        vertical-align: top;\n",
       "    }\n",
       "\n",
       "    .dataframe thead th {\n",
       "        text-align: right;\n",
       "    }\n",
       "</style>\n",
       "<table border=\"1\" class=\"dataframe\">\n",
       "  <thead>\n",
       "    <tr style=\"text-align: right;\">\n",
       "      <th></th>\n",
       "      <th>year</th>\n",
       "      <th>month</th>\n",
       "      <th>passengers</th>\n",
       "    </tr>\n",
       "  </thead>\n",
       "  <tbody>\n",
       "    <tr>\n",
       "      <th>139</th>\n",
       "      <td>1960</td>\n",
       "      <td>August</td>\n",
       "      <td>606</td>\n",
       "    </tr>\n",
       "    <tr>\n",
       "      <th>140</th>\n",
       "      <td>1960</td>\n",
       "      <td>September</td>\n",
       "      <td>508</td>\n",
       "    </tr>\n",
       "    <tr>\n",
       "      <th>141</th>\n",
       "      <td>1960</td>\n",
       "      <td>October</td>\n",
       "      <td>461</td>\n",
       "    </tr>\n",
       "    <tr>\n",
       "      <th>142</th>\n",
       "      <td>1960</td>\n",
       "      <td>November</td>\n",
       "      <td>390</td>\n",
       "    </tr>\n",
       "    <tr>\n",
       "      <th>143</th>\n",
       "      <td>1960</td>\n",
       "      <td>December</td>\n",
       "      <td>432</td>\n",
       "    </tr>\n",
       "  </tbody>\n",
       "</table>\n",
       "</div>"
      ],
      "text/plain": [
       "     year      month  passengers\n",
       "139  1960     August         606\n",
       "140  1960  September         508\n",
       "141  1960    October         461\n",
       "142  1960   November         390\n",
       "143  1960   December         432"
      ]
     },
     "execution_count": 8,
     "metadata": {},
     "output_type": "execute_result"
    }
   ],
   "source": [
    "df.tail()"
   ]
  },
  {
   "cell_type": "code",
   "execution_count": 9,
   "metadata": {
    "ExecuteTime": {
     "end_time": "2022-04-10T17:57:39.147010Z",
     "start_time": "2022-04-10T17:57:39.126065Z"
    }
   },
   "outputs": [
    {
     "data": {
      "text/plain": [
       "count     144.000000\n",
       "mean     1954.500000\n",
       "std         3.464102\n",
       "min      1949.000000\n",
       "25%      1951.750000\n",
       "50%      1954.500000\n",
       "75%      1957.250000\n",
       "max      1960.000000\n",
       "Name: year, dtype: float64"
      ]
     },
     "execution_count": 9,
     "metadata": {},
     "output_type": "execute_result"
    }
   ],
   "source": [
    "df['year'].describe()"
   ]
  },
  {
   "cell_type": "code",
   "execution_count": 10,
   "metadata": {
    "ExecuteTime": {
     "end_time": "2022-04-10T18:02:05.297007Z",
     "start_time": "2022-04-10T18:02:05.284042Z"
    },
    "scrolled": false
   },
   "outputs": [
    {
     "data": {
      "text/plain": [
       "year\n",
       "1949    12\n",
       "1950    12\n",
       "1951    12\n",
       "1952    12\n",
       "1953    12\n",
       "1954    12\n",
       "1955    12\n",
       "1956    12\n",
       "1957    12\n",
       "1958    12\n",
       "1959    12\n",
       "1960    12\n",
       "dtype: int64"
      ]
     },
     "execution_count": 10,
     "metadata": {},
     "output_type": "execute_result"
    }
   ],
   "source": [
    "df.loc[:,['year']].value_counts()"
   ]
  },
  {
   "cell_type": "code",
   "execution_count": 16,
   "metadata": {
    "ExecuteTime": {
     "end_time": "2022-04-10T18:08:11.013397Z",
     "start_time": "2022-04-10T18:08:10.996414Z"
    }
   },
   "outputs": [],
   "source": [
    "primeras15=df.head(15)\n",
    "ultimas15=df.tail(15)"
   ]
  },
  {
   "cell_type": "code",
   "execution_count": 23,
   "metadata": {
    "ExecuteTime": {
     "end_time": "2022-04-10T18:26:43.591472Z",
     "start_time": "2022-04-10T18:26:43.577539Z"
    }
   },
   "outputs": [
    {
     "name": "stdout",
     "output_type": "stream",
     "text": [
      "Media para primeros 15:  126.8\n",
      "Mediana para primeros 15:  126.0\n",
      "Desviación Estándar para primeros 15:  12.681745410891462\n",
      "Se puede apreciar que para los primeros 15, la media y mediana tienen valores similares por lo que podemos inferir de que los outliers no son tendencia, entanto la desv. est. presume que hay una movilidad en la muestra de un 10% aproximadamente, afirmando lo anterior. Finalmente al ver el gráfico, podemos apreciar de que hay un mayor frecuencia en 120 pasajeros pero que también hay cierta tendencia en 130, 140 y 150, dandole peso a la cola derecha, mostrando evidencia de que la distribución no es normal\n",
      "\n",
      "\n",
      "Media para ultimas 15:  459.2\n",
      "Mediana para ultimas 15:  432.0\n",
      "Desviación Estándar para ultimas 15:  75.29426715671431\n",
      "Se puede apreciar que para los ultimos 15, la media y mediana siguen estando relativamente cerca (menor a la desv. est.), lo que indica cierta normalidad pero al ver el gráfico (plot_tail) podemos observar que efectivamente tiende una población normal entre 432 y 460 pero la alta desv. est. nos advirtió que hay outliers de 600 y frec. 2. Finalmente podemos decir que no hay evidencia suficiente para afirmar que las poblaciones son representativas\n"
     ]
    }
   ],
   "source": [
    "print(\"Media para primeros 15: \",np.mean(primeras15['passengers']))\n",
    "print(\"Mediana para primeros 15: \",np.median(primeras15['passengers']))\n",
    "print(\"Desviación Estándar para primeros 15: \",np.std(primeras15['passengers']))\n",
    "print(\"Se puede apreciar que para los primeros 15, la media y mediana tienen valores similares por lo que podemos inferir de que los outliers no son tendencia, entanto la desv. est. presume que hay una movilidad en la muestra de un 10% aproximadamente, afirmando lo anterior. Finalmente al ver el gráfico, podemos apreciar de que hay un mayor frecuencia en 120 pasajeros pero que también hay cierta tendencia en 130, 140 y 150, dandole peso a la cola derecha, mostrando evidencia de que la distribución no es normal\")\n",
    "print(\"\\n\")\n",
    "print(\"Media para ultimas 15: \",np.mean(ultimas15['passengers']))\n",
    "print(\"Mediana para ultimas 15: \",np.median(ultimas15['passengers']))\n",
    "print(\"Desviación Estándar para ultimas 15: \",np.std(ultimas15['passengers']))\n",
    "print(\"Se puede apreciar que para los ultimos 15, la media y mediana siguen estando relativamente cerca (menor a la desv. est.), lo que indica cierta normalidad pero al ver el gráfico (plot_tail) podemos observar que efectivamente tiende una población normal entre 432 y 460 pero la alta desv. est. nos advirtió que hay outliers de 600 y frec. 2. Finalmente podemos decir que no hay evidencia suficiente para afirmar que las poblaciones son representativas\")"
   ]
  },
  {
   "cell_type": "code",
   "execution_count": 42,
   "metadata": {
    "ExecuteTime": {
     "end_time": "2022-04-10T18:12:13.459818Z",
     "start_time": "2022-04-10T18:12:13.451839Z"
    }
   },
   "outputs": [],
   "source": [
    "import seaborn as sns\n",
    "import matplotlib.pyplot as plt"
   ]
  },
  {
   "cell_type": "code",
   "execution_count": 52,
   "metadata": {
    "ExecuteTime": {
     "end_time": "2022-04-10T18:21:16.691770Z",
     "start_time": "2022-04-10T18:21:16.555134Z"
    }
   },
   "outputs": [
    {
     "data": {
      "image/png": "[encoded data removed]",
      "text/plain": [
       "<Figure size 432x288 with 1 Axes>"
      ]
     },
     "metadata": {
      "needs_background": "light"
     },
     "output_type": "display_data"
    }
   ],
   "source": [
    "plot_head = primeras15[\"passengers\"].plot(kind=\"hist\", ec=\"red\")\n"
   ]
  },
  {
   "cell_type": "code",
   "execution_count": 54,
   "metadata": {
    "ExecuteTime": {
     "end_time": "2022-04-10T18:21:26.370353Z",
     "start_time": "2022-04-10T18:21:26.227513Z"
    }
   },
   "outputs": [
    {
     "data": {
      "image/png": "[encoded data removed]",
      "text/plain": [
       "<Figure size 432x288 with 1 Axes>"
      ]
     },
     "metadata": {
      "needs_background": "light"
     },
     "output_type": "display_data"
    }
   ],
   "source": [
    "plot_tail = ultimas15[\"passengers\"].plot(kind=\"hist\", ec=\"red\")\n"
   ]
  },
  {
   "cell_type": "code",
   "execution_count": 25,
   "metadata": {},
   "outputs": [
    {
     "data": {
      "image/png": "[encoded data removed]",
      "text/plain": [
       "<Figure size 432x288 with 1 Axes>"
      ]
     },
     "metadata": {
      "needs_background": "light"
     },
     "output_type": "display_data"
    }
   ],
   "source": [
    "total_plot = df[\"passengers\"].plot(kind=\"hist\", ec=\"red\")"
   ]
  },
  {
   "cell_type": "code",
   "execution_count": null,
   "metadata": {},
   "outputs": [],
   "source": []
  }
 ],
 "metadata": {
  "hide_input": false,
  "kernelspec": {
   "display_name": "Python 3",
   "language": "python",
   "name": "python3"
  },
  "language_info": {
   "codemirror_mode": {
    "name": "ipython",
    "version": 3
   },
   "file_extension": ".py",
   "mimetype": "text/x-python",
   "name": "python",
   "nbconvert_exporter": "python",
   "pygments_lexer": "ipython3",
   "version": "3.7.3"
  },
  "toc": {
   "base_numbering": 1,
   "nav_menu": {},
   "number_sections": true,
   "sideBar": true,
   "skip_h1_title": false,
   "title_cell": "Table of Contents",
   "title_sidebar": "Contents",
   "toc_cell": false,
   "toc_position": {},
   "toc_section_display": true,
   "toc_window_display": false
  }
 },
 "nbformat": 4,
 "nbformat_minor": 2
}
