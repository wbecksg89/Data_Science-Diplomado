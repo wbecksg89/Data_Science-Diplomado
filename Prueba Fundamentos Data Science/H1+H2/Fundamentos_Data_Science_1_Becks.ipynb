{
 "cells": [
  {
   "cell_type": "markdown",
   "metadata": {},
   "source": [
    "<center><h1>Fundamentos Data Science parte 1</h1><center>\n",
    "    Autor: Walther Becks"
   ]
  },
  {
   "cell_type": "markdown",
   "metadata": {},
   "source": [
    "<h2>Desafío 1: Determinantes del ingreso</h2>\n",
    "\n",
    "Usted trabaja para un organismo no gubernamental que está interesado en las dinámicas\n",
    "socioeconómicas que determinan la desigualdad de ingreso y la erradicación de la pobreza\n",
    "extrema, enmarcado dentro de los objetivos del desarrollo del nuevo milenio del Programa\n",
    "de las Naciones Unidas para el Desarrollo.\n",
    "Le encomiendan el desarrollo de un **modelo predictivo** sobre la **probabilidad que un\n",
    "individuo presente salarios por sobre o bajo los 50.000 dólares anuales**, en base a una serie\n",
    "de atributos sociodemográficos.\n",
    "\n",
    "**Datos Asociados: income-db.csv**"
   ]
  },
  {
   "cell_type": "markdown",
   "metadata": {},
   "source": [
    "## Hito 1: Análisis Preliminar del problema"
   ]
  },
  {
   "cell_type": "markdown",
   "metadata": {},
   "source": [
    "* Se pide desarrollar un modelo predictivo para determinar la probabilidad de ocurrencia de mi Variable Dependiente, que los individuos entren en cierto criterio de rango salarial.\n",
    "* La variable del vector objetivo es categórica binarizada.\n",
    "* Nos solicitan la ocurrencia de esta. Esto hace que el problema sea de **regresión logística**.\n",
    "* Prepocesamiento y limpieza de datos:\n",
    "    * Para ello se procederá a reemplazar los perdidos como '?' y transformarlos a nulos\n",
    "    * Revisar la estructura de datos, con enfásis en que las variables númericas no sean de tipo texto.\n",
    "    * Análisis exploratorio de datos perdidos para evaluar el uso de variables y columnas\n",
    "* Las métricas de desempeño son:\n",
    "    * Ocupation\n",
    "    * Workclass\n",
    "    * Education\n",
    "    * Marital-status\n",
    "    * Native-country\n",
    "    * Income # Variable dependiente\n",
    "* Una vez lista la base se procederá al análisis exploratorio de variable\n",
    "* Una vez listo el análisis exploratorio de variables se procederá con la **Modelación descriptiva** para definir los principales determinantes de la variable dependiente.\n",
    "* Una vez lista la modelación descriptiva, se procederá con la **Modelación predictiva**, donde se buscará una solución analítica que aumente las metricas de desempeño"
   ]
  },
  {
   "cell_type": "markdown",
   "metadata": {},
   "source": [
    "## Aspectos computacionales"
   ]
  },
  {
   "cell_type": "markdown",
   "metadata": {},
   "source": [
    "**Librerías a utilizar:** \n",
    "\n",
    "1. pandas == 1.2.0\n",
    "2. numpy == 1.20.3\n",
    "3. scipy == 1.7.3  \n",
    "4. matplotlib == 3.0.3\n",
    "5. seaborn == 0.11.2 \n",
    "6. statsmodels == 0.13.2\n",
    "7. conda == 4.8.3\n",
    "8. python == 3.7.3\n",
    "9. missingno == 0.5.1"
   ]
  },
  {
   "cell_type": "code",
   "execution_count": 2,
   "metadata": {},
   "outputs": [
    {
     "name": "stderr",
     "output_type": "stream",
     "text": [
      "C:\\Users\\Walther\\Anaconda3\\lib\\site-packages\\sklearn\\linear_model\\least_angle.py:35: DeprecationWarning: `np.float` is a deprecated alias for the builtin `float`. To silence this warning, use `float` by itself. Doing this will not modify any behavior and is safe. If you specifically wanted the numpy scalar type, use `np.float64` here.\n",
      "Deprecated in NumPy 1.20; for more details and guidance: https://numpy.org/devdocs/release/1.20.0-notes.html#deprecations\n",
      "  eps=np.finfo(np.float).eps,\n",
      "C:\\Users\\Walther\\Anaconda3\\lib\\site-packages\\sklearn\\linear_model\\least_angle.py:597: DeprecationWarning: `np.float` is a deprecated alias for the builtin `float`. To silence this warning, use `float` by itself. Doing this will not modify any behavior and is safe. If you specifically wanted the numpy scalar type, use `np.float64` here.\n",
      "Deprecated in NumPy 1.20; for more details and guidance: https://numpy.org/devdocs/release/1.20.0-notes.html#deprecations\n",
      "  eps=np.finfo(np.float).eps, copy_X=True, fit_path=True,\n",
      "C:\\Users\\Walther\\Anaconda3\\lib\\site-packages\\sklearn\\linear_model\\least_angle.py:836: DeprecationWarning: `np.float` is a deprecated alias for the builtin `float`. To silence this warning, use `float` by itself. Doing this will not modify any behavior and is safe. If you specifically wanted the numpy scalar type, use `np.float64` here.\n",
      "Deprecated in NumPy 1.20; for more details and guidance: https://numpy.org/devdocs/release/1.20.0-notes.html#deprecations\n",
      "  eps=np.finfo(np.float).eps, copy_X=True, fit_path=True,\n",
      "C:\\Users\\Walther\\Anaconda3\\lib\\site-packages\\sklearn\\linear_model\\least_angle.py:862: DeprecationWarning: `np.float` is a deprecated alias for the builtin `float`. To silence this warning, use `float` by itself. Doing this will not modify any behavior and is safe. If you specifically wanted the numpy scalar type, use `np.float64` here.\n",
      "Deprecated in NumPy 1.20; for more details and guidance: https://numpy.org/devdocs/release/1.20.0-notes.html#deprecations\n",
      "  eps=np.finfo(np.float).eps, positive=False):\n",
      "C:\\Users\\Walther\\Anaconda3\\lib\\site-packages\\sklearn\\linear_model\\least_angle.py:1097: DeprecationWarning: `np.float` is a deprecated alias for the builtin `float`. To silence this warning, use `float` by itself. Doing this will not modify any behavior and is safe. If you specifically wanted the numpy scalar type, use `np.float64` here.\n",
      "Deprecated in NumPy 1.20; for more details and guidance: https://numpy.org/devdocs/release/1.20.0-notes.html#deprecations\n",
      "  max_n_alphas=1000, n_jobs=None, eps=np.finfo(np.float).eps,\n",
      "C:\\Users\\Walther\\Anaconda3\\lib\\site-packages\\sklearn\\linear_model\\least_angle.py:1344: DeprecationWarning: `np.float` is a deprecated alias for the builtin `float`. To silence this warning, use `float` by itself. Doing this will not modify any behavior and is safe. If you specifically wanted the numpy scalar type, use `np.float64` here.\n",
      "Deprecated in NumPy 1.20; for more details and guidance: https://numpy.org/devdocs/release/1.20.0-notes.html#deprecations\n",
      "  max_n_alphas=1000, n_jobs=None, eps=np.finfo(np.float).eps,\n",
      "C:\\Users\\Walther\\Anaconda3\\lib\\site-packages\\sklearn\\linear_model\\least_angle.py:1480: DeprecationWarning: `np.float` is a deprecated alias for the builtin `float`. To silence this warning, use `float` by itself. Doing this will not modify any behavior and is safe. If you specifically wanted the numpy scalar type, use `np.float64` here.\n",
      "Deprecated in NumPy 1.20; for more details and guidance: https://numpy.org/devdocs/release/1.20.0-notes.html#deprecations\n",
      "  eps=np.finfo(np.float).eps, copy_X=True, positive=False):\n",
      "C:\\Users\\Walther\\Anaconda3\\lib\\site-packages\\sklearn\\linear_model\\randomized_l1.py:152: DeprecationWarning: `np.float` is a deprecated alias for the builtin `float`. To silence this warning, use `float` by itself. Doing this will not modify any behavior and is safe. If you specifically wanted the numpy scalar type, use `np.float64` here.\n",
      "Deprecated in NumPy 1.20; for more details and guidance: https://numpy.org/devdocs/release/1.20.0-notes.html#deprecations\n",
      "  precompute=False, eps=np.finfo(np.float).eps,\n",
      "C:\\Users\\Walther\\Anaconda3\\lib\\site-packages\\sklearn\\linear_model\\randomized_l1.py:320: DeprecationWarning: `np.float` is a deprecated alias for the builtin `float`. To silence this warning, use `float` by itself. Doing this will not modify any behavior and is safe. If you specifically wanted the numpy scalar type, use `np.float64` here.\n",
      "Deprecated in NumPy 1.20; for more details and guidance: https://numpy.org/devdocs/release/1.20.0-notes.html#deprecations\n",
      "  eps=np.finfo(np.float).eps, random_state=None,\n",
      "C:\\Users\\Walther\\Anaconda3\\lib\\site-packages\\sklearn\\linear_model\\randomized_l1.py:580: DeprecationWarning: `np.float` is a deprecated alias for the builtin `float`. To silence this warning, use `float` by itself. Doing this will not modify any behavior and is safe. If you specifically wanted the numpy scalar type, use `np.float64` here.\n",
      "Deprecated in NumPy 1.20; for more details and guidance: https://numpy.org/devdocs/release/1.20.0-notes.html#deprecations\n",
      "  eps=4 * np.finfo(np.float).eps, n_jobs=None,\n"
     ]
    }
   ],
   "source": [
    "import pandas as pd # Librería de manipulación de datos\n",
    "import numpy as np # Librería de manipulación de datos\n",
    "import matplotlib.pyplot as plt # Librería de visualización de datos y gráficos\n",
    "import seaborn as sns # Librería de visualización de datos y gráficos\n",
    "sns.set_style('darkgrid') # Parte de la librería de seaborn, que permite un estilo distinto al default en visualización\n",
    "import missingno # Librería de visualización de falta de datos para análisis exploratorio\n",
    "import warnings # Librería para ignorar las advertencias que arroja Python por cambio de versiones y ver un código más claro\n",
    "warnings.filterwarnings('ignore') # Importe de la opción de ignorar las advertencias.\n",
    "import statsmodels.api as sm # Librería que permite funciones y clases para la estimación de múltiples modelos estadísticos, como también pruebas estadisticas y exploración estadística.\n",
    "import statsmodels.formula.api as smf # Librería que permite la creación del modelo en base a una formula y Data Frame.\n",
    "\n",
    "# Para dsps:\n",
    "from sklearn import linear_model # Importe de librería de herramientas de predicción de análisis de datos para modelos lineales\n",
    "from sklearn.model_selection import train_test_split # Librería para dividir la muestra entre entrenamiento y prueba\n",
    "from sklearn.metrics import mean_squared_error, r2_score # Librería que importa herramientas de análisis de error cuadratico y error cuadratico medio\n",
    "\n",
    "import functions # Funciones de mi propio modulo creadas para la realización de este examen. \n",
    "plt.style.use('seaborn') # Gráficos estilo seaborn\n",
    "plt.rcParams['figure.figsize'] = (10,6) # Ampliar las figuras gráficas\n",
    "plt.rcParams[\"figure.dpi\"] = 200 # Mejora de calidad de los gráficos\n",
    "pd.set_option('display.max_rows', None) # Opción que permite ver todas las filas al cargar un Data Frame\n",
    "pd.set_option('display.max_columns', None) # Opción que permite ver todas las columnas de un Data Frame"
   ]
  },
  {
   "cell_type": "markdown",
   "metadata": {},
   "source": [
    "-----------"
   ]
  }
 ],
 "metadata": {
  "hide_input": false,
  "kernelspec": {
   "display_name": "Python 3",
   "language": "python",
   "name": "python3"
  },
  "language_info": {
   "codemirror_mode": {
    "name": "ipython",
    "version": 3
   },
   "file_extension": ".py",
   "mimetype": "text/x-python",
   "name": "python",
   "nbconvert_exporter": "python",
   "pygments_lexer": "ipython3",
   "version": "3.7.3"
  },
  "toc": {
   "base_numbering": 1,
   "nav_menu": {},
   "number_sections": true,
   "sideBar": true,
   "skip_h1_title": false,
   "title_cell": "Table of Contents",
   "title_sidebar": "Contents",
   "toc_cell": false,
   "toc_position": {},
   "toc_section_display": true,
   "toc_window_display": false
  }
 },
 "nbformat": 4,
 "nbformat_minor": 2
}
