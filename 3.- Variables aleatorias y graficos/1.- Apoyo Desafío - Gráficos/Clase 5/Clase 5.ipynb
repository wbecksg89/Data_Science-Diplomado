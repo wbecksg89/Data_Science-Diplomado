{
 "cells": [
  {
   "cell_type": "markdown",
   "metadata": {},
   "source": [
    "## Modulos y paquetes"
   ]
  },
  {
   "cell_type": "code",
   "execution_count": 5,
   "metadata": {},
   "outputs": [],
   "source": [
    "%matplotlib inline\n",
    "import pandas as pd\n",
    "import numpy as np\n",
    "import matplotlib.pyplot as plt\n",
    "import scipy.stats as stats\n",
    "\n",
    "plt.style.use('seaborn-whitegrid') # Gráficos estilo seaborn\n",
    "plt.rcParams[\"figure.figsize\"] = (10, 6) # Tamaño gráficos\n",
    "plt.rcParams[\"figure.dpi\"] = 200 # resolución gráficos"
   ]
  },
  {
   "cell_type": "markdown",
   "metadata": {},
   "source": [
    "## Lectura de datos "
   ]
  },
  {
   "cell_type": "code",
   "execution_count": 42,
   "metadata": {},
   "outputs": [
    {
     "data": {
      "text/html": [
       "<div>\n",
       "<style scoped>\n",
       "    .dataframe tbody tr th:only-of-type {\n",
       "        vertical-align: middle;\n",
       "    }\n",
       "\n",
       "    .dataframe tbody tr th {\n",
       "        vertical-align: top;\n",
       "    }\n",
       "\n",
       "    .dataframe thead th {\n",
       "        text-align: right;\n",
       "    }\n",
       "</style>\n",
       "<table border=\"1\" class=\"dataframe\">\n",
       "  <thead>\n",
       "    <tr style=\"text-align: right;\">\n",
       "      <th></th>\n",
       "      <th>ccode</th>\n",
       "      <th>cname</th>\n",
       "      <th>ccodealp</th>\n",
       "      <th>ccodecow</th>\n",
       "      <th>ccodewb</th>\n",
       "      <th>version</th>\n",
       "      <th>aid_cpnc</th>\n",
       "      <th>aid_cpsc</th>\n",
       "      <th>aid_crnc</th>\n",
       "      <th>aid_crnio</th>\n",
       "      <th>...</th>\n",
       "      <th>wvs_relacc</th>\n",
       "      <th>wvs_relsch</th>\n",
       "      <th>wvs_relsci</th>\n",
       "      <th>wvs_satfin</th>\n",
       "      <th>wvs_satlif</th>\n",
       "      <th>wvs_screl</th>\n",
       "      <th>wvs_subh</th>\n",
       "      <th>wvs_survself</th>\n",
       "      <th>wvs_tradrat</th>\n",
       "      <th>wvs_trust</th>\n",
       "    </tr>\n",
       "  </thead>\n",
       "  <tbody>\n",
       "    <tr>\n",
       "      <th>0</th>\n",
       "      <td>4</td>\n",
       "      <td>Afghanistan</td>\n",
       "      <td>AFG</td>\n",
       "      <td>700.0</td>\n",
       "      <td>4.0</td>\n",
       "      <td>QoGStdCSJan18</td>\n",
       "      <td>NaN</td>\n",
       "      <td>NaN</td>\n",
       "      <td>29.0</td>\n",
       "      <td>13.0</td>\n",
       "      <td>...</td>\n",
       "      <td>NaN</td>\n",
       "      <td>NaN</td>\n",
       "      <td>NaN</td>\n",
       "      <td>NaN</td>\n",
       "      <td>NaN</td>\n",
       "      <td>NaN</td>\n",
       "      <td>NaN</td>\n",
       "      <td>NaN</td>\n",
       "      <td>NaN</td>\n",
       "      <td>NaN</td>\n",
       "    </tr>\n",
       "    <tr>\n",
       "      <th>1</th>\n",
       "      <td>8</td>\n",
       "      <td>Albania</td>\n",
       "      <td>ALB</td>\n",
       "      <td>339.0</td>\n",
       "      <td>8.0</td>\n",
       "      <td>QoGStdCSJan18</td>\n",
       "      <td>NaN</td>\n",
       "      <td>NaN</td>\n",
       "      <td>26.0</td>\n",
       "      <td>13.0</td>\n",
       "      <td>...</td>\n",
       "      <td>NaN</td>\n",
       "      <td>NaN</td>\n",
       "      <td>NaN</td>\n",
       "      <td>NaN</td>\n",
       "      <td>NaN</td>\n",
       "      <td>NaN</td>\n",
       "      <td>NaN</td>\n",
       "      <td>NaN</td>\n",
       "      <td>NaN</td>\n",
       "      <td>NaN</td>\n",
       "    </tr>\n",
       "    <tr>\n",
       "      <th>2</th>\n",
       "      <td>12</td>\n",
       "      <td>Algeria</td>\n",
       "      <td>DZA</td>\n",
       "      <td>615.0</td>\n",
       "      <td>12.0</td>\n",
       "      <td>QoGStdCSJan18</td>\n",
       "      <td>NaN</td>\n",
       "      <td>NaN</td>\n",
       "      <td>21.0</td>\n",
       "      <td>6.0</td>\n",
       "      <td>...</td>\n",
       "      <td>3.710616</td>\n",
       "      <td>1.704692</td>\n",
       "      <td>3.681347</td>\n",
       "      <td>5.988125</td>\n",
       "      <td>6.301029</td>\n",
       "      <td>5.339371</td>\n",
       "      <td>3.805579</td>\n",
       "      <td>-0.409807</td>\n",
       "      <td>-0.498164</td>\n",
       "      <td>0.179286</td>\n",
       "    </tr>\n",
       "    <tr>\n",
       "      <th>3</th>\n",
       "      <td>20</td>\n",
       "      <td>Andorra</td>\n",
       "      <td>AND</td>\n",
       "      <td>232.0</td>\n",
       "      <td>20.0</td>\n",
       "      <td>QoGStdCSJan18</td>\n",
       "      <td>NaN</td>\n",
       "      <td>NaN</td>\n",
       "      <td>NaN</td>\n",
       "      <td>NaN</td>\n",
       "      <td>...</td>\n",
       "      <td>NaN</td>\n",
       "      <td>NaN</td>\n",
       "      <td>NaN</td>\n",
       "      <td>NaN</td>\n",
       "      <td>NaN</td>\n",
       "      <td>NaN</td>\n",
       "      <td>NaN</td>\n",
       "      <td>NaN</td>\n",
       "      <td>NaN</td>\n",
       "      <td>NaN</td>\n",
       "    </tr>\n",
       "    <tr>\n",
       "      <th>4</th>\n",
       "      <td>24</td>\n",
       "      <td>Angola</td>\n",
       "      <td>AGO</td>\n",
       "      <td>540.0</td>\n",
       "      <td>24.0</td>\n",
       "      <td>QoGStdCSJan18</td>\n",
       "      <td>NaN</td>\n",
       "      <td>NaN</td>\n",
       "      <td>22.0</td>\n",
       "      <td>13.0</td>\n",
       "      <td>...</td>\n",
       "      <td>NaN</td>\n",
       "      <td>NaN</td>\n",
       "      <td>NaN</td>\n",
       "      <td>NaN</td>\n",
       "      <td>NaN</td>\n",
       "      <td>NaN</td>\n",
       "      <td>NaN</td>\n",
       "      <td>NaN</td>\n",
       "      <td>NaN</td>\n",
       "      <td>NaN</td>\n",
       "    </tr>\n",
       "  </tbody>\n",
       "</table>\n",
       "<p>5 rows × 1882 columns</p>\n",
       "</div>"
      ],
      "text/plain": [
       "   ccode        cname ccodealp  ccodecow  ccodewb        version  aid_cpnc  \\\n",
       "0      4  Afghanistan      AFG     700.0      4.0  QoGStdCSJan18       NaN   \n",
       "1      8      Albania      ALB     339.0      8.0  QoGStdCSJan18       NaN   \n",
       "2     12      Algeria      DZA     615.0     12.0  QoGStdCSJan18       NaN   \n",
       "3     20      Andorra      AND     232.0     20.0  QoGStdCSJan18       NaN   \n",
       "4     24       Angola      AGO     540.0     24.0  QoGStdCSJan18       NaN   \n",
       "\n",
       "   aid_cpsc  aid_crnc  aid_crnio  ...  wvs_relacc  wvs_relsch  wvs_relsci  \\\n",
       "0       NaN      29.0       13.0  ...         NaN         NaN         NaN   \n",
       "1       NaN      26.0       13.0  ...         NaN         NaN         NaN   \n",
       "2       NaN      21.0        6.0  ...    3.710616    1.704692    3.681347   \n",
       "3       NaN       NaN        NaN  ...         NaN         NaN         NaN   \n",
       "4       NaN      22.0       13.0  ...         NaN         NaN         NaN   \n",
       "\n",
       "   wvs_satfin  wvs_satlif  wvs_screl  wvs_subh  wvs_survself  wvs_tradrat  \\\n",
       "0         NaN         NaN        NaN       NaN           NaN          NaN   \n",
       "1         NaN         NaN        NaN       NaN           NaN          NaN   \n",
       "2    5.988125    6.301029   5.339371  3.805579     -0.409807    -0.498164   \n",
       "3         NaN         NaN        NaN       NaN           NaN          NaN   \n",
       "4         NaN         NaN        NaN       NaN           NaN          NaN   \n",
       "\n",
       "   wvs_trust  \n",
       "0        NaN  \n",
       "1        NaN  \n",
       "2   0.179286  \n",
       "3        NaN  \n",
       "4        NaN  \n",
       "\n",
       "[5 rows x 1882 columns]"
      ]
     },
     "execution_count": 42,
     "metadata": {},
     "output_type": "execute_result"
    }
   ],
   "source": [
    "df = pd.read_csv(\"qog_std_cs_jan18.csv\")\n",
    "df.head()"
   ]
  },
  {
   "cell_type": "code",
   "execution_count": 35,
   "metadata": {},
   "outputs": [
    {
     "data": {
      "text/plain": [
       "(194, 1882)"
      ]
     },
     "execution_count": 35,
     "metadata": {},
     "output_type": "execute_result"
    }
   ],
   "source": [
    "df.shape"
   ]
  },
  {
   "cell_type": "code",
   "execution_count": 37,
   "metadata": {},
   "outputs": [
    {
     "data": {
      "text/plain": [
       "aid_cpnc         160\n",
       "aid_cpsc         160\n",
       "bs_ee            166\n",
       "bs_h             166\n",
       "bs_ij            166\n",
       "                ... \n",
       "une_dorg6pm      178\n",
       "une_dorg6pt      175\n",
       "wdi_peacekeep    176\n",
       "wdi_povgaprur    156\n",
       "wdi_povgapurb    156\n",
       "Length: 521, dtype: int64"
      ]
     },
     "execution_count": 37,
     "metadata": {},
     "output_type": "execute_result"
    }
   ],
   "source": [
    "df.isnull().sum()[df.isnull().sum().sort_values(ascending=False)/len(df) >0.8]"
   ]
  },
  {
   "cell_type": "markdown",
   "metadata": {},
   "source": [
    " #### Renombre las categorías de la variable ht_region de números a regiones."
   ]
  },
  {
   "cell_type": "code",
   "execution_count": 44,
   "metadata": {},
   "outputs": [
    {
     "data": {
      "text/plain": [
       "4     49\n",
       "1     28\n",
       "5     27\n",
       "3     20\n",
       "2     20\n",
       "10    13\n",
       "9     12\n",
       "7     11\n",
       "8      8\n",
       "6      6\n",
       "Name: ht_region, dtype: int64"
      ]
     },
     "execution_count": 44,
     "metadata": {},
     "output_type": "execute_result"
    }
   ],
   "source": [
    "df['ht_region'].value_counts()"
   ]
  },
  {
   "cell_type": "code",
   "execution_count": 45,
   "metadata": {},
   "outputs": [
    {
     "data": {
      "text/plain": [
       "SubSaharian      49\n",
       "EastEurope       28\n",
       "WesternDem       27\n",
       "NorthAfrica      20\n",
       "LatAm            20\n",
       "Caribbean        13\n",
       "Pacific          12\n",
       "SouthEastAsia    11\n",
       "SouthAsia         8\n",
       "EastAsia          6\n",
       "Name: ht_region, dtype: int64"
      ]
     },
     "execution_count": 45,
     "metadata": {},
     "output_type": "execute_result"
    }
   ],
   "source": [
    "df['ht_region'] = df['ht_region'].replace([1, 2, 3, 4, 5, 6, 7, 8, 9,10],['EastEurope', 'LatAm','NorthAfrica','SubSaharian','WesternDem','EastAsia','SouthEastAsia','SouthAsia','Pacific', 'Caribbean' ])\n",
    "df['ht_region'].value_counts()"
   ]
  },
  {
   "cell_type": "markdown",
   "metadata": {},
   "source": [
    "#### Seleccione el 50% de los casos.\n"
   ]
  },
  {
   "cell_type": "code",
   "execution_count": 29,
   "metadata": {},
   "outputs": [],
   "source": [
    "subsample_nz = df.sample(frac=.5, random_state=8864)"
   ]
  },
  {
   "cell_type": "markdown",
   "metadata": {},
   "source": [
    "#### Si su apellido está entre la N y la Z, escoja las siguientes variables del módulo Salud"
   ]
  },
  {
   "cell_type": "code",
   "execution_count": 47,
   "metadata": {},
   "outputs": [],
   "source": [
    "lista1 = ['wef_imort', 'who_alc2000', 'who_tobt', 'wdi_exph']"
   ]
  },
  {
   "cell_type": "markdown",
   "metadata": {},
   "source": [
    "#### Cada base generada debe contener los siguientes elementos\n",
    "\n",
    "- El índice de desarrollo humano (undp_hdi).\n",
    "- El nombre del país (ccodealp).\n",
    "- La región a la que pertenece (ht_region).\n",
    "- El PIB per capita. (gle_cgdpc).\n",
    "- El total de la población (imf_pop)."
   ]
  },
  {
   "cell_type": "code",
   "execution_count": 46,
   "metadata": {},
   "outputs": [],
   "source": [
    "lista2 = ['undp_hdi','ccodealp','ht_region','gle_cgdpc','imf_pop']\n",
    "lista_all= lista1 + lista2\n",
    "lista_all"
   ]
  },
  {
   "cell_type": "code",
   "execution_count": 49,
   "metadata": {},
   "outputs": [
    {
     "data": {
      "text/html": [
       "<div>\n",
       "<style scoped>\n",
       "    .dataframe tbody tr th:only-of-type {\n",
       "        vertical-align: middle;\n",
       "    }\n",
       "\n",
       "    .dataframe tbody tr th {\n",
       "        vertical-align: top;\n",
       "    }\n",
       "\n",
       "    .dataframe thead th {\n",
       "        text-align: right;\n",
       "    }\n",
       "</style>\n",
       "<table border=\"1\" class=\"dataframe\">\n",
       "  <thead>\n",
       "    <tr style=\"text-align: right;\">\n",
       "      <th></th>\n",
       "      <th>wef_imort</th>\n",
       "      <th>who_alc2000</th>\n",
       "      <th>who_tobt</th>\n",
       "      <th>wdi_exph</th>\n",
       "      <th>undp_hdi</th>\n",
       "      <th>ccodealp</th>\n",
       "      <th>ht_region</th>\n",
       "      <th>gle_cgdpc</th>\n",
       "      <th>imf_pop</th>\n",
       "    </tr>\n",
       "  </thead>\n",
       "  <tbody>\n",
       "    <tr>\n",
       "      <th>129</th>\n",
       "      <td>NaN</td>\n",
       "      <td>NaN</td>\n",
       "      <td>NaN</td>\n",
       "      <td>17.135723</td>\n",
       "      <td>NaN</td>\n",
       "      <td>MHL</td>\n",
       "      <td>9</td>\n",
       "      <td>2833.9700</td>\n",
       "      <td>0.054000</td>\n",
       "    </tr>\n",
       "    <tr>\n",
       "      <th>132</th>\n",
       "      <td>15.900000</td>\n",
       "      <td>6.74</td>\n",
       "      <td>7.400000</td>\n",
       "      <td>8.025723</td>\n",
       "      <td>0.785</td>\n",
       "      <td>PAN</td>\n",
       "      <td>2</td>\n",
       "      <td>15137.0400</td>\n",
       "      <td>3.788000</td>\n",
       "    </tr>\n",
       "    <tr>\n",
       "      <th>20</th>\n",
       "      <td>12.900000</td>\n",
       "      <td>7.32</td>\n",
       "      <td>16.100000</td>\n",
       "      <td>8.322834</td>\n",
       "      <td>0.754</td>\n",
       "      <td>BRA</td>\n",
       "      <td>2</td>\n",
       "      <td>9815.2402</td>\n",
       "      <td>202.768997</td>\n",
       "    </tr>\n",
       "    <tr>\n",
       "      <th>102</th>\n",
       "      <td>40.900002</td>\n",
       "      <td>0.87</td>\n",
       "      <td>NaN</td>\n",
       "      <td>3.041355</td>\n",
       "      <td>0.511</td>\n",
       "      <td>MDG</td>\n",
       "      <td>4</td>\n",
       "      <td>822.6200</td>\n",
       "      <td>NaN</td>\n",
       "    </tr>\n",
       "    <tr>\n",
       "      <th>173</th>\n",
       "      <td>NaN</td>\n",
       "      <td>0.96</td>\n",
       "      <td>30.200001</td>\n",
       "      <td>5.176771</td>\n",
       "      <td>0.718</td>\n",
       "      <td>TON</td>\n",
       "      <td>9</td>\n",
       "      <td>3962.0601</td>\n",
       "      <td>0.104000</td>\n",
       "    </tr>\n",
       "  </tbody>\n",
       "</table>\n",
       "</div>"
      ],
      "text/plain": [
       "     wef_imort  who_alc2000   who_tobt   wdi_exph  undp_hdi ccodealp  \\\n",
       "129        NaN          NaN        NaN  17.135723       NaN      MHL   \n",
       "132  15.900000         6.74   7.400000   8.025723     0.785      PAN   \n",
       "20   12.900000         7.32  16.100000   8.322834     0.754      BRA   \n",
       "102  40.900002         0.87        NaN   3.041355     0.511      MDG   \n",
       "173        NaN         0.96  30.200001   5.176771     0.718      TON   \n",
       "\n",
       "     ht_region   gle_cgdpc     imf_pop  \n",
       "129          9   2833.9700    0.054000  \n",
       "132          2  15137.0400    3.788000  \n",
       "20           2   9815.2402  202.768997  \n",
       "102          4    822.6200         NaN  \n",
       "173          9   3962.0601    0.104000  "
      ]
     },
     "execution_count": 49,
     "metadata": {},
     "output_type": "execute_result"
    }
   ],
   "source": [
    "subsample_nz = subsample_nz.loc[:, lista_all]\n",
    "subsample_nz.head()"
   ]
  }
 ],
 "metadata": {
  "hide_input": false,
  "interpreter": {
   "hash": "1761b0ef1ebcfc866327ee007a561c341ec345feec1343528c10f8861dfdd31f"
  },
  "kernelspec": {
   "display_name": "Python 3",
   "language": "python",
   "name": "python3"
  },
  "language_info": {
   "codemirror_mode": {
    "name": "ipython",
    "version": 3
   },
   "file_extension": ".py",
   "mimetype": "text/x-python",
   "name": "python",
   "nbconvert_exporter": "python",
   "pygments_lexer": "ipython3",
   "version": "3.7.3"
  },
  "toc": {
   "base_numbering": 1,
   "nav_menu": {},
   "number_sections": true,
   "sideBar": true,
   "skip_h1_title": false,
   "title_cell": "Table of Contents",
   "title_sidebar": "Contents",
   "toc_cell": false,
   "toc_position": {},
   "toc_section_display": true,
   "toc_window_display": false
  }
 },
 "nbformat": 4,
 "nbformat_minor": 2
}
