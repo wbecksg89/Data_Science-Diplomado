{
 "cells": [
  {
   "cell_type": "code",
   "execution_count": 1,
   "metadata": {
    "ExecuteTime": {
     "end_time": "2021-07-21T23:05:12.707161Z",
     "start_time": "2021-07-21T23:05:11.315253Z"
    }
   },
   "outputs": [],
   "source": [
    "import pandas as pd\n",
    "import numpy as np\n",
    "\n",
    "a = ['A','B','C','D','E','F','G','H']\n",
    "b = [100,23,67,87,91,56,101,34]"
   ]
  },
  {
   "cell_type": "code",
   "execution_count": 20,
   "metadata": {
    "ExecuteTime": {
     "end_time": "2021-07-21T23:21:51.655420Z",
     "start_time": "2021-07-21T23:21:51.644454Z"
    }
   },
   "outputs": [
    {
     "data": {
      "text/html": [
       "<div>\n",
       "<style scoped>\n",
       "    .dataframe tbody tr th:only-of-type {\n",
       "        vertical-align: middle;\n",
       "    }\n",
       "\n",
       "    .dataframe tbody tr th {\n",
       "        vertical-align: top;\n",
       "    }\n",
       "\n",
       "    .dataframe thead th {\n",
       "        text-align: right;\n",
       "    }\n",
       "</style>\n",
       "<table border=\"1\" class=\"dataframe\">\n",
       "  <thead>\n",
       "    <tr style=\"text-align: right;\">\n",
       "      <th></th>\n",
       "      <th>Evento</th>\n",
       "      <th>Ocurrencia</th>\n",
       "    </tr>\n",
       "  </thead>\n",
       "  <tbody>\n",
       "    <tr>\n",
       "      <th>0</th>\n",
       "      <td>A</td>\n",
       "      <td>100</td>\n",
       "    </tr>\n",
       "    <tr>\n",
       "      <th>1</th>\n",
       "      <td>B</td>\n",
       "      <td>23</td>\n",
       "    </tr>\n",
       "    <tr>\n",
       "      <th>2</th>\n",
       "      <td>C</td>\n",
       "      <td>67</td>\n",
       "    </tr>\n",
       "    <tr>\n",
       "      <th>3</th>\n",
       "      <td>D</td>\n",
       "      <td>87</td>\n",
       "    </tr>\n",
       "    <tr>\n",
       "      <th>4</th>\n",
       "      <td>E</td>\n",
       "      <td>91</td>\n",
       "    </tr>\n",
       "    <tr>\n",
       "      <th>5</th>\n",
       "      <td>F</td>\n",
       "      <td>56</td>\n",
       "    </tr>\n",
       "    <tr>\n",
       "      <th>6</th>\n",
       "      <td>G</td>\n",
       "      <td>101</td>\n",
       "    </tr>\n",
       "    <tr>\n",
       "      <th>7</th>\n",
       "      <td>H</td>\n",
       "      <td>34</td>\n",
       "    </tr>\n",
       "  </tbody>\n",
       "</table>\n",
       "</div>"
      ],
      "text/plain": [
       "  Evento  Ocurrencia\n",
       "0      A         100\n",
       "1      B          23\n",
       "2      C          67\n",
       "3      D          87\n",
       "4      E          91\n",
       "5      F          56\n",
       "6      G         101\n",
       "7      H          34"
      ]
     },
     "execution_count": 20,
     "metadata": {},
     "output_type": "execute_result"
    }
   ],
   "source": [
    "df = pd.DataFrame({'Evento':a,'Ocurrencia':b})\n",
    "df"
   ]
  },
  {
   "cell_type": "markdown",
   "metadata": {},
   "source": [
    "### 2) De la siguiente tabla, ¿Cuál es la probabilidad de ocurrencia de el evento 'B'?"
   ]
  },
  {
   "cell_type": "code",
   "execution_count": 48,
   "metadata": {
    "ExecuteTime": {
     "end_time": "2021-07-21T23:29:25.206653Z",
     "start_time": "2021-07-21T23:29:25.188698Z"
    }
   },
   "outputs": [
    {
     "data": {
      "text/plain": [
       "1    0.041145\n",
       "Name: Ocurrencia, dtype: float64"
      ]
     },
     "execution_count": 48,
     "metadata": {},
     "output_type": "execute_result"
    }
   ],
   "source": [
    "df[df['Evento']=='B']['Ocurrencia']/sum(df['Ocurrencia'])\n"
   ]
  },
  {
   "cell_type": "code",
   "execution_count": 47,
   "metadata": {
    "ExecuteTime": {
     "end_time": "2021-07-21T23:29:16.852746Z",
     "start_time": "2021-07-21T23:29:16.835792Z"
    }
   },
   "outputs": [
    {
     "data": {
      "text/plain": [
       "559"
      ]
     },
     "execution_count": 47,
     "metadata": {},
     "output_type": "execute_result"
    }
   ],
   "source": [
    "sum(df['Ocurrencia'])"
   ]
  },
  {
   "cell_type": "markdown",
   "metadata": {
    "ExecuteTime": {
     "end_time": "2021-07-21T23:48:34.948708Z",
     "start_time": "2021-07-21T23:48:34.925768Z"
    }
   },
   "source": [
    "### 3) De la siguiente tabla, ¿Qué porcentaje de datos concentran los eventos A, G y H?"
   ]
  },
  {
   "cell_type": "code",
   "execution_count": 81,
   "metadata": {
    "ExecuteTime": {
     "end_time": "2021-07-21T23:52:58.502828Z",
     "start_time": "2021-07-21T23:52:58.481876Z"
    }
   },
   "outputs": [
    {
     "data": {
      "text/plain": [
       "0.4203935599284436"
      ]
     },
     "execution_count": 81,
     "metadata": {},
     "output_type": "execute_result"
    }
   ],
   "source": [
    "sum(df[(df['Evento']=='A') | (df['Evento']=='G') | (df['Evento']=='H')]['Ocurrencia'])/sum(df['Ocurrencia'])"
   ]
  },
  {
   "cell_type": "markdown",
   "metadata": {},
   "source": [
    "### 4) De la siguiente tabla, la probabilidad de todos los eventos da un total de 550"
   ]
  },
  {
   "cell_type": "code",
   "execution_count": 82,
   "metadata": {
    "ExecuteTime": {
     "end_time": "2021-07-21T23:54:45.562200Z",
     "start_time": "2021-07-21T23:54:45.543251Z"
    }
   },
   "outputs": [],
   "source": [
    "# Falso"
   ]
  },
  {
   "cell_type": "markdown",
   "metadata": {},
   "source": [
    "### 5) De la siguiente tabla, ¿Cuál es la mejor manera para extraer la probabilidad de cada evento registrado en una variable?"
   ]
  },
  {
   "cell_type": "code",
   "execution_count": 91,
   "metadata": {
    "ExecuteTime": {
     "end_time": "2021-07-21T23:56:55.618477Z",
     "start_time": "2021-07-21T23:56:55.601521Z"
    }
   },
   "outputs": [
    {
     "name": "stdout",
     "output_type": "stream",
     "text": [
      "0.17889087656529518\n",
      "0.04114490161001789\n",
      "0.11985688729874776\n",
      "0.1556350626118068\n",
      "0.16279069767441862\n",
      "0.1001788908765653\n",
      "0.1806797853309481\n",
      "0.06082289803220036\n"
     ]
    }
   ],
   "source": [
    "for i in df['Ocurrencia']: \n",
    "    print(i / df['Ocurrencia'].sum())"
   ]
  },
  {
   "cell_type": "markdown",
   "metadata": {},
   "source": [
    "### 6) Interpretación de probabilidad condicional, encontrar la probabilidad dentro de los vespertino que haya asistido a solo 1 ayudantía"
   ]
  },
  {
   "cell_type": "code",
   "execution_count": 94,
   "metadata": {
    "ExecuteTime": {
     "end_time": "2021-07-22T00:02:40.849636Z",
     "start_time": "2021-07-22T00:02:40.835673Z"
    }
   },
   "outputs": [
    {
     "data": {
      "text/plain": [
       "0.4533333333333333"
      ]
     },
     "execution_count": 94,
     "metadata": {},
     "output_type": "execute_result"
    }
   ],
   "source": [
    "34/(34+26+15)"
   ]
  },
  {
   "cell_type": "markdown",
   "metadata": {},
   "source": [
    "### 7) Encontrar la probabilidad de los diurnos que asistieron a 2 o más ayudantías"
   ]
  },
  {
   "cell_type": "code",
   "execution_count": 96,
   "metadata": {
    "ExecuteTime": {
     "end_time": "2021-07-22T00:04:51.864977Z",
     "start_time": "2021-07-22T00:04:51.846025Z"
    }
   },
   "outputs": [
    {
     "data": {
      "text/plain": [
       "0.43333333333333335"
      ]
     },
     "execution_count": 96,
     "metadata": {},
     "output_type": "execute_result"
    }
   ],
   "source": [
    "diurnos_total = 34+20+6\n",
    "dos_o_mas = 20+6\n",
    "dos_o_mas/diurnos_total"
   ]
  },
  {
   "cell_type": "code",
   "execution_count": 113,
   "metadata": {
    "ExecuteTime": {
     "end_time": "2021-07-22T00:57:21.750974Z",
     "start_time": "2021-07-22T00:57:21.736015Z"
    }
   },
   "outputs": [],
   "source": [
    "def metodo1():\n",
    "    \n",
    "    def metodo2():\n",
    "        print(\"Hola Mundo\")\n",
    "        \n",
    "    return metodo2"
   ]
  },
  {
   "cell_type": "code",
   "execution_count": 114,
   "metadata": {
    "ExecuteTime": {
     "end_time": "2021-07-22T00:57:22.831962Z",
     "start_time": "2021-07-22T00:57:22.815023Z"
    }
   },
   "outputs": [
    {
     "data": {
      "text/plain": [
       "<function __main__.metodo1()>"
      ]
     },
     "execution_count": 114,
     "metadata": {},
     "output_type": "execute_result"
    }
   ],
   "source": [
    "(metodo1)"
   ]
  },
  {
   "cell_type": "code",
   "execution_count": null,
   "metadata": {},
   "outputs": [],
   "source": []
  },
  {
   "cell_type": "code",
   "execution_count": null,
   "metadata": {},
   "outputs": [],
   "source": []
  }
 ],
 "metadata": {
  "hide_input": false,
  "kernelspec": {
   "display_name": "Python 3",
   "language": "python",
   "name": "python3"
  },
  "language_info": {
   "codemirror_mode": {
    "name": "ipython",
    "version": 3
   },
   "file_extension": ".py",
   "mimetype": "text/x-python",
   "name": "python",
   "nbconvert_exporter": "python",
   "pygments_lexer": "ipython3",
   "version": "3.7.3"
  },
  "toc": {
   "base_numbering": 1,
   "nav_menu": {},
   "number_sections": true,
   "sideBar": true,
   "skip_h1_title": false,
   "title_cell": "Table of Contents",
   "title_sidebar": "Contents",
   "toc_cell": false,
   "toc_position": {},
   "toc_section_display": true,
   "toc_window_display": false
  }
 },
 "nbformat": 4,
 "nbformat_minor": 2
}
