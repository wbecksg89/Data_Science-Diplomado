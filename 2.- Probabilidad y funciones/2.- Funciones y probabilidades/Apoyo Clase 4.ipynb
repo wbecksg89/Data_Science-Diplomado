{
 "cells": [
  {
   "cell_type": "code",
   "execution_count": 1,
   "metadata": {
    "ExecuteTime": {
     "end_time": "2021-07-24T21:55:18.526680Z",
     "start_time": "2021-07-24T21:55:17.572342Z"
    }
   },
   "outputs": [
    {
     "data": {
      "text/html": [
       "<div>\n",
       "<style scoped>\n",
       "    .dataframe tbody tr th:only-of-type {\n",
       "        vertical-align: middle;\n",
       "    }\n",
       "\n",
       "    .dataframe tbody tr th {\n",
       "        vertical-align: top;\n",
       "    }\n",
       "\n",
       "    .dataframe thead th {\n",
       "        text-align: right;\n",
       "    }\n",
       "</style>\n",
       "<table border=\"1\" class=\"dataframe\">\n",
       "  <thead>\n",
       "    <tr style=\"text-align: right;\">\n",
       "      <th></th>\n",
       "      <th>nombre</th>\n",
       "      <th>edad</th>\n",
       "      <th>especie</th>\n",
       "    </tr>\n",
       "  </thead>\n",
       "  <tbody>\n",
       "    <tr>\n",
       "      <th>0</th>\n",
       "      <td>Neko</td>\n",
       "      <td>17</td>\n",
       "      <td>gato</td>\n",
       "    </tr>\n",
       "    <tr>\n",
       "      <th>1</th>\n",
       "      <td>Fantasma</td>\n",
       "      <td>5</td>\n",
       "      <td>erizo</td>\n",
       "    </tr>\n",
       "    <tr>\n",
       "      <th>2</th>\n",
       "      <td>Miti</td>\n",
       "      <td>10</td>\n",
       "      <td>gato</td>\n",
       "    </tr>\n",
       "    <tr>\n",
       "      <th>3</th>\n",
       "      <td>Bahamut</td>\n",
       "      <td>1</td>\n",
       "      <td>ratón</td>\n",
       "    </tr>\n",
       "    <tr>\n",
       "      <th>4</th>\n",
       "      <td>Maggie</td>\n",
       "      <td>7</td>\n",
       "      <td>perro</td>\n",
       "    </tr>\n",
       "    <tr>\n",
       "      <th>5</th>\n",
       "      <td>Alonso</td>\n",
       "      <td>2</td>\n",
       "      <td>perro</td>\n",
       "    </tr>\n",
       "  </tbody>\n",
       "</table>\n",
       "</div>"
      ],
      "text/plain": [
       "     nombre  edad especie\n",
       "0      Neko    17    gato\n",
       "1  Fantasma     5   erizo\n",
       "2      Miti    10    gato\n",
       "3   Bahamut     1   ratón\n",
       "4    Maggie     7   perro\n",
       "5    Alonso     2   perro"
      ]
     },
     "execution_count": 1,
     "metadata": {},
     "output_type": "execute_result"
    }
   ],
   "source": [
    "import numpy as np\n",
    "import pandas as pd\n",
    "\n",
    "df = pd.DataFrame([\n",
    "    {\"nombre\": \"Neko\", \"edad\": 17, \"especie\": \"gato\"}, \n",
    "    {\"nombre\": \"Fantasma\", \"edad\": 5, \"especie\": \"erizo\"}, \n",
    "    {\"nombre\": \"Miti\", \"edad\": 10, \"especie\": \"gato\"},\n",
    "    {\"nombre\": \"Bahamut\", \"edad\": 1, \"especie\": \"ratón\"}, \n",
    "    {\"nombre\": \"Maggie\", \"edad\": 7, \"especie\": \"perro\"}, \n",
    "    {\"nombre\": \"Alonso\", \"edad\": 2, \"especie\": \"perro\"}\n",
    "])\n",
    "df"
   ]
  },
  {
   "cell_type": "markdown",
   "metadata": {},
   "source": [
    "## Varianza de edad"
   ]
  },
  {
   "cell_type": "code",
   "execution_count": 3,
   "metadata": {},
   "outputs": [
    {
     "data": {
      "text/plain": [
       "0    17\n",
       "1     5\n",
       "2    10\n",
       "3     1\n",
       "4     7\n",
       "5     2\n",
       "Name: edad, dtype: int64"
      ]
     },
     "execution_count": 3,
     "metadata": {},
     "output_type": "execute_result"
    }
   ],
   "source": [
    "# Guardamos Serie que contiene edad\n",
    "edad = df[\"edad\"]\n",
    "edad"
   ]
  },
  {
   "cell_type": "code",
   "execution_count": 4,
   "metadata": {},
   "outputs": [
    {
     "data": {
      "text/plain": [
       "7.0"
      ]
     },
     "execution_count": 4,
     "metadata": {},
     "output_type": "execute_result"
    }
   ],
   "source": [
    "edad.mean()"
   ]
  },
  {
   "cell_type": "code",
   "execution_count": 3,
   "metadata": {},
   "outputs": [
    {
     "data": {
      "text/plain": [
       "0    10.0\n",
       "1    -2.0\n",
       "2     3.0\n",
       "3    -6.0\n",
       "4     0.0\n",
       "5    -5.0\n",
       "Name: edad, dtype: float64"
      ]
     },
     "execution_count": 3,
     "metadata": {},
     "output_type": "execute_result"
    }
   ],
   "source": [
    "# Verificamos la operación vectorizada de restar la media a cada valor\n",
    "edad - edad.mean()"
   ]
  },
  {
   "cell_type": "code",
   "execution_count": 7,
   "metadata": {},
   "outputs": [
    {
     "data": {
      "text/plain": [
       "0    100.0\n",
       "1      4.0\n",
       "2      9.0\n",
       "3     36.0\n",
       "4      0.0\n",
       "5     25.0\n",
       "Name: edad, dtype: float64"
      ]
     },
     "execution_count": 7,
     "metadata": {},
     "output_type": "execute_result"
    }
   ],
   "source": [
    "# Elevamos al cuadrado, en forma vectorizada, la operación anterior\n",
    "(edad - edad.mean()) ** 2"
   ]
  },
  {
   "cell_type": "code",
   "execution_count": 8,
   "metadata": {},
   "outputs": [
    {
     "data": {
      "text/plain": [
       "174.0"
      ]
     },
     "execution_count": 8,
     "metadata": {},
     "output_type": "execute_result"
    }
   ],
   "source": [
    "# Realizamos la suma vectorizada del resultado anterior\n",
    "sum((edad - edad.mean()) ** 2)"
   ]
  },
  {
   "cell_type": "code",
   "execution_count": 14,
   "metadata": {},
   "outputs": [
    {
     "data": {
      "text/plain": [
       "34.8"
      ]
     },
     "execution_count": 14,
     "metadata": {},
     "output_type": "execute_result"
    }
   ],
   "source": [
    "# Dividimos el resultado anterior por la cantidad de elementos del vector para obtener la varianza\n",
    "sum((edad - edad.mean()) ** 2) / (len(edad) - 1)"
   ]
  },
  {
   "cell_type": "code",
   "execution_count": 15,
   "metadata": {},
   "outputs": [
    {
     "data": {
      "text/plain": [
       "5.89915248150105"
      ]
     },
     "execution_count": 15,
     "metadata": {},
     "output_type": "execute_result"
    }
   ],
   "source": [
    "np.sqrt(sum((edad - edad.mean()) ** 2) / (len(edad) - 1))"
   ]
  },
  {
   "cell_type": "markdown",
   "metadata": {},
   "source": [
    "## Función que retorna un DataFrame"
   ]
  },
  {
   "cell_type": "code",
   "execution_count": 18,
   "metadata": {},
   "outputs": [],
   "source": [
    "def genera_dataframe(datos, columna_subsets, columna_metricas):\n",
    "    \"\"\"\n",
    "    Esta función genera un pandas.DataFrame a partir de una lista de diccionarios. Cada diccionario dentro de la lista \n",
    "    contiene tres columnas, la primera de tipo object, y las otras dos de tipo float, que corresponden a mínimo y máximo.\n",
    "    \n",
    "    Parámetros\n",
    "    ----------\n",
    "        - datos: De tipo pandas.DataFrame. Set de datos del cual extraer los datos para el nuevo DataFrame.\n",
    "        - columna_subsets: De tipo string. Nombre de la columnade 'datos' por la cual se quiere hacer subsets.\n",
    "        - columna_metricas: De tripo string. Nombre de la columa de 'datos' a la cual se quiere obtener mínimo y máximo.\n",
    "    \n",
    "    Retorno\n",
    "    -------\n",
    "        - Retorna un objeto de tipo pandas.DataFrame\n",
    "    \"\"\"\n",
    "    return False"
   ]
  },
  {
   "cell_type": "code",
   "execution_count": 19,
   "metadata": {},
   "outputs": [
    {
     "data": {
      "text/plain": [
       "False"
      ]
     },
     "execution_count": 19,
     "metadata": {},
     "output_type": "execute_result"
    }
   ],
   "source": [
    "genera_dataframe(df, \"especie\", \"edad\")"
   ]
  },
  {
   "cell_type": "code",
   "execution_count": 20,
   "metadata": {},
   "outputs": [
    {
     "data": {
      "text/plain": [
       "'Hola mundo'"
      ]
     },
     "execution_count": 20,
     "metadata": {},
     "output_type": "execute_result"
    }
   ],
   "source": [
    "\"Hola {}\".format(\"mundo\")"
   ]
  },
  {
   "cell_type": "code",
   "execution_count": 21,
   "metadata": {},
   "outputs": [
    {
     "data": {
      "text/plain": [
       "'Hola mundo'"
      ]
     },
     "execution_count": 21,
     "metadata": {},
     "output_type": "execute_result"
    }
   ],
   "source": [
    "variable = \"mundo\"\n",
    "f\"Hola {variable}\""
   ]
  },
  {
   "cell_type": "code",
   "execution_count": 24,
   "metadata": {},
   "outputs": [
    {
     "name": "stdout",
     "output_type": "stream",
     "text": [
      "['gato' 'erizo' 'ratón' 'perro']\n",
      "\n",
      "gato\n",
      "  nombre  edad especie\n",
      "0   Neko    17    gato\n",
      "2   Miti    10    gato\n",
      "\n",
      "erizo\n",
      "     nombre  edad especie\n",
      "1  Fantasma     5   erizo\n",
      "\n",
      "ratón\n",
      "    nombre  edad especie\n",
      "3  Bahamut     1   ratón\n",
      "\n",
      "perro\n",
      "   nombre  edad especie\n",
      "4  Maggie     7   perro\n",
      "5  Alonso     2   perro\n"
     ]
    },
    {
     "data": {
      "text/html": [
       "<div>\n",
       "<style scoped>\n",
       "    .dataframe tbody tr th:only-of-type {\n",
       "        vertical-align: middle;\n",
       "    }\n",
       "\n",
       "    .dataframe tbody tr th {\n",
       "        vertical-align: top;\n",
       "    }\n",
       "\n",
       "    .dataframe thead th {\n",
       "        text-align: right;\n",
       "    }\n",
       "</style>\n",
       "<table border=\"1\" class=\"dataframe\">\n",
       "  <thead>\n",
       "    <tr style=\"text-align: right;\">\n",
       "      <th></th>\n",
       "      <th>especie</th>\n",
       "      <th>min_edad</th>\n",
       "      <th>max_edad</th>\n",
       "    </tr>\n",
       "  </thead>\n",
       "  <tbody>\n",
       "    <tr>\n",
       "      <th>0</th>\n",
       "      <td>gato</td>\n",
       "      <td>10</td>\n",
       "      <td>17</td>\n",
       "    </tr>\n",
       "    <tr>\n",
       "      <th>1</th>\n",
       "      <td>erizo</td>\n",
       "      <td>5</td>\n",
       "      <td>5</td>\n",
       "    </tr>\n",
       "    <tr>\n",
       "      <th>2</th>\n",
       "      <td>ratón</td>\n",
       "      <td>1</td>\n",
       "      <td>1</td>\n",
       "    </tr>\n",
       "    <tr>\n",
       "      <th>3</th>\n",
       "      <td>perro</td>\n",
       "      <td>2</td>\n",
       "      <td>7</td>\n",
       "    </tr>\n",
       "  </tbody>\n",
       "</table>\n",
       "</div>"
      ],
      "text/plain": [
       "  especie  min_edad  max_edad\n",
       "0    gato        10        17\n",
       "1   erizo         5         5\n",
       "2   ratón         1         1\n",
       "3   perro         2         7"
      ]
     },
     "execution_count": 24,
     "metadata": {},
     "output_type": "execute_result"
    }
   ],
   "source": [
    "# Código que se debiera refactorizar en la función\n",
    "\n",
    "# parametro: columna_para_generar_subset = Ej: \"especie\"\n",
    "# parametro: data = Ej: df\n",
    "# parametro: columna_para_estadistica = E: \"edad\"\n",
    "\n",
    "# Ejemplo refactorizacion\n",
    "# nombres_subsets = data[columna_para_generar_subset].unique()\n",
    "# { f\"min_{columna_para_estadistica}\": subset[columna_para_estadistica].min() }\n",
    "\n",
    "filas = []\n",
    "nombres_subsets = df[\"especie\"].unique() # Se debe reemplazar \"especie\" por un parámetro\n",
    "print(nombres_subsets)\n",
    "    \n",
    "for i in nombres_subsets:\n",
    "    print(\"\\n\"+i)\n",
    "\n",
    "    subset = df[df[\"especie\"] == i] # Se debe reemplazar \"especie\" por un parámetro\n",
    "    print(subset)\n",
    "\n",
    "    filas.append({\n",
    "        \"especie\": i, # Se debe reemplazar \"especie\" por un parámetro\n",
    "        \"min_edad\": subset[\"edad\"].min(), # Se debe reemplazar \"edad\" por un parámetro\n",
    "        \"max_edad\": subset[\"edad\"].max() # Se debe reemplazar \"edad\" por un parámetro\n",
    "    })\n",
    "        \n",
    "pd.DataFrame(filas)"
   ]
  },
  {
   "cell_type": "code",
   "execution_count": 24,
   "metadata": {},
   "outputs": [
    {
     "data": {
      "text/plain": [
       "dtype('O')"
      ]
     },
     "execution_count": 24,
     "metadata": {},
     "output_type": "execute_result"
    }
   ],
   "source": [
    "df[\"especie\"].dtype"
   ]
  },
  {
   "cell_type": "code",
   "execution_count": 25,
   "metadata": {},
   "outputs": [
    {
     "data": {
      "text/plain": [
       "dtype('int64')"
      ]
     },
     "execution_count": 25,
     "metadata": {},
     "output_type": "execute_result"
    }
   ],
   "source": [
    "df[\"edad\"].dtype"
   ]
  },
  {
   "cell_type": "code",
   "execution_count": 35,
   "metadata": {},
   "outputs": [
    {
     "data": {
      "text/plain": [
       "True"
      ]
     },
     "execution_count": 35,
     "metadata": {},
     "output_type": "execute_result"
    }
   ],
   "source": [
    "df[\"edad\"].dtype == 'int64' or df[\"edad\"].dtype == 'float64'"
   ]
  },
  {
   "cell_type": "code",
   "execution_count": 30,
   "metadata": {},
   "outputs": [
    {
     "data": {
      "text/plain": [
       "dtype('float64')"
      ]
     },
     "execution_count": 30,
     "metadata": {},
     "output_type": "execute_result"
    }
   ],
   "source": [
    "df[\"decimal\"] = 0.0\n",
    "df[\"decimal\"].dtype"
   ]
  },
  {
   "cell_type": "code",
   "execution_count": 34,
   "metadata": {},
   "outputs": [
    {
     "data": {
      "text/plain": [
       "True"
      ]
     },
     "execution_count": 34,
     "metadata": {},
     "output_type": "execute_result"
    }
   ],
   "source": [
    "from pandas.api.types import is_numeric_dtype\n",
    "is_numeric_dtype(df['edad'])"
   ]
  },
  {
   "cell_type": "code",
   "execution_count": 36,
   "metadata": {},
   "outputs": [
    {
     "data": {
      "text/plain": [
       "True"
      ]
     },
     "execution_count": 36,
     "metadata": {},
     "output_type": "execute_result"
    }
   ],
   "source": [
    "isinstance(df[\"especie\"], pd.Series)"
   ]
  },
  {
   "cell_type": "code",
   "execution_count": 39,
   "metadata": {},
   "outputs": [],
   "source": [
    "# df[\"nombre\"].mean()"
   ]
  },
  {
   "cell_type": "markdown",
   "metadata": {},
   "source": [
    "## Numpy"
   ]
  },
  {
   "cell_type": "code",
   "execution_count": 12,
   "metadata": {
    "ExecuteTime": {
     "end_time": "2021-07-24T21:56:26.481034Z",
     "start_time": "2021-07-24T21:56:26.469068Z"
    }
   },
   "outputs": [
    {
     "data": {
      "text/plain": [
       "'Azul'"
      ]
     },
     "execution_count": 12,
     "metadata": {},
     "output_type": "execute_result"
    }
   ],
   "source": [
    "# Elegir un elemento de una lista al azar\n",
    "np.random.choice([\"Azul\", \"Verde\"]) # Ver documentación"
   ]
  },
  {
   "cell_type": "code",
   "execution_count": 33,
   "metadata": {},
   "outputs": [
    {
     "data": {
      "text/plain": [
       "['Verde', 'Azul', 'Verde']"
      ]
     },
     "execution_count": 33,
     "metadata": {},
     "output_type": "execute_result"
    }
   ],
   "source": [
    "colores = [np.random.choice([\"Azul\", \"Verde\"]), np.random.choice([\"Azul\", \"Verde\"]), np.random.choice([\"Azul\", \"Verde\"])]\n",
    "colores"
   ]
  },
  {
   "cell_type": "code",
   "execution_count": 35,
   "metadata": {},
   "outputs": [
    {
     "data": {
      "text/plain": [
       "2"
      ]
     },
     "execution_count": 35,
     "metadata": {},
     "output_type": "execute_result"
    }
   ],
   "source": [
    "# Cantidad de verdes\n",
    "colores.count(\"Verde\") # Ver documentación"
   ]
  },
  {
   "cell_type": "code",
   "execution_count": 36,
   "metadata": {},
   "outputs": [
    {
     "data": {
      "text/plain": [
       "0.6666666666666666"
      ]
     },
     "execution_count": 36,
     "metadata": {},
     "output_type": "execute_result"
    }
   ],
   "source": [
    "# La probabilidad de tener un verde sería:\n",
    "colores.count(\"Verde\") / 3"
   ]
  },
  {
   "cell_type": "code",
   "execution_count": 8,
   "metadata": {
    "ExecuteTime": {
     "end_time": "2021-07-24T21:55:25.070963Z",
     "start_time": "2021-07-24T21:55:25.060992Z"
    }
   },
   "outputs": [
    {
     "data": {
      "text/plain": [
       "'Azul'"
      ]
     },
     "execution_count": 8,
     "metadata": {},
     "output_type": "execute_result"
    }
   ],
   "source": [
    "np.random.seed(2) # Ver documentación\n",
    "np.random.choice([\"Azul\", \"Verde\"]) "
   ]
  },
  {
   "cell_type": "code",
   "execution_count": 33,
   "metadata": {
    "ExecuteTime": {
     "end_time": "2021-07-24T22:03:20.311946Z",
     "start_time": "2021-07-24T22:03:20.293990Z"
    }
   },
   "outputs": [],
   "source": [
    "def simulate_pets_prob(total_simulaciones):\n",
    "    np.random.seed(1)\n",
    "    por_lo_menos_1_es_perro = 0\n",
    "    por_lo_menos_1_es_perro_viejo = 0\n",
    "    los_dos_son_perros = 0\n",
    "    \n",
    "    for simulacion in range(total_simulaciones):\n",
    "        young_pet = generate_pet()\n",
    "        old_pet = generate_pet()\n",
    "        \n",
    "        if young_pet == \"perro\" or old_pet == \"perro\":\n",
    "            por_lo_menos_1_es_perro += 1\n",
    "        \n",
    "        if old_pet == \"perro\":\n",
    "            por_lo_menos_1_es_perro_viejo += 1\n",
    "            \n",
    "        if young_pet == \"perro\" and old_pet == \"perro\":\n",
    "            los_dos_son_perros += 1\n",
    "        \n",
    "    print(f\"La probabilidad de por lo menos un perro es {por_lo_menos_1_es_perro / n_sims}\")"
   ]
  },
  {
   "cell_type": "code",
   "execution_count": 34,
   "metadata": {
    "ExecuteTime": {
     "end_time": "2021-07-24T22:03:20.741724Z",
     "start_time": "2021-07-24T22:03:20.724769Z"
    }
   },
   "outputs": [
    {
     "name": "stdout",
     "output_type": "stream",
     "text": [
      "La probabilidad de por lo menos un perro es 0.25\n"
     ]
    }
   ],
   "source": [
    "simulate_pets_prob(4)"
   ]
  },
  {
   "cell_type": "code",
   "execution_count": null,
   "metadata": {},
   "outputs": [],
   "source": []
  }
 ],
 "metadata": {
  "hide_input": false,
  "kernelspec": {
   "display_name": "Python 3",
   "language": "python",
   "name": "python3"
  },
  "language_info": {
   "codemirror_mode": {
    "name": "ipython",
    "version": 3
   },
   "file_extension": ".py",
   "mimetype": "text/x-python",
   "name": "python",
   "nbconvert_exporter": "python",
   "pygments_lexer": "ipython3",
   "version": "3.7.3"
  },
  "toc": {
   "base_numbering": 1,
   "nav_menu": {},
   "number_sections": true,
   "sideBar": true,
   "skip_h1_title": false,
   "title_cell": "Table of Contents",
   "title_sidebar": "Contents",
   "toc_cell": false,
   "toc_position": {},
   "toc_section_display": true,
   "toc_window_display": false
  }
 },
 "nbformat": 4,
 "nbformat_minor": 4
}
