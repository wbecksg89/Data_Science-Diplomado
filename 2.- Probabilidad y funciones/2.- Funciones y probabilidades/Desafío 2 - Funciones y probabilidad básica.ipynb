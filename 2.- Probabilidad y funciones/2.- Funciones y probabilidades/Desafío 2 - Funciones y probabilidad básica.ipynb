{
 "cells": [
  {
   "cell_type": "markdown",
   "metadata": {},
   "source": [
    "## Desafío2: Generación de funciones\n",
    "* Autor: Walther Becks"
   ]
  },
  {
   "cell_type": "markdown",
   "metadata": {},
   "source": [
    "### Desafío 1: Generación de funciones\n",
    "* Genere funciones para calcular la media y varianza de un vector. Debe cumplir con\n",
    "los siguientes requisitos:\n",
    "    * Ambas funciones deben ingresar un argumento x correspondiente al vector.\n",
    "    * Las funciones deben contener docstrings con la documentación asociada a\n",
    "la variable y retornar un valor utilizando return.\n",
    "    * La función de la varianza debe llamar a la función de la media.\n",
    "* Utilice las funciones para reportar la información sobre goles_favor, goles_contra\n",
    "y puntos."
   ]
  },
  {
   "cell_type": "code",
   "execution_count": 1,
   "metadata": {
    "ExecuteTime": {
     "end_time": "2022-04-16T19:24:29.997538Z",
     "start_time": "2022-04-16T19:24:28.801490Z"
    }
   },
   "outputs": [],
   "source": [
    "import pandas as pd\n",
    "import numpy as np\n",
    "vector = [1,2,3,4,5]\n"
   ]
  },
  {
   "cell_type": "code",
   "execution_count": 34,
   "metadata": {
    "ExecuteTime": {
     "end_time": "2022-04-16T19:35:50.688671Z",
     "start_time": "2022-04-16T19:35:50.664549Z"
    }
   },
   "outputs": [
    {
     "name": "stdout",
     "output_type": "stream",
     "text": [
      "Media & Varianza: Goles a favor, goles en contra y puntos respectivamente:((4.25, 5.1875), (4.25, 4.8125), (4.21875, 8.0458984375))\n"
     ]
    }
   ],
   "source": [
    "def varianza_vector(x):\n",
    "    \"\"\"\n",
    "    Esta función genera la media y varianza de un vector dado\n",
    "    \"\"\"\n",
    "\n",
    "    tmp_var = np.var(x)\n",
    "    \n",
    "    def media_vector(x):\n",
    "        tmp_mean = np.mean(x)\n",
    "        return tmp_mean\n",
    "    return media_vector(x), tmp_var\n",
    "\n",
    "df = pd.read_csv('worldcup2014.csv')\n",
    "print(f\"Media & Varianza: Goles a favor, goles en contra y puntos respectivamente:{varianza_vector(df['goles_favor']),varianza_vector(df['goles_contra']),varianza_vector(df['puntos'])}\")\n",
    "\n",
    "    "
   ]
  },
  {
   "cell_type": "markdown",
   "metadata": {},
   "source": [
    "### Desafío 2:\n",
    "Utilizando el método groupby de la clase DataFrame, en conjunto con la función .agg de\n",
    "pandas, calcule la media, la varianza y desviación estándar de la cantidad de goles a favor,\n",
    "en contra y de la cantidad de puntos por continente.\n",
    "* ¿En qué continente se observa una mayor cantidad de goles a favor?\n",
    "* ¿En qué continente se observa una mayor cantidad de goles en contra?\n",
    "* ¿En qué continente se observa una mayor cantidad de puntos en promedio?"
   ]
  },
  {
   "cell_type": "code",
   "execution_count": 39,
   "metadata": {
    "ExecuteTime": {
     "end_time": "2022-04-16T19:38:55.894934Z",
     "start_time": "2022-04-16T19:38:55.851052Z"
    },
    "scrolled": false
   },
   "outputs": [
    {
     "data": {
      "text/html": [
       "<div>\n",
       "<style scoped>\n",
       "    .dataframe tbody tr th:only-of-type {\n",
       "        vertical-align: middle;\n",
       "    }\n",
       "\n",
       "    .dataframe tbody tr th {\n",
       "        vertical-align: top;\n",
       "    }\n",
       "\n",
       "    .dataframe thead tr th {\n",
       "        text-align: left;\n",
       "    }\n",
       "\n",
       "    .dataframe thead tr:last-of-type th {\n",
       "        text-align: right;\n",
       "    }\n",
       "</style>\n",
       "<table border=\"1\" class=\"dataframe\">\n",
       "  <thead>\n",
       "    <tr>\n",
       "      <th></th>\n",
       "      <th colspan=\"4\" halign=\"left\">goles_favor</th>\n",
       "      <th colspan=\"4\" halign=\"left\">goles_contra</th>\n",
       "      <th colspan=\"4\" halign=\"left\">puntos</th>\n",
       "    </tr>\n",
       "    <tr>\n",
       "      <th></th>\n",
       "      <th>mean</th>\n",
       "      <th>var</th>\n",
       "      <th>std</th>\n",
       "      <th>sum</th>\n",
       "      <th>mean</th>\n",
       "      <th>var</th>\n",
       "      <th>std</th>\n",
       "      <th>sum</th>\n",
       "      <th>mean</th>\n",
       "      <th>var</th>\n",
       "      <th>std</th>\n",
       "      <th>sum</th>\n",
       "    </tr>\n",
       "    <tr>\n",
       "      <th>continent</th>\n",
       "      <th></th>\n",
       "      <th></th>\n",
       "      <th></th>\n",
       "      <th></th>\n",
       "      <th></th>\n",
       "      <th></th>\n",
       "      <th></th>\n",
       "      <th></th>\n",
       "      <th></th>\n",
       "      <th></th>\n",
       "      <th></th>\n",
       "      <th></th>\n",
       "    </tr>\n",
       "  </thead>\n",
       "  <tbody>\n",
       "    <tr>\n",
       "      <th>africa</th>\n",
       "      <td>3.600000</td>\n",
       "      <td>3.300000</td>\n",
       "      <td>1.816590</td>\n",
       "      <td>18</td>\n",
       "      <td>5.600000</td>\n",
       "      <td>4.800000</td>\n",
       "      <td>2.190890</td>\n",
       "      <td>28</td>\n",
       "      <td>2.400000</td>\n",
       "      <td>3.300000</td>\n",
       "      <td>1.816590</td>\n",
       "      <td>12</td>\n",
       "    </tr>\n",
       "    <tr>\n",
       "      <th>asia</th>\n",
       "      <td>2.250000</td>\n",
       "      <td>0.916667</td>\n",
       "      <td>0.957427</td>\n",
       "      <td>9</td>\n",
       "      <td>6.250000</td>\n",
       "      <td>4.250000</td>\n",
       "      <td>2.061553</td>\n",
       "      <td>25</td>\n",
       "      <td>0.750000</td>\n",
       "      <td>0.250000</td>\n",
       "      <td>0.500000</td>\n",
       "      <td>3</td>\n",
       "    </tr>\n",
       "    <tr>\n",
       "      <th>europe</th>\n",
       "      <td>4.769231</td>\n",
       "      <td>6.858974</td>\n",
       "      <td>2.618964</td>\n",
       "      <td>62</td>\n",
       "      <td>4.000000</td>\n",
       "      <td>3.833333</td>\n",
       "      <td>1.957890</td>\n",
       "      <td>52</td>\n",
       "      <td>4.692308</td>\n",
       "      <td>6.897436</td>\n",
       "      <td>2.626297</td>\n",
       "      <td>61</td>\n",
       "    </tr>\n",
       "    <tr>\n",
       "      <th>northamerica</th>\n",
       "      <td>3.250000</td>\n",
       "      <td>2.250000</td>\n",
       "      <td>1.500000</td>\n",
       "      <td>13</td>\n",
       "      <td>3.500000</td>\n",
       "      <td>11.000000</td>\n",
       "      <td>3.316625</td>\n",
       "      <td>14</td>\n",
       "      <td>4.500000</td>\n",
       "      <td>11.000000</td>\n",
       "      <td>3.316625</td>\n",
       "      <td>18</td>\n",
       "    </tr>\n",
       "    <tr>\n",
       "      <th>southamerica</th>\n",
       "      <td>5.666667</td>\n",
       "      <td>4.666667</td>\n",
       "      <td>2.160247</td>\n",
       "      <td>34</td>\n",
       "      <td>2.833333</td>\n",
       "      <td>0.566667</td>\n",
       "      <td>0.752773</td>\n",
       "      <td>17</td>\n",
       "      <td>6.833333</td>\n",
       "      <td>3.766667</td>\n",
       "      <td>1.940790</td>\n",
       "      <td>41</td>\n",
       "    </tr>\n",
       "  </tbody>\n",
       "</table>\n",
       "</div>"
      ],
      "text/plain": [
       "             goles_favor                         goles_contra             \\\n",
       "                    mean       var       std sum         mean        var   \n",
       "continent                                                                  \n",
       "africa          3.600000  3.300000  1.816590  18     5.600000   4.800000   \n",
       "asia            2.250000  0.916667  0.957427   9     6.250000   4.250000   \n",
       "europe          4.769231  6.858974  2.618964  62     4.000000   3.833333   \n",
       "northamerica    3.250000  2.250000  1.500000  13     3.500000  11.000000   \n",
       "southamerica    5.666667  4.666667  2.160247  34     2.833333   0.566667   \n",
       "\n",
       "                              puntos                           \n",
       "                   std sum      mean        var       std sum  \n",
       "continent                                                      \n",
       "africa        2.190890  28  2.400000   3.300000  1.816590  12  \n",
       "asia          2.061553  25  0.750000   0.250000  0.500000   3  \n",
       "europe        1.957890  52  4.692308   6.897436  2.626297  61  \n",
       "northamerica  3.316625  14  4.500000  11.000000  3.316625  18  \n",
       "southamerica  0.752773  17  6.833333   3.766667  1.940790  41  "
      ]
     },
     "execution_count": 39,
     "metadata": {},
     "output_type": "execute_result"
    }
   ],
   "source": [
    "grp = df.groupby(by='continent')[['goles_favor','goles_contra','puntos']].agg(['mean','var','std','sum'])\n",
    "grp"
   ]
  },
  {
   "cell_type": "code",
   "execution_count": 40,
   "metadata": {
    "ExecuteTime": {
     "end_time": "2022-04-16T19:38:57.840326Z",
     "start_time": "2022-04-16T19:38:57.825364Z"
    }
   },
   "outputs": [
    {
     "name": "stdout",
     "output_type": "stream",
     "text": [
      "Continente que se observa una mayor cantidad de goles a favor: europe\n",
      "Continente que se observa una mayor cantidad de goles en contra: europe\n",
      "Continente que se observa una mayor cantidad de puntos en promedio: southamerica\n"
     ]
    }
   ],
   "source": [
    "print(f\"Continente que se observa una mayor cantidad de goles a favor: {grp['goles_favor']['sum'].idxmax()}\")\n",
    "print(f\"Continente que se observa una mayor cantidad de goles en contra: {grp['goles_contra']['sum'].idxmax()}\")\n",
    "print(f\"Continente que se observa una mayor cantidad de puntos en promedio: {grp['puntos']['mean'].idxmax()}\")      "
   ]
  },
  {
   "cell_type": "markdown",
   "metadata": {},
   "source": [
    "### Desafío 3: Simulaciones\n",
    "* Genere una función generate_pet que devuelva de forma aleatoria un string\n",
    "'perro' o 'gato' un número n de veces. Ejecútela un par de veces.\n",
    "    * Tip: Puede utilizar la función np.random.choice para retornar elementos al\n",
    "azar.\n",
    "* Aplique la función generate_pet para generar 20 muestras.\n",
    "* ¿Cuál es la probabilidad de elegir un perro al azar? ¿Y un gato?\n",
    "* Agregue np.random.seed(2) al inicio del chunk. ¿Qué diferencia hay cuando se\n",
    "ejecuta la función varias veces luego de fijar la semilla?\n"
   ]
  },
  {
   "cell_type": "code",
   "execution_count": 62,
   "metadata": {
    "ExecuteTime": {
     "end_time": "2022-04-16T19:49:44.098897Z",
     "start_time": "2022-04-16T19:49:44.074961Z"
    }
   },
   "outputs": [
    {
     "name": "stdout",
     "output_type": "stream",
     "text": [
      "la probabilidad de escoger un perro alazar es: 0.5\n",
      "la probabilidad de escoger un gato alazar es: 0.5\n",
      "La diferencia cuando se ejecuta la función varias veces luego de fijar la semilla es que los numeros aleatorios que se generan se mantienen\n"
     ]
    }
   ],
   "source": [
    "def generate_pet(x):\n",
    "    #np.random.seed(2)\n",
    "    result = np.random.choice(['perro', 'gato'], x)\n",
    "    result = pd.DataFrame(result)\n",
    "    return (result)\n",
    "muestra_20 = generate_pet(20)\n",
    "print(f\"la probabilidad de escoger un perro alazar es: {muestra_20.value_counts(normalize=True)['perro']}\")\n",
    "print(f\"la probabilidad de escoger un gato alazar es: {muestra_20.value_counts(normalize=True)['gato']}\")\n",
    "print(\"La diferencia cuando se ejecuta la función varias veces luego de fijar la semilla es que los numeros aleatorios que se generan se mantienen\")"
   ]
  },
  {
   "cell_type": "markdown",
   "metadata": {},
   "source": [
    "### Desafío 4: Función simuladora\n",
    "* Genere una función llamada simulate_pets_prob que tome como argumento un\n",
    "número finito de simulaciones a generar.\n",
    "* La función debe simular dos situaciones young_pet y old_pet, y contar la\n",
    "ocurrencia de los siguientes casos:\n",
    "    * De las dos mascotas simuladas (young y old), contar las ocasiones donde\n",
    "por lo menos una de las mascotas sea un perro.\n",
    "    * De las dos mascotas simuladas, contar las ocasiones donde old_pet sea un\n",
    "perro.\n",
    "    * De las dos mascotas simuladas, contar las ocasiones donde los dos sean\n",
    "perros.\n",
    "* El método debe tener una semilla pseudoaleatoria de 1.\n",
    "* El output de la función debe entregarse en términos de Probabilidad.\n",
    "* De los tres escenarios, ¿Cuál es el menos probable? ¿Cuál es el más probable? ¿Por\n",
    "qué?"
   ]
  },
  {
   "cell_type": "code",
   "execution_count": 67,
   "metadata": {
    "ExecuteTime": {
     "end_time": "2022-04-16T20:22:04.745338Z",
     "start_time": "2022-04-16T20:22:04.737359Z"
    }
   },
   "outputs": [],
   "source": [
    "def simulate_pets_prob(x):\n",
    "    np.random.seed(1)\n",
    "    al_menos_perro_count = 0\n",
    "    old_pet_perro = 0\n",
    "    young_perro = 0\n",
    "    \n",
    "    for i in range(x):\n",
    "        \n",
    "        young_pet = generate_pet(1)[0][0]\n",
    "        old_pet = generate_pet(1)[0][0]\n",
    "        #print(young_pet,old_pet)\n",
    "        if 'perro' in old_pet or 'perro' in young_pet:\n",
    "            al_menos_perro_count+=1\n",
    "        if old_pet=='perro':\n",
    "            old_pet_perro+=1\n",
    "        if young_pet=='perro' and old_pet=='perro':\n",
    "            young_perro +=1\n",
    "    print(f\"La probabilidad de que al menos una de las mascotas simuladas sea un perro es: {al_menos_perro_count/x}\")\n",
    "    print(f\"Probabilidad de que en la ocación de old_pet sea perro es: {old_pet_perro/x}\")\n",
    "    print(f\"La probabilidad de que ambos sean perros: {young_perro/x}\")\n",
    "    "
   ]
  },
  {
   "cell_type": "code",
   "execution_count": 68,
   "metadata": {
    "ExecuteTime": {
     "end_time": "2022-04-16T20:22:05.181673Z",
     "start_time": "2022-04-16T20:22:05.162753Z"
    }
   },
   "outputs": [
    {
     "name": "stdout",
     "output_type": "stream",
     "text": [
      "La probabilidad de que al menos una de las mascotas simuladas sea un perro es: 0.5\n",
      "Probabilidad de que en la ocación de old_pet sea perro es: 0.3333333333333333\n",
      "La probabilidad de que ambos sean perros: 0.16666666666666666\n"
     ]
    }
   ],
   "source": [
    "simulate_pets_prob(6)"
   ]
  },
  {
   "cell_type": "code",
   "execution_count": 72,
   "metadata": {
    "ExecuteTime": {
     "end_time": "2022-04-16T20:30:35.755331Z",
     "start_time": "2022-04-16T20:30:35.749347Z"
    }
   },
   "outputs": [
    {
     "name": "stdout",
     "output_type": "stream",
     "text": [
      "De los escenarios el menos probable es que old pet sea perro, el más probable es que al menos una de las mascotas simuladas sea perro y que ambos sean perros 16% es la menor. Esto es debido a cómo se compone el generador de mascotas de la función anterior, es razonable que al menos uno sea perro es 50% debido a que es el valor del generador anterior, luego la probabilidad disminuye debido al hecho de que se le piden más criterior y por lo tanto el árbol de decisión crece.\n"
     ]
    }
   ],
   "source": [
    "print(\"De los escenarios el menos probable es que old pet sea perro, el más probable es que al menos una de las mascotas simuladas sea perro y que ambos sean perros 16% es la menor. Esto es debido a cómo se compone el generador de mascotas de la función anterior, es razonable que al menos uno sea perro es 50% debido a que es el valor del generador anterior, luego la probabilidad disminuye debido al hecho de que se le piden más criterior y por lo tanto el árbol de decisión crece.\")"
   ]
  },
  {
   "cell_type": "code",
   "execution_count": null,
   "metadata": {},
   "outputs": [],
   "source": []
  }
 ],
 "metadata": {
  "hide_input": false,
  "kernelspec": {
   "display_name": "Python 3",
   "language": "python",
   "name": "python3"
  },
  "language_info": {
   "codemirror_mode": {
    "name": "ipython",
    "version": 3
   },
   "file_extension": ".py",
   "mimetype": "text/x-python",
   "name": "python",
   "nbconvert_exporter": "python",
   "pygments_lexer": "ipython3",
   "version": "3.7.3"
  },
  "toc": {
   "base_numbering": 1,
   "nav_menu": {},
   "number_sections": true,
   "sideBar": true,
   "skip_h1_title": false,
   "title_cell": "Table of Contents",
   "title_sidebar": "Contents",
   "toc_cell": false,
   "toc_position": {},
   "toc_section_display": true,
   "toc_window_display": false
  }
 },
 "nbformat": 4,
 "nbformat_minor": 2
}
