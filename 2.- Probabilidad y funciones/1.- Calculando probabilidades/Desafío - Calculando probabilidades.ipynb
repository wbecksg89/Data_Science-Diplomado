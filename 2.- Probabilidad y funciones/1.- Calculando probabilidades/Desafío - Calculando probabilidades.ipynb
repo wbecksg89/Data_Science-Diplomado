{
 "cells": [
  {
   "cell_type": "markdown",
   "metadata": {},
   "source": [
    "## Desafío 1: Lectura de archivos\n",
    "Autor: Walther Becks\n"
   ]
  },
  {
   "cell_type": "markdown",
   "metadata": {},
   "source": [
    "Importe pandas y numpy siguiendo las convenciones.\n",
    "* Lea la base de datos worldcup2014.csv y asígnela a un objeto df.\n",
    "* Solicite las primeras 5 observaciones con head."
   ]
  },
  {
   "cell_type": "code",
   "execution_count": 1,
   "metadata": {
    "ExecuteTime": {
     "end_time": "2022-04-13T00:08:36.402033Z",
     "start_time": "2022-04-13T00:08:35.089115Z"
    }
   },
   "outputs": [
    {
     "data": {
      "text/html": [
       "<div>\n",
       "<style scoped>\n",
       "    .dataframe tbody tr th:only-of-type {\n",
       "        vertical-align: middle;\n",
       "    }\n",
       "\n",
       "    .dataframe tbody tr th {\n",
       "        vertical-align: top;\n",
       "    }\n",
       "\n",
       "    .dataframe thead th {\n",
       "        text-align: right;\n",
       "    }\n",
       "</style>\n",
       "<table border=\"1\" class=\"dataframe\">\n",
       "  <thead>\n",
       "    <tr style=\"text-align: right;\">\n",
       "      <th></th>\n",
       "      <th>team</th>\n",
       "      <th>continent</th>\n",
       "      <th>group</th>\n",
       "      <th>group_pos</th>\n",
       "      <th>cantidad_juegos</th>\n",
       "      <th>juegos_ganados</th>\n",
       "      <th>juegos_empatados</th>\n",
       "      <th>juegos_perdidos</th>\n",
       "      <th>goles_favor</th>\n",
       "      <th>goles_contra</th>\n",
       "      <th>goles_diferencia</th>\n",
       "      <th>puntos</th>\n",
       "      <th>clasificado</th>\n",
       "    </tr>\n",
       "  </thead>\n",
       "  <tbody>\n",
       "    <tr>\n",
       "      <th>0</th>\n",
       "      <td>Brazil</td>\n",
       "      <td>southamerica</td>\n",
       "      <td>A</td>\n",
       "      <td>1</td>\n",
       "      <td>3</td>\n",
       "      <td>2</td>\n",
       "      <td>1</td>\n",
       "      <td>0</td>\n",
       "      <td>7</td>\n",
       "      <td>2</td>\n",
       "      <td>5</td>\n",
       "      <td>7</td>\n",
       "      <td>1</td>\n",
       "    </tr>\n",
       "    <tr>\n",
       "      <th>1</th>\n",
       "      <td>Mexico</td>\n",
       "      <td>northamerica</td>\n",
       "      <td>A</td>\n",
       "      <td>2</td>\n",
       "      <td>3</td>\n",
       "      <td>2</td>\n",
       "      <td>1</td>\n",
       "      <td>0</td>\n",
       "      <td>4</td>\n",
       "      <td>1</td>\n",
       "      <td>3</td>\n",
       "      <td>7</td>\n",
       "      <td>1</td>\n",
       "    </tr>\n",
       "    <tr>\n",
       "      <th>2</th>\n",
       "      <td>Croatia</td>\n",
       "      <td>europe</td>\n",
       "      <td>A</td>\n",
       "      <td>3</td>\n",
       "      <td>3</td>\n",
       "      <td>1</td>\n",
       "      <td>0</td>\n",
       "      <td>2</td>\n",
       "      <td>6</td>\n",
       "      <td>6</td>\n",
       "      <td>0</td>\n",
       "      <td>3</td>\n",
       "      <td>0</td>\n",
       "    </tr>\n",
       "    <tr>\n",
       "      <th>3</th>\n",
       "      <td>Cameroon</td>\n",
       "      <td>africa</td>\n",
       "      <td>A</td>\n",
       "      <td>4</td>\n",
       "      <td>3</td>\n",
       "      <td>0</td>\n",
       "      <td>0</td>\n",
       "      <td>3</td>\n",
       "      <td>1</td>\n",
       "      <td>9</td>\n",
       "      <td>−8</td>\n",
       "      <td>0</td>\n",
       "      <td>0</td>\n",
       "    </tr>\n",
       "    <tr>\n",
       "      <th>4</th>\n",
       "      <td>Netherlands</td>\n",
       "      <td>europe</td>\n",
       "      <td>B</td>\n",
       "      <td>1</td>\n",
       "      <td>3</td>\n",
       "      <td>3</td>\n",
       "      <td>0</td>\n",
       "      <td>0</td>\n",
       "      <td>10</td>\n",
       "      <td>3</td>\n",
       "      <td>7</td>\n",
       "      <td>9</td>\n",
       "      <td>1</td>\n",
       "    </tr>\n",
       "  </tbody>\n",
       "</table>\n",
       "</div>"
      ],
      "text/plain": [
       "          team     continent group  group_pos  cantidad_juegos  \\\n",
       "0       Brazil  southamerica     A          1                3   \n",
       "1       Mexico  northamerica     A          2                3   \n",
       "2      Croatia        europe     A          3                3   \n",
       "3     Cameroon        africa     A          4                3   \n",
       "4  Netherlands        europe     B          1                3   \n",
       "\n",
       "   juegos_ganados  juegos_empatados  juegos_perdidos  goles_favor  \\\n",
       "0               2                 1                0            7   \n",
       "1               2                 1                0            4   \n",
       "2               1                 0                2            6   \n",
       "3               0                 0                3            1   \n",
       "4               3                 0                0           10   \n",
       "\n",
       "   goles_contra goles_diferencia  puntos  clasificado  \n",
       "0             2                5       7            1  \n",
       "1             1                3       7            1  \n",
       "2             6                0       3            0  \n",
       "3             9               −8       0            0  \n",
       "4             3                7       9            1  "
      ]
     },
     "execution_count": 1,
     "metadata": {},
     "output_type": "execute_result"
    }
   ],
   "source": [
    "import pandas as pd\n",
    "import numpy as np\n",
    "\n",
    "df = pd.read_csv('worldcup2014.csv')\n",
    "df.head()"
   ]
  },
  {
   "cell_type": "markdown",
   "metadata": {},
   "source": [
    "## Desafío 2: Estime las frecuencias de continent\n",
    "Utilizando value_counts. Responda lo siguiente:\n",
    "* ¿Cuál es el continente con una mayor presencia en la muestra?\n",
    "    * Europa con un 40,6% \n",
    "* ¿Cuál es la probabilidad de elegir un equipo asiático al azar?\n",
    "    * Tiene una probabilidad de un 12,5%\n",
    "* ¿Cuál es la probabilidad de elegir un equipo africano al azar?\n",
    "    * Tiene una probabilidad de 15,6%"
   ]
  },
  {
   "cell_type": "code",
   "execution_count": 29,
   "metadata": {
    "ExecuteTime": {
     "end_time": "2022-04-13T00:30:49.478232Z",
     "start_time": "2022-04-13T00:30:49.462765Z"
    }
   },
   "outputs": [
    {
     "data": {
      "text/plain": [
       "europe          0.40625\n",
       "southamerica    0.18750\n",
       "africa          0.15625\n",
       "asia            0.12500\n",
       "northamerica    0.12500\n",
       "Name: continent, dtype: float64"
      ]
     },
     "execution_count": 29,
     "metadata": {},
     "output_type": "execute_result"
    }
   ],
   "source": [
    "df['continent'].value_counts('%')"
   ]
  },
  {
   "cell_type": "code",
   "execution_count": 3,
   "metadata": {
    "ExecuteTime": {
     "end_time": "2022-04-13T00:09:51.835198Z",
     "start_time": "2022-04-13T00:09:51.815241Z"
    }
   },
   "outputs": [
    {
     "data": {
      "text/plain": [
       "0.125"
      ]
     },
     "execution_count": 3,
     "metadata": {},
     "output_type": "execute_result"
    }
   ],
   "source": [
    "df['continent'].value_counts('%').get('asia')"
   ]
  },
  {
   "cell_type": "code",
   "execution_count": 4,
   "metadata": {
    "ExecuteTime": {
     "end_time": "2022-04-13T00:10:34.551868Z",
     "start_time": "2022-04-13T00:10:34.534911Z"
    }
   },
   "outputs": [
    {
     "data": {
      "text/plain": [
       "0.15625"
      ]
     },
     "execution_count": 4,
     "metadata": {},
     "output_type": "execute_result"
    }
   ],
   "source": [
    "df['continent'].value_counts('%').get('africa')"
   ]
  },
  {
   "cell_type": "markdown",
   "metadata": {},
   "source": [
    "## Desafío 3: Generación de Subconjunto de datos\n",
    "Por cada continente, genere un nuevo objeto que almacene sólo las observaciones del\n",
    "continente.\n",
    "Tip: Para ello puede utilizar la siguiente sintaxis: df[df['variable'] == condicion]."
   ]
  },
  {
   "cell_type": "code",
   "execution_count": 5,
   "metadata": {
    "ExecuteTime": {
     "end_time": "2022-04-13T00:12:48.497962Z",
     "start_time": "2022-04-13T00:12:48.473004Z"
    }
   },
   "outputs": [],
   "source": [
    "europa_df = df[df['continent']=='europe']\n",
    "southamerica_df = df[df['continent']=='southamerica']\n",
    "africa_df = df[df['continent']=='africa']\n",
    "northamerica_df =df[df['continent']=='northamerica']\n",
    "asia_df = df[df['continent']=='asia']"
   ]
  },
  {
   "cell_type": "markdown",
   "metadata": {},
   "source": [
    "## Desafío 4: Calcule la probabilidad de clasificación a la siguiente ronda\n",
    "* Calcule la probabilidad de que un país pase a la siguiente ronda (clasifique) por\n",
    "continente.\n",
    "    * Consejos: El problema puede ser resuelto de varias formas:\n",
    "        * La manera más intuitiva corresponde a calcular la probabilidad en cada\n",
    "subconjunto creado en el problema 3.\n",
    "        * Una forma alternativa es copiar todos los subsets creados en el problema 3\n",
    "en una lista e iterar sobre dicha lista.\n",
    "        * Una forma más elegante consiste en utilizar una operación de agrupación por\n",
    "continente, y luego calcular la probabilidad.\n",
    "* ¿Cuál es la probabilidad de que un país asiático pase a la siguiente ronda?\n",
    "    * La probabilidad es 0%\n",
    "* ¿Cuáles son los dos continentes con la mayor probabilidad de clasificar?\n",
    "    * Son Southamerica y Northamerica con un 83% y 75% respectivamente\n",
    "* ¿Cuál es la probabilidad de que un país europeo no clasifique?\n",
    "    * La probabilidad es 1 - 0.46 = 0.54 o 54%\n"
   ]
  },
  {
   "cell_type": "code",
   "execution_count": 9,
   "metadata": {
    "ExecuteTime": {
     "end_time": "2022-04-13T00:17:47.437018Z",
     "start_time": "2022-04-13T00:17:47.408095Z"
    }
   },
   "outputs": [
    {
     "data": {
      "text/html": [
       "<div>\n",
       "<style scoped>\n",
       "    .dataframe tbody tr th:only-of-type {\n",
       "        vertical-align: middle;\n",
       "    }\n",
       "\n",
       "    .dataframe tbody tr th {\n",
       "        vertical-align: top;\n",
       "    }\n",
       "\n",
       "    .dataframe thead th {\n",
       "        text-align: right;\n",
       "    }\n",
       "</style>\n",
       "<table border=\"1\" class=\"dataframe\">\n",
       "  <thead>\n",
       "    <tr style=\"text-align: right;\">\n",
       "      <th></th>\n",
       "      <th>clasificado</th>\n",
       "      <th>team</th>\n",
       "      <th>pr_clasificacion_continente</th>\n",
       "    </tr>\n",
       "    <tr>\n",
       "      <th>continent</th>\n",
       "      <th></th>\n",
       "      <th></th>\n",
       "      <th></th>\n",
       "    </tr>\n",
       "  </thead>\n",
       "  <tbody>\n",
       "    <tr>\n",
       "      <th>southamerica</th>\n",
       "      <td>5</td>\n",
       "      <td>6</td>\n",
       "      <td>0.83</td>\n",
       "    </tr>\n",
       "    <tr>\n",
       "      <th>northamerica</th>\n",
       "      <td>3</td>\n",
       "      <td>4</td>\n",
       "      <td>0.75</td>\n",
       "    </tr>\n",
       "    <tr>\n",
       "      <th>europe</th>\n",
       "      <td>6</td>\n",
       "      <td>13</td>\n",
       "      <td>0.46</td>\n",
       "    </tr>\n",
       "    <tr>\n",
       "      <th>africa</th>\n",
       "      <td>2</td>\n",
       "      <td>5</td>\n",
       "      <td>0.40</td>\n",
       "    </tr>\n",
       "    <tr>\n",
       "      <th>asia</th>\n",
       "      <td>0</td>\n",
       "      <td>4</td>\n",
       "      <td>0.00</td>\n",
       "    </tr>\n",
       "  </tbody>\n",
       "</table>\n",
       "</div>"
      ],
      "text/plain": [
       "              clasificado  team  pr_clasificacion_continente\n",
       "continent                                                   \n",
       "southamerica            5     6                         0.83\n",
       "northamerica            3     4                         0.75\n",
       "europe                  6    13                         0.46\n",
       "africa                  2     5                         0.40\n",
       "asia                    0     4                         0.00"
      ]
     },
     "execution_count": 9,
     "metadata": {},
     "output_type": "execute_result"
    }
   ],
   "source": [
    "df4 = df.groupby(by='continent').agg({'clasificado':'sum','team':'count'})\n",
    "df4['pr_clasificacion_continente'] = round(df4['clasificado']/df4['team'],2)\n",
    "df4.sort_values(by='pr_clasificacion_continente', ascending=False,inplace=True)\n",
    "df4"
   ]
  },
  {
   "cell_type": "code",
   "execution_count": 131,
   "metadata": {
    "ExecuteTime": {
     "end_time": "2021-07-20T02:30:33.539961Z",
     "start_time": "2021-07-20T02:30:33.528015Z"
    }
   },
   "outputs": [
    {
     "name": "stdout",
     "output_type": "stream",
     "text": [
      "1.- La probabilidad de que un país asiático pase a la siguiente ronda es: 0.0 %\n",
      "2.- Los dos continentes con la mayor probabilidad de clasificar son: Son Southamerica y Northamerica con un 83% y 75% respectivamente\n",
      "3.- La probabilidad de que un país europeo no clasifique: 0.54 %\n"
     ]
    }
   ],
   "source": [
    "print(f\"1.- La probabilidad de que un país asiático pase a la siguiente ronda es: {df4['pr_clasificacion_continente'][(df4.index.isin(['asia']))][0]} %\")\n",
    "print(f\"2.- Los dos continentes con la mayor probabilidad de clasificar son: Son Southamerica y Northamerica con un 83% y 75% respectivamente\")\n",
    "print(f\"3.- La probabilidad de que un país europeo no clasifique: {1-df4['pr_clasificacion_continente'][(df4.index.isin(['europe']))][0]} %\")"
   ]
  },
  {
   "cell_type": "markdown",
   "metadata": {},
   "source": [
    "## Desafío 5: Probabilidades de Victoria y Derrota\n",
    "* Se pide utilizar value_counts para calcular la probabilidad de que un continente\n",
    "contenga países con o sin victorias.\n",
    "* Para ello cree una columna adicional llamada 'ha_ganado' que contenga un 0 si es\n",
    "que un país no tiene juegos ganados y un 1 si es que ha ganado al menos un juego.\n",
    "* Sugerencias: Para crear dicha columna puede revisar:\n",
    "    * np.where, de Numpy\n",
    "    * pd.where, de Pandas\n",
    "    * Además puede utilizar los mismos procedimientos sugeridos en el Desafío 4.\n",
    "* En base al resultado del procedimiento recién descrito, responda lo siguiente:\n",
    "    * ¿Qué continente tiene la mayor probabilidad de tener países con al menos 1\n",
    "victoria?\n",
    "    * ¿Qué continente tiene un nivel similar entre países que tienen o no tienen\n",
    "victorias?\n",
    "* Reformule el código para juegos perdidos y analice los continentes con mayor\n",
    "probabilidad de tener países sin juegos perdidos.\n"
   ]
  },
  {
   "cell_type": "code",
   "execution_count": 11,
   "metadata": {
    "ExecuteTime": {
     "end_time": "2022-04-13T00:21:31.196905Z",
     "start_time": "2022-04-13T00:21:31.159001Z"
    }
   },
   "outputs": [
    {
     "data": {
      "text/html": [
       "<div>\n",
       "<style scoped>\n",
       "    .dataframe tbody tr th:only-of-type {\n",
       "        vertical-align: middle;\n",
       "    }\n",
       "\n",
       "    .dataframe tbody tr th {\n",
       "        vertical-align: top;\n",
       "    }\n",
       "\n",
       "    .dataframe thead th {\n",
       "        text-align: right;\n",
       "    }\n",
       "</style>\n",
       "<table border=\"1\" class=\"dataframe\">\n",
       "  <thead>\n",
       "    <tr style=\"text-align: right;\">\n",
       "      <th></th>\n",
       "      <th>continent</th>\n",
       "      <th>ha_ganado</th>\n",
       "      <th>team</th>\n",
       "      <th>pr_al_menos_1_victoria</th>\n",
       "    </tr>\n",
       "  </thead>\n",
       "  <tbody>\n",
       "    <tr>\n",
       "      <th>0</th>\n",
       "      <td>southamerica</td>\n",
       "      <td>6</td>\n",
       "      <td>6</td>\n",
       "      <td>1.00</td>\n",
       "    </tr>\n",
       "    <tr>\n",
       "      <th>1</th>\n",
       "      <td>europe</td>\n",
       "      <td>11</td>\n",
       "      <td>13</td>\n",
       "      <td>0.85</td>\n",
       "    </tr>\n",
       "    <tr>\n",
       "      <th>2</th>\n",
       "      <td>northamerica</td>\n",
       "      <td>3</td>\n",
       "      <td>4</td>\n",
       "      <td>0.75</td>\n",
       "    </tr>\n",
       "    <tr>\n",
       "      <th>3</th>\n",
       "      <td>africa</td>\n",
       "      <td>3</td>\n",
       "      <td>5</td>\n",
       "      <td>0.60</td>\n",
       "    </tr>\n",
       "    <tr>\n",
       "      <th>4</th>\n",
       "      <td>asia</td>\n",
       "      <td>0</td>\n",
       "      <td>4</td>\n",
       "      <td>0.00</td>\n",
       "    </tr>\n",
       "  </tbody>\n",
       "</table>\n",
       "</div>"
      ],
      "text/plain": [
       "      continent  ha_ganado  team  pr_al_menos_1_victoria\n",
       "0  southamerica          6     6                    1.00\n",
       "1        europe         11    13                    0.85\n",
       "2  northamerica          3     4                    0.75\n",
       "3        africa          3     5                    0.60\n",
       "4          asia          0     4                    0.00"
      ]
     },
     "execution_count": 11,
     "metadata": {},
     "output_type": "execute_result"
    }
   ],
   "source": [
    "df['ha_ganado'] = df.apply(lambda x: 0 if x['juegos_ganados']==0 else 1,1)\n",
    "df['ha_perdido'] = df.apply(lambda x: 0 if x['juegos_perdidos']==0 else 1,1)\n",
    "df5 = df.groupby(by=['continent']).agg({'ha_ganado':'sum','team':'count'})\n",
    "df5['pr_al_menos_1_victoria'] = round(df5['ha_ganado']/df5['team'],2)\n",
    "#df5['ranking'] = df5.groupby(by='continent')['pr_al_menos_1_victoria'].rank(ascending=False).astype(int)\n",
    "df5.sort_values(by='pr_al_menos_1_victoria',ascending=False,inplace=True)\n",
    "df5 = df5.reset_index()\n",
    "df5"
   ]
  },
  {
   "cell_type": "code",
   "execution_count": 20,
   "metadata": {
    "ExecuteTime": {
     "end_time": "2022-04-13T00:25:07.507061Z",
     "start_time": "2022-04-13T00:25:07.486123Z"
    }
   },
   "outputs": [
    {
     "data": {
      "text/plain": [
       "continent     ha_ganado\n",
       "africa        1            0.600000\n",
       "              0            0.400000\n",
       "asia          0            1.000000\n",
       "europe        1            0.846154\n",
       "              0            0.153846\n",
       "northamerica  1            0.750000\n",
       "              0            0.250000\n",
       "southamerica  1            1.000000\n",
       "Name: ha_ganado, dtype: float64"
      ]
     },
     "execution_count": 20,
     "metadata": {},
     "output_type": "execute_result"
    }
   ],
   "source": [
    "df6= df.groupby(by='continent',as_index=True)['ha_ganado'].value_counts('%')\n",
    "df6"
   ]
  },
  {
   "cell_type": "code",
   "execution_count": 193,
   "metadata": {
    "ExecuteTime": {
     "end_time": "2021-07-20T03:04:16.708835Z",
     "start_time": "2021-07-20T03:04:16.693865Z"
    }
   },
   "outputs": [
    {
     "data": {
      "text/plain": [
       "'southamerica'"
      ]
     },
     "execution_count": 193,
     "metadata": {},
     "output_type": "execute_result"
    }
   ],
   "source": [
    "df5['continent'][df5.index.isin([0])][0]"
   ]
  },
  {
   "cell_type": "code",
   "execution_count": 31,
   "metadata": {
    "ExecuteTime": {
     "end_time": "2022-04-13T00:43:59.923846Z",
     "start_time": "2022-04-13T00:43:59.900902Z"
    }
   },
   "outputs": [
    {
     "data": {
      "text/plain": [
       "continent     ha_perdido\n",
       "africa        1             1.000000\n",
       "asia          1             1.000000\n",
       "europe        1             0.692308\n",
       "              0             0.307692\n",
       "northamerica  0             0.500000\n",
       "              1             0.500000\n",
       "southamerica  0             0.500000\n",
       "              1             0.500000\n",
       "Name: ha_perdido, dtype: float64"
      ]
     },
     "execution_count": 31,
     "metadata": {},
     "output_type": "execute_result"
    }
   ],
   "source": [
    "df7=df.groupby(by='continent')['ha_perdido'].value_counts('%')\n",
    "df7"
   ]
  },
  {
   "cell_type": "code",
   "execution_count": 24,
   "metadata": {
    "ExecuteTime": {
     "end_time": "2022-04-13T00:27:06.965898Z",
     "start_time": "2022-04-13T00:27:06.942961Z"
    }
   },
   "outputs": [
    {
     "name": "stdout",
     "output_type": "stream",
     "text": [
      "Continente que tiene la mayor probabilidad de tener países con al menos 1 victoria: southamerica\n",
      "Continente que tiene un nivel similar entre países que tienen o no tienen victorias: africa si es que asia es invalido por no tener victorias, caso contrario asia.\n",
      "Continentes con mayor probabilidad de tener países sin juegos perdidos: southamerica y northamerica con un 50% cada uno\n"
     ]
    }
   ],
   "source": [
    "print(f\"Continente que tiene la mayor probabilidad de tener países con al menos 1 victoria: {df5['continent'][df5.index.isin([0])][0]}\")\n",
    "print(f\"Continente que tiene un nivel similar entre países que tienen o no tienen victorias: africa si es que asia es invalido por no tener victorias, caso contrario asia.\")\n",
    "print(f\"Continentes con mayor probabilidad de tener países sin juegos perdidos: southamerica y northamerica con un 50% cada uno\")"
   ]
  },
  {
   "cell_type": "code",
   "execution_count": null,
   "metadata": {},
   "outputs": [],
   "source": []
  }
 ],
 "metadata": {
  "hide_input": false,
  "kernelspec": {
   "display_name": "Python 3",
   "language": "python",
   "name": "python3"
  },
  "language_info": {
   "codemirror_mode": {
    "name": "ipython",
    "version": 3
   },
   "file_extension": ".py",
   "mimetype": "text/x-python",
   "name": "python",
   "nbconvert_exporter": "python",
   "pygments_lexer": "ipython3",
   "version": "3.7.3"
  },
  "toc": {
   "base_numbering": 1,
   "nav_menu": {},
   "number_sections": true,
   "sideBar": true,
   "skip_h1_title": false,
   "title_cell": "Table of Contents",
   "title_sidebar": "Contents",
   "toc_cell": false,
   "toc_position": {},
   "toc_section_display": true,
   "toc_window_display": false
  }
 },
 "nbformat": 4,
 "nbformat_minor": 2
}
