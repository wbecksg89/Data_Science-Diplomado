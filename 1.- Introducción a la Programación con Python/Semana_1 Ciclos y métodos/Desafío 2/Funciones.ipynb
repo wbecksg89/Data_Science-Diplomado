{
 "cells": [
  {
   "cell_type": "markdown",
   "metadata": {},
   "source": [
    "## Letras"
   ]
  },
  {
   "cell_type": "markdown",
   "metadata": {},
   "source": [
    "### Concatenando Letras"
   ]
  },
  {
   "cell_type": "code",
   "execution_count": 442,
   "metadata": {
    "ExecuteTime": {
     "end_time": "2021-06-21T02:44:16.402632Z",
     "start_time": "2021-06-21T02:44:16.386677Z"
    }
   },
   "outputs": [],
   "source": [
    "import string\n",
    "\n",
    "def gen(cantidad):\n",
    "    try:\n",
    "        cantidad = int(cantidad)\n",
    "        if cantidad > 0:\n",
    "            is_pos = True\n",
    "            abc = string.ascii_lowercase\n",
    "            result = []\n",
    "            for i,j in enumerate(abc):\n",
    "                if i < cantidad:\n",
    "                    result.append(j)\n",
    "            return print(''.join(result))\n",
    "\n",
    "        else:\n",
    "            print(\"Error, ingrese un número entero positivo\")\n",
    "\n",
    "    except ValueError:\n",
    "        print(\"Error, ingrese un número entero positivo\")"
   ]
  },
  {
   "cell_type": "code",
   "execution_count": 443,
   "metadata": {
    "ExecuteTime": {
     "end_time": "2021-06-21T02:44:17.019729Z",
     "start_time": "2021-06-21T02:44:17.002735Z"
    }
   },
   "outputs": [
    {
     "name": "stdout",
     "output_type": "stream",
     "text": [
      "abcd\n"
     ]
    }
   ],
   "source": [
    "gen(4)"
   ]
  },
  {
   "cell_type": "markdown",
   "metadata": {},
   "source": [
    "### Dibujando letras"
   ]
  },
  {
   "cell_type": "markdown",
   "metadata": {},
   "source": [
    "#### Letra O"
   ]
  },
  {
   "cell_type": "code",
   "execution_count": 203,
   "metadata": {
    "ExecuteTime": {
     "end_time": "2021-06-20T23:11:28.603003Z",
     "start_time": "2021-06-20T23:11:28.593017Z"
    }
   },
   "outputs": [],
   "source": [
    "def letra_o(num):\n",
    "    lista = []\n",
    "    try:\n",
    "        num = int(num)\n",
    "        if num > 0:\n",
    "            for i in range(num):\n",
    "                lista.append(i)\n",
    "\n",
    "            for k in lista:\n",
    "                if k == 0 or k == lista[-1]:\n",
    "                    print(\"*\"*num)\n",
    "                elif k != 0 or k == lista[-1]:\n",
    "                    print(\"*\"+ \" \"*(num-2) + \"*\")\n",
    "        else:\n",
    "            print(\"Error, ingrese un número entero positivo\")\n",
    "    except ValueError:\n",
    "        print(\"Error, ingrese un número entero positivo\")\n"
   ]
  },
  {
   "cell_type": "code",
   "execution_count": 209,
   "metadata": {
    "ExecuteTime": {
     "end_time": "2021-06-20T23:11:44.028413Z",
     "start_time": "2021-06-20T23:11:44.009361Z"
    }
   },
   "outputs": [
    {
     "name": "stdout",
     "output_type": "stream",
     "text": [
      "**********\n",
      "*        *\n",
      "*        *\n",
      "*        *\n",
      "*        *\n",
      "*        *\n",
      "*        *\n",
      "*        *\n",
      "*        *\n",
      "**********\n"
     ]
    }
   ],
   "source": [
    "letra_o(10)"
   ]
  },
  {
   "cell_type": "markdown",
   "metadata": {
    "ExecuteTime": {
     "end_time": "2021-06-20T23:02:04.192175Z",
     "start_time": "2021-06-20T23:02:04.178219Z"
    }
   },
   "source": [
    "#### Letra I"
   ]
  },
  {
   "cell_type": "code",
   "execution_count": 8,
   "metadata": {
    "ExecuteTime": {
     "end_time": "2021-07-08T00:00:38.928051Z",
     "start_time": "2021-07-08T00:00:38.906114Z"
    }
   },
   "outputs": [],
   "source": [
    "def letra_i(num):\n",
    "    lista = []\n",
    "    es_par = False\n",
    "    try:\n",
    "        num = int(num)\n",
    "        if num % 2==0:\n",
    "            es_par = True\n",
    "        else:\n",
    "            es_par = False\n",
    "        if num > 0:\n",
    "            for i in range(num):\n",
    "                lista.append(i)\n",
    "\n",
    "            for k in lista:\n",
    "                if k == 0 or k == lista[-1]:\n",
    "                    print(\"*\"*num)\n",
    "                elif es_par and (k != 0 or k == lista[-1]):\n",
    "                    print(\" \"*(int((num-1)/2))+ \"*\" + \" \"*(int((num-1)/2)))\n",
    "                elif not es_par and (k != 0 or k == lista[-1]):\n",
    "                    print(\" \"*(int((num-1)/2))+ \"*\" + \" \"*(int((num-1)/2)))\n",
    "        else:\n",
    "            print(\"Error, ingrese un número entero positivo\")\n",
    "    except ValueError:\n",
    "        print(\"Error, ingrese un número entero positivo\")\n"
   ]
  },
  {
   "cell_type": "code",
   "execution_count": 9,
   "metadata": {
    "ExecuteTime": {
     "end_time": "2021-07-08T00:00:39.317352Z",
     "start_time": "2021-07-08T00:00:39.309373Z"
    }
   },
   "outputs": [
    {
     "name": "stdout",
     "output_type": "stream",
     "text": [
      "*********\n",
      "    *    \n",
      "    *    \n",
      "    *    \n",
      "    *    \n",
      "    *    \n",
      "    *    \n",
      "    *    \n",
      "*********\n"
     ]
    }
   ],
   "source": [
    "letra_i(9)"
   ]
  },
  {
   "cell_type": "markdown",
   "metadata": {
    "ExecuteTime": {
     "end_time": "2021-06-20T23:06:53.976973Z",
     "start_time": "2021-06-20T23:06:53.970017Z"
    }
   },
   "source": [
    "#### Letra X"
   ]
  },
  {
   "cell_type": "code",
   "execution_count": 434,
   "metadata": {
    "ExecuteTime": {
     "end_time": "2021-06-21T02:31:34.195445Z",
     "start_time": "2021-06-21T02:31:29.762485Z"
    }
   },
   "outputs": [
    {
     "name": "stdout",
     "output_type": "stream",
     "text": [
      "Ingrese un numero entero positivo\n",
      "11\n",
      "*         *\n",
      " *       *\n",
      "  *     *\n",
      "   *   *\n",
      "    * *\n",
      "     *\n",
      "    * *\n",
      "   *   *\n",
      "  *     *\n",
      " *       *\n",
      "*         *\n"
     ]
    }
   ],
   "source": [
    "def letra_x(num):\n",
    "    try:\n",
    "        num = int(num)\n",
    "        if num > 0:\n",
    "            for n in range(1,num+1):     \n",
    "                print(\" \"*min(n-1,num-n)+\"*\"+\" \"*max(num-(2*n),2*(n-1)-num,0)+\"*\"*(1-(num%2)*(1-max(min(max(num-(2*n),2*(n-1)-num),1),0))))\n",
    "        \n",
    "        else:\n",
    "            print(\"Error, ingrese un número entero positivo\")\n",
    "    except ValueError:\n",
    "        print(\"Error, ingrese un número entero positivo\")\n",
    "valor_x = int(input(\"Ingrese un numero entero positivo\\n\"))\n",
    "letra_x(valor)\n"
   ]
  },
  {
   "cell_type": "code",
   "execution_count": 435,
   "metadata": {
    "ExecuteTime": {
     "end_time": "2021-06-21T02:31:57.447317Z",
     "start_time": "2021-06-21T02:31:54.339639Z"
    }
   },
   "outputs": [
    {
     "name": "stdout",
     "output_type": "stream",
     "text": [
      "Lista de funciones:\n",
      "1.1 Concatenando letras: gen(valor)\n",
      "1.2 Dibujando letras: letra_o(valor)\n",
      "1.2.a Función letra 'N': letra_n(valor)\n",
      "1.2.b Letra 'I': letra_i(valor)\n",
      "1.2.c Letra 'X': letra_x(valor)\n",
      "Ingrese un numero entero positivo\n",
      "11\n",
      "*         *\n",
      " *       *\n",
      "  *     *\n",
      "   *   *\n",
      "    * *\n",
      "     *\n",
      "    * *\n",
      "   *   *\n",
      "  *     *\n",
      " *       *\n",
      "*         *\n"
     ]
    }
   ],
   "source": [
    "import string\n",
    "print(\"Lista de funciones:\\n1.1 Concatenando letras: gen(valor)\\n1.2 Dibujando letras: letra_o(valor)\\n1.2.a Función letra 'N': letra_n(valor)\\n1.2.b Letra 'I': letra_i(valor)\\n1.2.c Letra 'X': letra_x(valor)\")\n",
    "\n",
    "def letra_x(num):\n",
    "    try:\n",
    "        num = int(num)\n",
    "        if num > 0:\n",
    "            for n in range(1,num+1):     \n",
    "                print(\" \"*min(n-1,num-n)+\"*\"+\" \"*max(num-(2*n),2*(n-1)-num,0)+\"*\"*(1-(num%2)*(1-max(min(max(num-(2*n),2*(n-1)-num),1),0))))\n",
    "        \n",
    "        else:\n",
    "            print(\"Error, ingrese un número entero positivo\")\n",
    "    except ValueError:\n",
    "        print(\"Error, ingrese un número entero positivo\")\n",
    "valor_x = int(input(\"Ingrese un numero entero positivo\\n\"))\n",
    "letra_x(valor)\n"
   ]
  },
  {
   "cell_type": "code",
   "execution_count": null,
   "metadata": {},
   "outputs": [],
   "source": []
  }
 ],
 "metadata": {
  "hide_input": false,
  "kernelspec": {
   "display_name": "Python 3",
   "language": "python",
   "name": "python3"
  },
  "language_info": {
   "codemirror_mode": {
    "name": "ipython",
    "version": 3
   },
   "file_extension": ".py",
   "mimetype": "text/x-python",
   "name": "python",
   "nbconvert_exporter": "python",
   "pygments_lexer": "ipython3",
   "version": "3.7.3"
  },
  "toc": {
   "base_numbering": 1,
   "nav_menu": {},
   "number_sections": true,
   "sideBar": true,
   "skip_h1_title": false,
   "title_cell": "Table of Contents",
   "title_sidebar": "Contents",
   "toc_cell": false,
   "toc_position": {},
   "toc_section_display": true,
   "toc_window_display": false
  }
 },
 "nbformat": 4,
 "nbformat_minor": 2
}
