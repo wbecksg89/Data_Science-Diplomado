{
 "cells": [
  {
   "cell_type": "markdown",
   "metadata": {
    "ExecuteTime": {
     "end_time": "2021-06-14T23:13:17.795809Z",
     "start_time": "2021-06-14T23:13:17.781846Z"
    }
   },
   "source": [
    "## Iterador.py"
   ]
  },
  {
   "cell_type": "code",
   "execution_count": 12,
   "metadata": {
    "ExecuteTime": {
     "end_time": "2021-06-17T02:15:50.688900Z",
     "start_time": "2021-06-17T02:15:50.668922Z"
    },
    "scrolled": true
   },
   "outputs": [
    {
     "name": "stdout",
     "output_type": "stream",
     "text": [
      "Iteración 1\n",
      "Iteración 2\n",
      "Iteración 3\n",
      "Iteración 4\n",
      "Iteración 5\n",
      "Iteración 6\n",
      "Iteración 7\n",
      "Iteración 8\n",
      "Iteración 9\n",
      "Iteración 10\n",
      "Iteración 11\n",
      "Iteración 12\n",
      "Iteración 13\n",
      "Iteración 14\n",
      "Iteración 15\n",
      "Iteración 16\n",
      "Iteración 17\n",
      "Iteración 18\n",
      "Iteración 19\n",
      "Iteración 20\n",
      "Iteración 21\n",
      "Iteración 22\n",
      "Iteración 23\n",
      "Iteración 24\n",
      "Iteración 25\n",
      "Iteración 26\n",
      "Iteración 27\n",
      "Iteración 28\n",
      "Iteración 29\n",
      "Iteración 30\n",
      "Iteración 31\n",
      "Iteración 32\n",
      "Iteración 33\n",
      "Iteración 34\n",
      "Iteración 35\n",
      "Iteración 36\n",
      "Iteración 37\n",
      "Iteración 38\n",
      "Iteración 39\n",
      "Iteración 40\n",
      "Iteración 41\n",
      "Iteración 42\n",
      "Iteración 43\n",
      "Iteración 44\n",
      "Iteración 45\n",
      "Iteración 46\n",
      "Iteración 47\n",
      "Iteración 48\n",
      "Iteración 49\n",
      "Iteración 50\n"
     ]
    }
   ],
   "source": [
    "i = 0\n",
    "for i in range(50):\n",
    "    print(\"Iteración {}\".format(i + 1))\n",
    "    i +=1"
   ]
  },
  {
   "cell_type": "markdown",
   "metadata": {},
   "source": [
    "## Cuenta Regresiva"
   ]
  },
  {
   "cell_type": "code",
   "execution_count": 13,
   "metadata": {
    "ExecuteTime": {
     "end_time": "2021-06-17T02:15:58.671239Z",
     "start_time": "2021-06-17T02:15:50.690879Z"
    }
   },
   "outputs": [
    {
     "name": "stdout",
     "output_type": "stream",
     "text": [
      "Ingrese un número para comenzar la cuenta\n",
      "10\n",
      "Iteración 10\n",
      "Iteración 9\n",
      "Iteración 8\n",
      "Iteración 7\n",
      "Iteración 6\n",
      "Iteración 5\n",
      "Iteración 4\n",
      "Iteración 3\n",
      "Iteración 2\n",
      "Iteración 1\n"
     ]
    }
   ],
   "source": [
    "cuenta_regresiva = int(input(\"Ingrese un número para comenzar la cuenta\\n\"))\n",
    "i = 0\n",
    "while i < cuenta_regresiva:\n",
    "    tmp = cuenta_regresiva\n",
    "    print(\"Iteración {}\".format(tmp - i))\n",
    "    i+=1"
   ]
  },
  {
   "cell_type": "markdown",
   "metadata": {},
   "source": [
    "## Solo pares"
   ]
  },
  {
   "cell_type": "code",
   "execution_count": 23,
   "metadata": {
    "ExecuteTime": {
     "end_time": "2021-06-17T02:17:16.626813Z",
     "start_time": "2021-06-17T02:17:15.277054Z"
    }
   },
   "outputs": [
    {
     "name": "stdout",
     "output_type": "stream",
     "text": [
      "Ingrese un número para comenzar\n",
      "10\n",
      "0\n",
      "2\n",
      "4\n",
      "6\n",
      "8\n",
      "10\n"
     ]
    }
   ],
   "source": [
    "ingreso = int(input(\"Ingrese un número para comenzar\\n\"))\n",
    "for i in range(0, ingreso+1):\n",
    "    if i % 2 == 0:\n",
    "        print(i)"
   ]
  },
  {
   "cell_type": "markdown",
   "metadata": {},
   "source": [
    "## Solo pares refacotor"
   ]
  },
  {
   "cell_type": "code",
   "execution_count": 15,
   "metadata": {
    "ExecuteTime": {
     "end_time": "2021-06-17T02:16:04.024196Z",
     "start_time": "2021-06-17T02:16:00.453957Z"
    }
   },
   "outputs": [
    {
     "name": "stdout",
     "output_type": "stream",
     "text": [
      "Ingrese un número para comenzar\n",
      "10\n",
      "2\n",
      "4\n",
      "6\n",
      "8\n",
      "10\n"
     ]
    }
   ],
   "source": [
    "ingreso = int(input(\"Ingrese un número para comenzar\\n\"))\n",
    "for i in range(1,ingreso+1):\n",
    "    if i % 2 == 0 and i > 0 :\n",
    "        print(i)"
   ]
  },
  {
   "cell_type": "markdown",
   "metadata": {},
   "source": [
    "## Solo impares"
   ]
  },
  {
   "cell_type": "code",
   "execution_count": 16,
   "metadata": {
    "ExecuteTime": {
     "end_time": "2021-06-17T02:16:06.599529Z",
     "start_time": "2021-06-17T02:16:04.025158Z"
    }
   },
   "outputs": [
    {
     "name": "stdout",
     "output_type": "stream",
     "text": [
      "Ingrese un número para comenzar\n",
      "11\n",
      "1\n",
      "3\n",
      "5\n",
      "7\n",
      "9\n",
      "11\n"
     ]
    }
   ],
   "source": [
    "ingreso = int(input(\"Ingrese un número para comenzar\\n\"))\n",
    "for i in range(1,ingreso+1):\n",
    "    if i% 2 != 0 and i > 0 :\n",
    "        print(i)"
   ]
  },
  {
   "cell_type": "markdown",
   "metadata": {},
   "source": [
    "## Suma pares"
   ]
  },
  {
   "cell_type": "code",
   "execution_count": 17,
   "metadata": {
    "ExecuteTime": {
     "end_time": "2021-06-17T02:16:09.221253Z",
     "start_time": "2021-06-17T02:16:06.601525Z"
    }
   },
   "outputs": [
    {
     "name": "stdout",
     "output_type": "stream",
     "text": [
      "Ingrese un número para comenzar\n",
      "10\n",
      "Iteraciones: [2, 4, 6, 8, 10]\n",
      "La suma es: 30\n"
     ]
    }
   ],
   "source": [
    "suma = 0\n",
    "i = 0\n",
    "lista = []\n",
    "ingreso = int(input(\"Ingrese un número para comenzar\\n\"))\n",
    "for i in range(1,ingreso+1):\n",
    "    if i% 2 == 0 and i > 0 :\n",
    "        suma+=i\n",
    "        lista.append(i)\n",
    "\n",
    "print(f\"Iteraciones: {lista}\")\n",
    "\n",
    "print(f\"La suma es: {suma}\")"
   ]
  },
  {
   "cell_type": "markdown",
   "metadata": {},
   "source": [
    "## Genera patron"
   ]
  },
  {
   "cell_type": "code",
   "execution_count": 18,
   "metadata": {
    "ExecuteTime": {
     "end_time": "2021-06-17T02:16:12.022928Z",
     "start_time": "2021-06-17T02:16:09.223248Z"
    }
   },
   "outputs": [
    {
     "name": "stdout",
     "output_type": "stream",
     "text": [
      "Número de filas\n",
      "4\n",
      "1\n",
      "12\n",
      "123\n",
      "1234\n"
     ]
    }
   ],
   "source": [
    "i = 0\n",
    "lista = []\n",
    "ingreso = int(input(\"Número de filas\\n\"))\n",
    "for i in range(1,ingreso+1):\n",
    "    lista.append(i)\n",
    "    for i in lista:\n",
    "        print(i, end='')\n",
    "    print()"
   ]
  },
  {
   "cell_type": "markdown",
   "metadata": {
    "ExecuteTime": {
     "end_time": "2021-06-14T23:50:36.750507Z",
     "start_time": "2021-06-14T23:50:36.740523Z"
    }
   },
   "source": [
    "## Lorem generator"
   ]
  },
  {
   "cell_type": "code",
   "execution_count": 19,
   "metadata": {
    "ExecuteTime": {
     "end_time": "2021-06-17T02:16:14.351331Z",
     "start_time": "2021-06-17T02:16:12.025095Z"
    }
   },
   "outputs": [
    {
     "name": "stdout",
     "output_type": "stream",
     "text": [
      "Ingrese n° de párrafos\n",
      "3\n",
      "Lorem ipsum dolor sit amet, consectetur adipiscing elit. Vivamus et sagittis sem. Praesent dignissim fringilla nunc vel congue. Sed ultrices maximus orci auctor pharetra. Aenean pellentesque malesuada nisl a malesuada. Nulla mollis scelerisque bibendum. Donec aliquam in elit eget congue. Sed ut pulvinar neque. Nam sed ligula in lectus elementum posuere. Nam venenatis porta posuere. Aliquam vitae scelerisque risus. Quisque dictum diam quis nunc pharetra pellentesque. Cras sed pellentesque metus, a dictum est.\n",
      "\n",
      "Lorem ipsum dolor sit amet, consectetur adipiscing elit. Vivamus et sagittis sem. Praesent dignissim fringilla nunc vel congue. Sed ultrices maximus orci auctor pharetra. Aenean pellentesque malesuada nisl a malesuada. Nulla mollis scelerisque bibendum. Donec aliquam in elit eget congue. Sed ut pulvinar neque. Nam sed ligula in lectus elementum posuere. Nam venenatis porta posuere. Aliquam vitae scelerisque risus. Quisque dictum diam quis nunc pharetra pellentesque. Cras sed pellentesque metus, a dictum est.\n",
      "\n",
      "Lorem ipsum dolor sit amet, consectetur adipiscing elit. Vivamus et sagittis sem. Praesent dignissim fringilla nunc vel congue. Sed ultrices maximus orci auctor pharetra. Aenean pellentesque malesuada nisl a malesuada. Nulla mollis scelerisque bibendum. Donec aliquam in elit eget congue. Sed ut pulvinar neque. Nam sed ligula in lectus elementum posuere. Nam venenatis porta posuere. Aliquam vitae scelerisque risus. Quisque dictum diam quis nunc pharetra pellentesque. Cras sed pellentesque metus, a dictum est.\n",
      "\n"
     ]
    }
   ],
   "source": [
    "\n",
    "texto = \"Lorem ipsum dolor sit amet, consectetur adipiscing elit. Vivamus et sagittis sem. Praesent dignissim fringilla nunc vel congue. Sed ultrices maximus orci auctor pharetra. Aenean pellentesque malesuada nisl a malesuada. Nulla mollis scelerisque bibendum. Donec aliquam in elit eget congue. Sed ut pulvinar neque. Nam sed ligula in lectus elementum posuere. Nam venenatis porta posuere. Aliquam vitae scelerisque risus. Quisque dictum diam quis nunc pharetra pellentesque. Cras sed pellentesque metus, a dictum est.\"\n",
    "lista = []\n",
    "parrafos = int(input(\"Ingrese n° de párrafos\\n\"))\n",
    "for i in range(parrafos):\n",
    "    lista.append(texto)\n",
    "    print(f\"{lista[0]}\\n\")\n"
   ]
  },
  {
   "cell_type": "markdown",
   "metadata": {},
   "source": [
    "## Fuerza bruta"
   ]
  },
  {
   "cell_type": "code",
   "execution_count": 20,
   "metadata": {
    "ExecuteTime": {
     "end_time": "2021-06-17T02:16:18.937199Z",
     "start_time": "2021-06-17T02:16:14.353370Z"
    },
    "scrolled": false
   },
   "outputs": [
    {
     "name": "stdout",
     "output_type": "stream",
     "text": [
      "Escriba la contraseña\n",
      "carolina\n",
      "Iteraciones: 73\n",
      "Contraseña es: carolina\n"
     ]
    }
   ],
   "source": [
    "import string\n",
    "-\n",
    "adivinadas=[]\n",
    "contador = 0\n",
    "\n",
    "password = input(\"Escriba la contraseña\\n\").lower()\n",
    "#password.lower()\n",
    "\n",
    "if not password.isalpha():\n",
    "    print(\"Error, su contraseña no es letra\")\n",
    "else:\n",
    "    for x in range(len(password)):\n",
    "        for y in abc:\n",
    "            if y==password[x]:\n",
    "                adivinadas.append(y)\n",
    "\n",
    "    for k in adivinadas:\n",
    "        for i,j in enumerate(abc):\n",
    "            if k in j:\n",
    "                contador+=i+1\n",
    "\n",
    "\n",
    "print(f\"Iteraciones: {contador}\")\n",
    "print(f\"Contraseña es: {password}\")\n",
    "            \n",
    "  "
   ]
  },
  {
   "cell_type": "code",
   "execution_count": null,
   "metadata": {},
   "outputs": [],
   "source": []
  }
 ],
 "metadata": {
  "hide_input": false,
  "kernelspec": {
   "display_name": "Python 3",
   "language": "python",
   "name": "python3"
  },
  "language_info": {
   "codemirror_mode": {
    "name": "ipython",
    "version": 3
   },
   "file_extension": ".py",
   "mimetype": "text/x-python",
   "name": "python",
   "nbconvert_exporter": "python",
   "pygments_lexer": "ipython3",
   "version": "3.7.3"
  },
  "toc": {
   "base_numbering": 1,
   "nav_menu": {},
   "number_sections": true,
   "sideBar": true,
   "skip_h1_title": false,
   "title_cell": "Table of Contents",
   "title_sidebar": "Contents",
   "toc_cell": false,
   "toc_position": {},
   "toc_section_display": true,
   "toc_window_display": false
  }
 },
 "nbformat": 4,
 "nbformat_minor": 2
}
