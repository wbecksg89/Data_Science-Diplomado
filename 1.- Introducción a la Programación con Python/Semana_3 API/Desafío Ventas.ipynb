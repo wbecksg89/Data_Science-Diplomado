{
 "cells": [
  {
   "cell_type": "code",
   "execution_count": 2,
   "metadata": {
    "ExecuteTime": {
     "end_time": "2021-07-12T01:24:11.182814Z",
     "start_time": "2021-07-12T01:24:09.005235Z"
    }
   },
   "outputs": [
    {
     "name": "stdout",
     "output_type": "stream",
     "text": [
      "81000\n",
      "91000\n",
      "Noviembre\n",
      "Mayo\n"
     ]
    }
   ],
   "source": [
    "import pandas as pd\n",
    "import numpy as np\n",
    "\n",
    "\n",
    "ventas = {\n",
    "\"Enero\": 15000,\n",
    "\"Febrero\": 22000,\n",
    "\"Marzo\": 12000,\n",
    "\"Abril\": 17000,\n",
    "\"Mayo\": 81000,\n",
    "\"Junio\": 13000,\n",
    "\"Julio\": 21000,\n",
    "\"Agosto\": 41200,\n",
    "\"Septiembre\": 25000,\n",
    "\"Octubre\": 21500,\n",
    "\"Noviembre\": 91000,\n",
    "\"Diciembre\": 21000,\n",
    "}\n",
    "\n",
    "\"\"\"\n",
    "1.- Crear el programa iter1.py.\n",
    "● Se solicita iterar el diccionario ventas y mostrar en pantalla todas las ventas\n",
    "superiores a 45000 (sólo el valor de la venta).\n",
    "Se evaluará el output en pantalla.\n",
    "● El diccionario utilizado para evaluar puede ser distinto y tener más o menos meses.\n",
    "\"\"\"\n",
    "iter1 = {v for k,v in ventas.items() if v>45000 }\n",
    "for i in iter1:\n",
    "    print(i)\n",
    "\n",
    "\"\"\"\n",
    "2.- Iterar el diccionario ventas y mostrar en pantalla todos los meses cuyas ventas sean\n",
    "superiores a 45000.\n",
    "\"\"\"\n",
    "iter2 = {k for k,v in ventas.items() if v>45000 }\n",
    "for i in iter2:\n",
    "    print(i)\n",
    "    \n"
   ]
  },
  {
   "cell_type": "code",
   "execution_count": 34,
   "metadata": {
    "ExecuteTime": {
     "end_time": "2021-07-12T03:00:43.971485Z",
     "start_time": "2021-07-12T03:00:22.113275Z"
    }
   },
   "outputs": [
    {
     "name": "stdout",
     "output_type": "stream",
     "text": [
      "Ingrese La CANTIDAD de LLAVES2\n",
      "Ingrese la LLAVE 1\n",
      "enero\n",
      "Ingrese el VALOR 1\n",
      "45000\n",
      "Ingrese la LLAVE 2\n",
      "feb\n",
      "Ingrese el VALOR 2\n",
      "30000\n",
      "{'enero': 45000, 'feb': 30000}\n",
      "Ingrese el parametro a filtrar para recibir los parametros superiores\n",
      "44000\n"
     ]
    },
    {
     "data": {
      "text/plain": [
       "{45000}"
      ]
     },
     "execution_count": 34,
     "metadata": {},
     "output_type": "execute_result"
    }
   ],
   "source": [
    "\"\"\"\n",
    "3.- Se pide crear un programa llamado iter3.py que tenga un método llamado\n",
    "filter_dict() que reciba un diccionario y devuelva uno nuevo con los valores superiores a\n",
    "un parámetro que será ingresado al momento de llamar al programa.\n",
    "\"\"\"\n",
    "n = int(input(\"Ingrese La CANTIDAD de LLAVES\"))\n",
    "d = {}\n",
    "\n",
    "for i in range(n):\n",
    "    keys = input(f'Ingrese la LLAVE {i+1}\\n') # here i have taken keys as strings\n",
    "    values = int(input(f'Ingrese el VALOR {i+1}\\n')) # here i have taken values as integers\n",
    "    d[keys] = values\n",
    "print(d)\n",
    "\n",
    "parametro = int(input(\"Ingrese el parametro a filtrar para recibir los parametros superiores\\n\"))\n",
    "\n",
    "def filter_dict(d,parametro):\n",
    "    if str(type(int(parametro)))==\"<class 'int'>\":\n",
    "        result = {v for k,v in d.items() if v>int(parametro) }\n",
    "        return result\n",
    "    else:\n",
    "        print(\"Error de formato\")\n",
    "\n",
    "filter_dict(d,parametro)"
   ]
  },
  {
   "cell_type": "code",
   "execution_count": null,
   "metadata": {
    "ExecuteTime": {
     "end_time": "2021-07-12T01:25:53.467021Z",
     "start_time": "2021-07-12T01:25:53.450956Z"
    }
   },
   "outputs": [],
   "source": [
    "\"\"\"\n",
    "4.- Crear un programa llamado busqueda.py que pueda buscar a cuál mes pertenece una o\n",
    "más cifras específicas. En caso de no encontrarlo mostrar el mensaje \"no encontrado\".\n",
    "\"\"\"\n",
    "import sys\n",
    "\n",
    "lista = sys.argv[1:]\n",
    "busqueda = {v:k for k,v in ventas.items()}\n",
    "#lista = [15000,31000,27000,22000]\n",
    "\n",
    "for i in lista:\n",
    "    if i in busqueda:\n",
    "        print(busqueda[i])\n",
    "    else:\n",
    "        print(\"no encontrado\")\n"
   ]
  },
  {
   "cell_type": "code",
   "execution_count": 37,
   "metadata": {
    "ExecuteTime": {
     "end_time": "2021-07-12T03:06:39.788082Z",
     "start_time": "2021-07-12T03:06:39.770307Z"
    }
   },
   "outputs": [
    {
     "data": {
      "text/plain": [
       "{'Q1': 49000, 'Q2': 111000, 'Q3': 87200, 'Q4': 133500}"
      ]
     },
     "execution_count": 37,
     "metadata": {},
     "output_type": "execute_result"
    }
   ],
   "source": [
    "\"\"\"\n",
    "5.- Generar programa quarters.py.\n",
    "Se pide generar un diccionario, llamado quarters, con las ventas de cada trimestre. Las\n",
    "claves tienen que ser \"Q1\", \"Q2\", \"Q3\", \"Q4\".\n",
    "Tips:\n",
    "● Los valores ingresados serán distintos.\n",
    "● El diccionario de resultados debe llamarse quarters, pues este será el que se evalúe.\n",
    "● ¿Se necesitan los keys?\n",
    "    ○ ¿Necesitamos iterar elementos, o elementos e índices a la vez?\n",
    "\"\"\"\n",
    "q1 = ['Enero', 'Febrero', 'Marzo']\n",
    "q2 = ['Abril', 'Mayo','Junio']\n",
    "q3 = ['Julio', 'Agosto', 'Septiembre']\n",
    "q4 = ['Octubre', 'Noviembre', 'Diciembre']\n",
    "\n",
    "def quarters(diccionario):\n",
    "    obj = {}\n",
    "    for index, q in enumerate([q1,q2,q3,q4]):\n",
    "        obj[f'Q{index+1}'] =  sum([v for k,v in ventas.items() if k in q])\n",
    "        \n",
    "    return obj\n",
    "quarters(ventas)"
   ]
  },
  {
   "cell_type": "code",
   "execution_count": 24,
   "metadata": {
    "ExecuteTime": {
     "end_time": "2021-07-12T02:18:17.330691Z",
     "start_time": "2021-07-12T02:18:17.314733Z"
    }
   },
   "outputs": [
    {
     "data": {
      "text/plain": [
       "{12000: 1,\n",
       " 13000: 1,\n",
       " 15000: 1,\n",
       " 17000: 1,\n",
       " 21000: 2,\n",
       " 21500: 1,\n",
       " 22000: 1,\n",
       " 25000: 1,\n",
       " 41200: 1,\n",
       " 81000: 1,\n",
       " 91000: 1}"
      ]
     },
     "execution_count": 24,
     "metadata": {},
     "output_type": "execute_result"
    }
   ],
   "source": [
    "\"\"\"\n",
    "6.- Generar programa agrupados.py.\n",
    "● Se solicita generar un diccionario con \"n\" claves, una para cada posible valor de\n",
    "venta dentro del diccionario.\n",
    "● Para cada clave generada, se debe indicar cuántas veces estuvo presente ese valor\n",
    "\"\"\"\n",
    "\n",
    "from itertools import groupby\n",
    "valor = [ i for i in ventas.values()]\n",
    "valor.sort()\n",
    "res6 = {k:len(list(v)) for k,v in groupby(valor)}\n",
    "res6"
   ]
  },
  {
   "cell_type": "code",
   "execution_count": 35,
   "metadata": {
    "ExecuteTime": {
     "end_time": "2021-07-12T03:03:26.334968Z",
     "start_time": "2021-07-12T03:03:26.320233Z"
    }
   },
   "outputs": [
    {
     "data": {
      "text/plain": [
       "True"
      ]
     },
     "execution_count": 35,
     "metadata": {},
     "output_type": "execute_result"
    }
   ],
   "source": [
    "isinstance(4,int)"
   ]
  },
  {
   "cell_type": "code",
   "execution_count": null,
   "metadata": {},
   "outputs": [],
   "source": []
  }
 ],
 "metadata": {
  "hide_input": false,
  "kernelspec": {
   "display_name": "Python 3",
   "language": "python",
   "name": "python3"
  },
  "language_info": {
   "codemirror_mode": {
    "name": "ipython",
    "version": 3
   },
   "file_extension": ".py",
   "mimetype": "text/x-python",
   "name": "python",
   "nbconvert_exporter": "python",
   "pygments_lexer": "ipython3",
   "version": "3.7.3"
  },
  "toc": {
   "base_numbering": 1,
   "nav_menu": {},
   "number_sections": true,
   "sideBar": true,
   "skip_h1_title": false,
   "title_cell": "Table of Contents",
   "title_sidebar": "Contents",
   "toc_cell": false,
   "toc_position": {},
   "toc_section_display": true,
   "toc_window_display": false
  }
 },
 "nbformat": 4,
 "nbformat_minor": 2
}
