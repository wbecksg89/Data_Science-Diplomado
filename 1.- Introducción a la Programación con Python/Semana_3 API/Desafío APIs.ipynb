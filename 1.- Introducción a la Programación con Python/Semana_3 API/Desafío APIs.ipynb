{
 "cells": [
  {
   "cell_type": "code",
   "execution_count": 23,
   "metadata": {
    "ExecuteTime": {
     "end_time": "2021-07-12T14:08:37.453627Z",
     "start_time": "2021-07-12T14:08:37.251050Z"
    }
   },
   "outputs": [
    {
     "name": "stdout",
     "output_type": "stream",
     "text": [
      "[{'id': 1, 'email': 'george.bluth@reqres.in', 'first_name': 'George', 'last_name': 'Bluth', 'avatar': 'https://reqres.in/img/faces/1-image.jpg'}, {'id': 2, 'email': 'janet.weaver@reqres.in', 'first_name': 'Janet', 'last_name': 'Weaver', 'avatar': 'https://reqres.in/img/faces/2-image.jpg'}, {'id': 3, 'email': 'emma.wong@reqres.in', 'first_name': 'Emma', 'last_name': 'Wong', 'avatar': 'https://reqres.in/img/faces/3-image.jpg'}, {'id': 4, 'email': 'eve.holt@reqres.in', 'first_name': 'Eve', 'last_name': 'Holt', 'avatar': 'https://reqres.in/img/faces/4-image.jpg'}, {'id': 5, 'email': 'charles.morris@reqres.in', 'first_name': 'Charles', 'last_name': 'Morris', 'avatar': 'https://reqres.in/img/faces/5-image.jpg'}, {'id': 6, 'email': 'tracey.ramos@reqres.in', 'first_name': 'Tracey', 'last_name': 'Ramos', 'avatar': 'https://reqres.in/img/faces/6-image.jpg'}]\n"
     ]
    }
   ],
   "source": [
    "url = 'https://reqres.in/api/users'\n",
    "\n",
    "\"\"\"\n",
    "Desafío 1\n",
    "● Obtenga toda la información de los usuarios retornada por la API, guárdela en una\n",
    "variable llamada users_data e imprímala en pantalla.\n",
    "\"\"\"\n",
    "import requests\n",
    "import json\n",
    "\n",
    "def request(re)\n",
    "url = \"https://reqres.in/api/users\"\n",
    "url2='https://reqres.in/api/users?page=3'\n",
    "payload={}\n",
    "headers = {}\n",
    "response = requests.request(\"GET\", url, headers=headers, data=payload)\n",
    "results = json.loads(response.text)\n",
    "users_data = results['data']\n",
    "print(users_data)"
   ]
  },
  {
   "cell_type": "code",
   "execution_count": 20,
   "metadata": {
    "ExecuteTime": {
     "end_time": "2021-07-12T14:06:37.331154Z",
     "start_time": "2021-07-12T14:06:37.323200Z"
    }
   },
   "outputs": [],
   "source": [
    "for i in users_data:\n",
    "    if i['id']==709:\n",
    "        print(i)"
   ]
  },
  {
   "cell_type": "code",
   "execution_count": 44,
   "metadata": {
    "ExecuteTime": {
     "end_time": "2021-07-13T00:41:08.684257Z",
     "start_time": "2021-07-13T00:41:07.894077Z"
    }
   },
   "outputs": [
    {
     "data": {
      "text/plain": [
       "[{'id': 1,\n",
       "  'email': 'george.bluth@reqres.in',\n",
       "  'first_name': 'George',\n",
       "  'last_name': 'Bluth',\n",
       "  'avatar': 'https://reqres.in/img/faces/1-image.jpg'},\n",
       " {'id': 2,\n",
       "  'email': 'janet.weaver@reqres.in',\n",
       "  'first_name': 'Janet',\n",
       "  'last_name': 'Weaver',\n",
       "  'avatar': 'https://reqres.in/img/faces/2-image.jpg'},\n",
       " {'id': 3,\n",
       "  'email': 'emma.wong@reqres.in',\n",
       "  'first_name': 'Emma',\n",
       "  'last_name': 'Wong',\n",
       "  'avatar': 'https://reqres.in/img/faces/3-image.jpg'},\n",
       " {'id': 4,\n",
       "  'email': 'eve.holt@reqres.in',\n",
       "  'first_name': 'Eve',\n",
       "  'last_name': 'Holt',\n",
       "  'avatar': 'https://reqres.in/img/faces/4-image.jpg'},\n",
       " {'id': 5,\n",
       "  'email': 'charles.morris@reqres.in',\n",
       "  'first_name': 'Charles',\n",
       "  'last_name': 'Morris',\n",
       "  'avatar': 'https://reqres.in/img/faces/5-image.jpg'},\n",
       " {'id': 6,\n",
       "  'email': 'tracey.ramos@reqres.in',\n",
       "  'first_name': 'Tracey',\n",
       "  'last_name': 'Ramos',\n",
       "  'avatar': 'https://reqres.in/img/faces/6-image.jpg'}]"
      ]
     },
     "execution_count": 44,
     "metadata": {},
     "output_type": "execute_result"
    }
   ],
   "source": [
    "url10='https://reqres.in/api/users?page=10'\n",
    "url3='https://reqres.in/api/users?page=3'\n",
    "url2='https://reqres.in/api/users?page=2'\n",
    "url = \"https://reqres.in/api/users\"\n",
    "def request(url):\n",
    "    \n",
    "    payload={}\n",
    "    headers = {}\n",
    "    response = requests.request(\"GET\", url, headers=headers, data=payload)\n",
    "    results = json.loads(response.text)\n",
    "    return results['data']\n",
    "request(url)"
   ]
  },
  {
   "cell_type": "code",
   "execution_count": 45,
   "metadata": {
    "ExecuteTime": {
     "end_time": "2021-07-13T00:41:25.730100Z",
     "start_time": "2021-07-13T00:41:25.003102Z"
    },
    "scrolled": true
   },
   "outputs": [
    {
     "name": "stdout",
     "output_type": "stream",
     "text": [
      "{\"name\":\"Ignacio\",\"job\":\"Profesor\",\"userId\":1,\"id\":\"883\",\"createdAt\":\"2021-07-13T00:41:26.525Z\"}\n"
     ]
    }
   ],
   "source": [
    "\"\"\"\n",
    "Desafío 2\n",
    "● Cree un usuario que tenga de nombre Ignacio y de trabajo Profesor. Guarde el\n",
    "diccionario de respuesta en una variable llamada created_user e imprímala en\n",
    "pantalla.\n",
    "\"\"\"\n",
    "import requests\n",
    "import json\n",
    "\n",
    "url = \"https://reqres.in/api/users\"\n",
    "\n",
    "payload = json.dumps({\n",
    "  \"name\": \"Ignacio\",\n",
    "  \"job\": \"Profesor\",\n",
    "  \"userId\": 1\n",
    "})\n",
    "headers = {\n",
    "  'Content-Type': 'application/json'\n",
    "}\n",
    "\n",
    "response = requests.request(\"POST\", url, headers=headers, data=payload)\n",
    "\n",
    "print(response.text)\n",
    "\n"
   ]
  },
  {
   "cell_type": "code",
   "execution_count": 46,
   "metadata": {
    "ExecuteTime": {
     "end_time": "2021-07-13T00:41:45.949525Z",
     "start_time": "2021-07-13T00:41:45.234854Z"
    }
   },
   "outputs": [
    {
     "name": "stdout",
     "output_type": "stream",
     "text": [
      "{\"name\":\"morpheus\",\"residence\":\"zion\",\"userId\":1,\"updatedAt\":\"2021-07-13T00:41:46.741Z\"}\n"
     ]
    }
   ],
   "source": [
    "\"\"\"\n",
    "Desafío 3\n",
    "● Actualice un usuario llamado morpheus para que tenga un campo llamado\n",
    "residence igual a zion. Guarde el diccionario de respuesta en una variable llamada\n",
    "updated_user e imprímala en pantalla.\n",
    "\"\"\"\n",
    "\n",
    "import requests\n",
    "\n",
    "url = \"https://reqres.in/api/users/883\"\n",
    "\n",
    "payload = \"{\\r\\n    \\\"name\\\": \\\"morpheus\\\",\\r\\n    \\\"residence\\\": \\\"zion\\\",\\r\\n    \\\"userId\\\": 1\\r\\n}\"\n",
    "headers = {\n",
    "  'Content-Type': 'application/json'\n",
    "}\n",
    "\n",
    "response = requests.request(\"PUT\", url, headers=headers, data=payload)\n",
    "\n",
    "print(response.text)\n"
   ]
  },
  {
   "cell_type": "code",
   "execution_count": null,
   "metadata": {},
   "outputs": [],
   "source": [
    "\"\"\"\n",
    "Desafío 4\n",
    "● Elimine un usuario llamado Pepe. Imprima el código de respuesta en pantalla.\n",
    "\"\"\"\n",
    "import requests\n",
    "import json\n",
    "\n",
    "url = \"https://reqres.in/api/users/2\"\n",
    "\n",
    "payload = json.dumps({\n",
    "  \"name\": \"Pepe\"\n",
    "})\n",
    "headers = {\n",
    "  'Content-Type': 'application/json'\n",
    "}\n",
    "\n",
    "response = requests.request(\"DELETE\", url, headers=headers, data=payload)\n",
    "\n",
    "print(response.text)\n"
   ]
  }
 ],
 "metadata": {
  "hide_input": false,
  "kernelspec": {
   "display_name": "Python 3",
   "language": "python",
   "name": "python3"
  },
  "language_info": {
   "codemirror_mode": {
    "name": "ipython",
    "version": 3
   },
   "file_extension": ".py",
   "mimetype": "text/x-python",
   "name": "python",
   "nbconvert_exporter": "python",
   "pygments_lexer": "ipython3",
   "version": "3.7.3"
  },
  "toc": {
   "base_numbering": 1,
   "nav_menu": {},
   "number_sections": true,
   "sideBar": true,
   "skip_h1_title": false,
   "title_cell": "Table of Contents",
   "title_sidebar": "Contents",
   "toc_cell": false,
   "toc_position": {},
   "toc_section_display": true,
   "toc_window_display": false
  }
 },
 "nbformat": 4,
 "nbformat_minor": 2
}
