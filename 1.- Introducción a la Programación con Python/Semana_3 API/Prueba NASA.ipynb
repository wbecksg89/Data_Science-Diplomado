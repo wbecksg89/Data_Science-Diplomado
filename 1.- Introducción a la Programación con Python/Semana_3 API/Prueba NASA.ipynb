{
 "cells": [
  {
   "cell_type": "code",
   "execution_count": 2,
   "metadata": {
    "ExecuteTime": {
     "end_time": "2021-07-14T23:07:20.893483Z",
     "start_time": "2021-07-14T23:07:20.871574Z"
    }
   },
   "outputs": [
    {
     "data": {
      "text/plain": [
       "'\\nAccount Email: wbecksg@gmail.com\\nAccount ID: 541f27c0-0669-4f3d-a66a-b0c331137c38\\nExtraer -> \\'img_src\\' de url2\\n- url_original no funciona porq pide el key en la misma url = \"https://api.nasa.gov/mars-photos/api/v1/rovers/curiosity/latest_photos\"\\n - url_key_example = \"https://api.nasa.gov/planetary/apod?api_key=VMClP6jgB3lZb8CEROzMZLVGDAtaONaFtGDzqInD\"\\n'"
      ]
     },
     "execution_count": 2,
     "metadata": {},
     "output_type": "execute_result"
    }
   ],
   "source": [
    "key=\"VMClP6jgB3lZb8CEROzMZLVGDAtaONaFtGDzqInD\"\n",
    "url = \"https://api.nasa.gov/mars-photos/api/v1/rovers/curiosity/latest_photos?api_key=VMClP6jgB3lZb8CEROzMZLVGDAtaONaFtGDzqInD\"\n",
    "\"\"\"\n",
    "Account Email: wbecksg@gmail.com\n",
    "Account ID: 541f27c0-0669-4f3d-a66a-b0c331137c38\n",
    "Extraer -> 'img_src' de url2\n",
    "- url_original no funciona porq pide el key en la misma url = \"https://api.nasa.gov/mars-photos/api/v1/rovers/curiosity/latest_photos\"\n",
    " - url_key_example = \"https://api.nasa.gov/planetary/apod?api_key=VMClP6jgB3lZb8CEROzMZLVGDAtaONaFtGDzqInD\"\n",
    "\"\"\"\n"
   ]
  },
  {
   "cell_type": "markdown",
   "metadata": {},
   "source": [
    "1. Haga una consulta a la API, incluyendo dentro de la request la API Key entregada al \n",
    "momento de registrarse, que recupere la información asociada a las imágenes \n",
    "tomadas por el mars rover. Quédese solo con los 25 primeros registros entregados \n",
    "por la API y descarte los demás."
   ]
  },
  {
   "cell_type": "code",
   "execution_count": 68,
   "metadata": {
    "ExecuteTime": {
     "end_time": "2021-07-15T00:41:44.879170Z",
     "start_time": "2021-07-15T00:41:43.937240Z"
    }
   },
   "outputs": [
    {
     "name": "stdout",
     "output_type": "stream",
     "text": [
      "[{'id': 861539, 'sol': 3177, 'camera': {'id': 20, 'name': 'FHAZ', 'rover_id': 5, 'full_name': 'Front Hazard Avoidance Camera'}, 'img_src': 'https://mars.nasa.gov/msl-raw-images/proj/msl/redops/ods/surface/sol/03177/opgs/edr/fcam/FLB_679530155EDR_F0891992FHAZ00341M_.JPG', 'earth_date': '2021-07-14', 'rover': {'id': 5, 'name': 'Curiosity', 'landing_date': '2012-08-06', 'launch_date': '2011-11-26', 'status': 'active'}}, {'id': 861540, 'sol': 3177, 'camera': {'id': 20, 'name': 'FHAZ', 'rover_id': 5, 'full_name': 'Front Hazard Avoidance Camera'}, 'img_src': 'https://mars.nasa.gov/msl-raw-images/proj/msl/redops/ods/surface/sol/03177/opgs/edr/fcam/FRB_679530155EDR_F0891992FHAZ00341M_.JPG', 'earth_date': '2021-07-14', 'rover': {'id': 5, 'name': 'Curiosity', 'landing_date': '2012-08-06', 'launch_date': '2011-11-26', 'status': 'active'}}, {'id': 861541, 'sol': 3177, 'camera': {'id': 21, 'name': 'RHAZ', 'rover_id': 5, 'full_name': 'Rear Hazard Avoidance Camera'}, 'img_src': 'https://mars.nasa.gov/msl-raw-images/proj/msl/redops/ods/surface/sol/03177/opgs/edr/rcam/RRB_679530192EDR_F0891992RHAZ00341M_.JPG', 'earth_date': '2021-07-14', 'rover': {'id': 5, 'name': 'Curiosity', 'landing_date': '2012-08-06', 'launch_date': '2011-11-26', 'status': 'active'}}, {'id': 861542, 'sol': 3177, 'camera': {'id': 21, 'name': 'RHAZ', 'rover_id': 5, 'full_name': 'Rear Hazard Avoidance Camera'}, 'img_src': 'https://mars.nasa.gov/msl-raw-images/proj/msl/redops/ods/surface/sol/03177/opgs/edr/rcam/RLB_679530192EDR_F0891992RHAZ00341M_.JPG', 'earth_date': '2021-07-14', 'rover': {'id': 5, 'name': 'Curiosity', 'landing_date': '2012-08-06', 'launch_date': '2011-11-26', 'status': 'active'}}, {'id': 861553, 'sol': 3177, 'camera': {'id': 23, 'name': 'CHEMCAM', 'rover_id': 5, 'full_name': 'Chemistry and Camera Complex'}, 'img_src': 'https://mars.nasa.gov/msl-raw-images/proj/msl/redops/ods/surface/sol/03177/opgs/edr/ccam/CR0_679529089EDR_F0891992CCAM02176M_.JPG', 'earth_date': '2021-07-14', 'rover': {'id': 5, 'name': 'Curiosity', 'landing_date': '2012-08-06', 'launch_date': '2011-11-26', 'status': 'active'}}, {'id': 861554, 'sol': 3177, 'camera': {'id': 23, 'name': 'CHEMCAM', 'rover_id': 5, 'full_name': 'Chemistry and Camera Complex'}, 'img_src': 'https://mars.nasa.gov/msl-raw-images/proj/msl/redops/ods/surface/sol/03177/opgs/edr/ccam/CR0_679528273EDR_F0891992CCAM02176M_.JPG', 'earth_date': '2021-07-14', 'rover': {'id': 5, 'name': 'Curiosity', 'landing_date': '2012-08-06', 'launch_date': '2011-11-26', 'status': 'active'}}, {'id': 861555, 'sol': 3177, 'camera': {'id': 23, 'name': 'CHEMCAM', 'rover_id': 5, 'full_name': 'Chemistry and Camera Complex'}, 'img_src': 'https://mars.nasa.gov/msl-raw-images/proj/msl/redops/ods/surface/sol/03177/soas/rdr/ccam/CR0_679529089PRC_F0891992CCAM02176L1.PNG', 'earth_date': '2021-07-14', 'rover': {'id': 5, 'name': 'Curiosity', 'landing_date': '2012-08-06', 'launch_date': '2011-11-26', 'status': 'active'}}, {'id': 861556, 'sol': 3177, 'camera': {'id': 23, 'name': 'CHEMCAM', 'rover_id': 5, 'full_name': 'Chemistry and Camera Complex'}, 'img_src': 'https://mars.nasa.gov/msl-raw-images/proj/msl/redops/ods/surface/sol/03177/soas/rdr/ccam/CR0_679528273PRC_F0891992CCAM02176L1.PNG', 'earth_date': '2021-07-14', 'rover': {'id': 5, 'name': 'Curiosity', 'landing_date': '2012-08-06', 'launch_date': '2011-11-26', 'status': 'active'}}, {'id': 861543, 'sol': 3177, 'camera': {'id': 26, 'name': 'NAVCAM', 'rover_id': 5, 'full_name': 'Navigation Camera'}, 'img_src': 'https://mars.nasa.gov/msl-raw-images/proj/msl/redops/ods/surface/sol/03177/opgs/edr/ncam/NRB_679526740EDR_S0891992NCAM00594M_.JPG', 'earth_date': '2021-07-14', 'rover': {'id': 5, 'name': 'Curiosity', 'landing_date': '2012-08-06', 'launch_date': '2011-11-26', 'status': 'active'}}, {'id': 861544, 'sol': 3177, 'camera': {'id': 26, 'name': 'NAVCAM', 'rover_id': 5, 'full_name': 'Navigation Camera'}, 'img_src': 'https://mars.nasa.gov/msl-raw-images/proj/msl/redops/ods/surface/sol/03177/opgs/edr/ncam/NRB_679526714EDR_S0891992NCAM00594M_.JPG', 'earth_date': '2021-07-14', 'rover': {'id': 5, 'name': 'Curiosity', 'landing_date': '2012-08-06', 'launch_date': '2011-11-26', 'status': 'active'}}, {'id': 861545, 'sol': 3177, 'camera': {'id': 26, 'name': 'NAVCAM', 'rover_id': 5, 'full_name': 'Navigation Camera'}, 'img_src': 'https://mars.nasa.gov/msl-raw-images/proj/msl/redops/ods/surface/sol/03177/opgs/edr/ncam/NRB_679526701EDR_S0891992NCAM00594M_.JPG', 'earth_date': '2021-07-14', 'rover': {'id': 5, 'name': 'Curiosity', 'landing_date': '2012-08-06', 'launch_date': '2011-11-26', 'status': 'active'}}, {'id': 861546, 'sol': 3177, 'camera': {'id': 26, 'name': 'NAVCAM', 'rover_id': 5, 'full_name': 'Navigation Camera'}, 'img_src': 'https://mars.nasa.gov/msl-raw-images/proj/msl/redops/ods/surface/sol/03177/opgs/edr/ncam/NRB_679526688EDR_S0891992NCAM00594M_.JPG', 'earth_date': '2021-07-14', 'rover': {'id': 5, 'name': 'Curiosity', 'landing_date': '2012-08-06', 'launch_date': '2011-11-26', 'status': 'active'}}, {'id': 861547, 'sol': 3177, 'camera': {'id': 26, 'name': 'NAVCAM', 'rover_id': 5, 'full_name': 'Navigation Camera'}, 'img_src': 'https://mars.nasa.gov/msl-raw-images/proj/msl/redops/ods/surface/sol/03177/opgs/edr/ncam/NRB_679526656EDR_S0891992NCAM00594M_.JPG', 'earth_date': '2021-07-14', 'rover': {'id': 5, 'name': 'Curiosity', 'landing_date': '2012-08-06', 'launch_date': '2011-11-26', 'status': 'active'}}, {'id': 861548, 'sol': 3177, 'camera': {'id': 26, 'name': 'NAVCAM', 'rover_id': 5, 'full_name': 'Navigation Camera'}, 'img_src': 'https://mars.nasa.gov/msl-raw-images/proj/msl/redops/ods/surface/sol/03177/opgs/edr/ncam/NRB_679526643EDR_S0891992NCAM00594M_.JPG', 'earth_date': '2021-07-14', 'rover': {'id': 5, 'name': 'Curiosity', 'landing_date': '2012-08-06', 'launch_date': '2011-11-26', 'status': 'active'}}, {'id': 861549, 'sol': 3177, 'camera': {'id': 26, 'name': 'NAVCAM', 'rover_id': 5, 'full_name': 'Navigation Camera'}, 'img_src': 'https://mars.nasa.gov/msl-raw-images/proj/msl/redops/ods/surface/sol/03177/opgs/edr/ncam/NRB_679526630EDR_S0891992NCAM00594M_.JPG', 'earth_date': '2021-07-14', 'rover': {'id': 5, 'name': 'Curiosity', 'landing_date': '2012-08-06', 'launch_date': '2011-11-26', 'status': 'active'}}, {'id': 861550, 'sol': 3177, 'camera': {'id': 26, 'name': 'NAVCAM', 'rover_id': 5, 'full_name': 'Navigation Camera'}, 'img_src': 'https://mars.nasa.gov/msl-raw-images/proj/msl/redops/ods/surface/sol/03177/opgs/edr/ncam/NRB_679526598EDR_S0891992NCAM00594M_.JPG', 'earth_date': '2021-07-14', 'rover': {'id': 5, 'name': 'Curiosity', 'landing_date': '2012-08-06', 'launch_date': '2011-11-26', 'status': 'active'}}, {'id': 861551, 'sol': 3177, 'camera': {'id': 26, 'name': 'NAVCAM', 'rover_id': 5, 'full_name': 'Navigation Camera'}, 'img_src': 'https://mars.nasa.gov/msl-raw-images/proj/msl/redops/ods/surface/sol/03177/opgs/edr/ncam/NRB_679526585EDR_S0891992NCAM00594M_.JPG', 'earth_date': '2021-07-14', 'rover': {'id': 5, 'name': 'Curiosity', 'landing_date': '2012-08-06', 'launch_date': '2011-11-26', 'status': 'active'}}, {'id': 861552, 'sol': 3177, 'camera': {'id': 26, 'name': 'NAVCAM', 'rover_id': 5, 'full_name': 'Navigation Camera'}, 'img_src': 'https://mars.nasa.gov/msl-raw-images/proj/msl/redops/ods/surface/sol/03177/opgs/edr/ncam/NRB_679526572EDR_S0891992NCAM00594M_.JPG', 'earth_date': '2021-07-14', 'rover': {'id': 5, 'name': 'Curiosity', 'landing_date': '2012-08-06', 'launch_date': '2011-11-26', 'status': 'active'}}]\n"
     ]
    }
   ],
   "source": [
    "import requests\n",
    "import json\n",
    "\n",
    "url = \"https://api.nasa.gov/mars-photos/api/v1/rovers/curiosity/latest_photos?api_key=VMClP6jgB3lZb8CEROzMZLVGDAtaONaFtGDzqInD\"\n",
    "def request(requested_url):\n",
    "    payload=\"\"\n",
    "    headers = {\n",
    "        'cache-control': \"no-cache\",\n",
    "        'app_id': '541f27c0-0669-4f3d-a66a-b0c331137c38',      \n",
    "    }\n",
    "    response = requests.request(\"GET\", requested_url, headers=headers, data=payload)\n",
    "    return json.loads(response.text)\n",
    "print(request(url)['latest_photos'][0:25])"
   ]
  },
  {
   "cell_type": "markdown",
   "metadata": {},
   "source": [
    "2. Genere una lista que contenga solo las URLs de las imágenes encontradas en el \n",
    "diccionario de respuesta filtrado de la consulta del punto anterior. La lista de URLs \n",
    "debe ser generada mediante código, se considerará como respuesta incorrecta el \n",
    "copy/paste manual de las direcciones en una lista."
   ]
  },
  {
   "cell_type": "code",
   "execution_count": 69,
   "metadata": {
    "ExecuteTime": {
     "end_time": "2021-07-15T00:42:01.209927Z",
     "start_time": "2021-07-15T00:42:00.393223Z"
    }
   },
   "outputs": [
    {
     "name": "stdout",
     "output_type": "stream",
     "text": [
      "['https://mars.nasa.gov/msl-raw-images/proj/msl/redops/ods/surface/sol/03177/opgs/edr/fcam/FLB_679530155EDR_F0891992FHAZ00341M_.JPG', 'https://mars.nasa.gov/msl-raw-images/proj/msl/redops/ods/surface/sol/03177/opgs/edr/fcam/FRB_679530155EDR_F0891992FHAZ00341M_.JPG', 'https://mars.nasa.gov/msl-raw-images/proj/msl/redops/ods/surface/sol/03177/opgs/edr/rcam/RRB_679530192EDR_F0891992RHAZ00341M_.JPG', 'https://mars.nasa.gov/msl-raw-images/proj/msl/redops/ods/surface/sol/03177/opgs/edr/rcam/RLB_679530192EDR_F0891992RHAZ00341M_.JPG', 'https://mars.nasa.gov/msl-raw-images/proj/msl/redops/ods/surface/sol/03177/opgs/edr/ccam/CR0_679529089EDR_F0891992CCAM02176M_.JPG', 'https://mars.nasa.gov/msl-raw-images/proj/msl/redops/ods/surface/sol/03177/opgs/edr/ccam/CR0_679528273EDR_F0891992CCAM02176M_.JPG', 'https://mars.nasa.gov/msl-raw-images/proj/msl/redops/ods/surface/sol/03177/soas/rdr/ccam/CR0_679529089PRC_F0891992CCAM02176L1.PNG', 'https://mars.nasa.gov/msl-raw-images/proj/msl/redops/ods/surface/sol/03177/soas/rdr/ccam/CR0_679528273PRC_F0891992CCAM02176L1.PNG', 'https://mars.nasa.gov/msl-raw-images/proj/msl/redops/ods/surface/sol/03177/opgs/edr/ncam/NRB_679526740EDR_S0891992NCAM00594M_.JPG', 'https://mars.nasa.gov/msl-raw-images/proj/msl/redops/ods/surface/sol/03177/opgs/edr/ncam/NRB_679526714EDR_S0891992NCAM00594M_.JPG', 'https://mars.nasa.gov/msl-raw-images/proj/msl/redops/ods/surface/sol/03177/opgs/edr/ncam/NRB_679526701EDR_S0891992NCAM00594M_.JPG', 'https://mars.nasa.gov/msl-raw-images/proj/msl/redops/ods/surface/sol/03177/opgs/edr/ncam/NRB_679526688EDR_S0891992NCAM00594M_.JPG', 'https://mars.nasa.gov/msl-raw-images/proj/msl/redops/ods/surface/sol/03177/opgs/edr/ncam/NRB_679526656EDR_S0891992NCAM00594M_.JPG', 'https://mars.nasa.gov/msl-raw-images/proj/msl/redops/ods/surface/sol/03177/opgs/edr/ncam/NRB_679526643EDR_S0891992NCAM00594M_.JPG', 'https://mars.nasa.gov/msl-raw-images/proj/msl/redops/ods/surface/sol/03177/opgs/edr/ncam/NRB_679526630EDR_S0891992NCAM00594M_.JPG', 'https://mars.nasa.gov/msl-raw-images/proj/msl/redops/ods/surface/sol/03177/opgs/edr/ncam/NRB_679526598EDR_S0891992NCAM00594M_.JPG', 'https://mars.nasa.gov/msl-raw-images/proj/msl/redops/ods/surface/sol/03177/opgs/edr/ncam/NRB_679526585EDR_S0891992NCAM00594M_.JPG', 'https://mars.nasa.gov/msl-raw-images/proj/msl/redops/ods/surface/sol/03177/opgs/edr/ncam/NRB_679526572EDR_S0891992NCAM00594M_.JPG']\n"
     ]
    }
   ],
   "source": [
    "images=[]\n",
    "for i in request(url)['latest_photos'][0:25]:\n",
    "    images.append(i['img_src'])\n",
    "print(images)"
   ]
  },
  {
   "cell_type": "markdown",
   "metadata": {},
   "source": [
    "3. Genere una función llamada build_web_page que debe recibir como parámetro una \n",
    "lista con URLs de imágenes en la web y construir una página web que muestre las \n",
    "fotos."
   ]
  },
  {
   "cell_type": "code",
   "execution_count": 70,
   "metadata": {
    "ExecuteTime": {
     "end_time": "2021-07-15T00:45:36.283013Z",
     "start_time": "2021-07-15T00:45:36.249309Z"
    }
   },
   "outputs": [],
   "source": [
    "def build_web_page(images):\n",
    "    html_page=\"\"\n",
    "    count=0\n",
    "\n",
    "    for i in range(len(images)+2):\n",
    "        if count == 0:\n",
    "            #print(\"<html>\\n<head>\\n</head>\\n<body>\\n<ul>\\n\")\n",
    "            html_page+=\"<html>\\n<head>\\n</head>\\n<body>\\n<ul>\\n\"\n",
    "            count+=1\n",
    "        elif count > 0 and count < len(images)+1:\n",
    "            #print(count)\n",
    "            html_page+= \"<li><img src=\\\"{}\\\"><li>\\n\".format(images[i-1])\n",
    "            count+=1\n",
    "            #print(\"<li><img src=\\\"{}\\\"><li>\\n\".format(images[i-1]))\n",
    "        elif count==len(images)+1:\n",
    "            html_page+=\"</ul>\\n</body>\\n</head>\\n</html>\\n\"\n",
    "    \n",
    "    with open(\"prueba_nasa_becks.html\",\"w\") as f:\n",
    "        f.write(html_page)\n",
    "    return html_page\n",
    "\n",
    "\n"
   ]
  },
  {
   "cell_type": "code",
   "execution_count": 71,
   "metadata": {
    "ExecuteTime": {
     "end_time": "2021-07-15T00:46:06.550283Z",
     "start_time": "2021-07-15T00:46:06.542305Z"
    }
   },
   "outputs": [
    {
     "data": {
      "text/plain": [
       "'<html>\\n<head>\\n</head>\\n<body>\\n<ul>\\n<li><img src=\"https://mars.nasa.gov/msl-raw-images/proj/msl/redops/ods/surface/sol/03177/opgs/edr/fcam/FLB_679530155EDR_F0891992FHAZ00341M_.JPG\"><li>\\n<li><img src=\"https://mars.nasa.gov/msl-raw-images/proj/msl/redops/ods/surface/sol/03177/opgs/edr/fcam/FRB_679530155EDR_F0891992FHAZ00341M_.JPG\"><li>\\n<li><img src=\"https://mars.nasa.gov/msl-raw-images/proj/msl/redops/ods/surface/sol/03177/opgs/edr/rcam/RRB_679530192EDR_F0891992RHAZ00341M_.JPG\"><li>\\n<li><img src=\"https://mars.nasa.gov/msl-raw-images/proj/msl/redops/ods/surface/sol/03177/opgs/edr/rcam/RLB_679530192EDR_F0891992RHAZ00341M_.JPG\"><li>\\n<li><img src=\"https://mars.nasa.gov/msl-raw-images/proj/msl/redops/ods/surface/sol/03177/opgs/edr/ccam/CR0_679529089EDR_F0891992CCAM02176M_.JPG\"><li>\\n<li><img src=\"https://mars.nasa.gov/msl-raw-images/proj/msl/redops/ods/surface/sol/03177/opgs/edr/ccam/CR0_679528273EDR_F0891992CCAM02176M_.JPG\"><li>\\n<li><img src=\"https://mars.nasa.gov/msl-raw-images/proj/msl/redops/ods/surface/sol/03177/soas/rdr/ccam/CR0_679529089PRC_F0891992CCAM02176L1.PNG\"><li>\\n<li><img src=\"https://mars.nasa.gov/msl-raw-images/proj/msl/redops/ods/surface/sol/03177/soas/rdr/ccam/CR0_679528273PRC_F0891992CCAM02176L1.PNG\"><li>\\n<li><img src=\"https://mars.nasa.gov/msl-raw-images/proj/msl/redops/ods/surface/sol/03177/opgs/edr/ncam/NRB_679526740EDR_S0891992NCAM00594M_.JPG\"><li>\\n<li><img src=\"https://mars.nasa.gov/msl-raw-images/proj/msl/redops/ods/surface/sol/03177/opgs/edr/ncam/NRB_679526714EDR_S0891992NCAM00594M_.JPG\"><li>\\n<li><img src=\"https://mars.nasa.gov/msl-raw-images/proj/msl/redops/ods/surface/sol/03177/opgs/edr/ncam/NRB_679526701EDR_S0891992NCAM00594M_.JPG\"><li>\\n<li><img src=\"https://mars.nasa.gov/msl-raw-images/proj/msl/redops/ods/surface/sol/03177/opgs/edr/ncam/NRB_679526688EDR_S0891992NCAM00594M_.JPG\"><li>\\n<li><img src=\"https://mars.nasa.gov/msl-raw-images/proj/msl/redops/ods/surface/sol/03177/opgs/edr/ncam/NRB_679526656EDR_S0891992NCAM00594M_.JPG\"><li>\\n<li><img src=\"https://mars.nasa.gov/msl-raw-images/proj/msl/redops/ods/surface/sol/03177/opgs/edr/ncam/NRB_679526643EDR_S0891992NCAM00594M_.JPG\"><li>\\n<li><img src=\"https://mars.nasa.gov/msl-raw-images/proj/msl/redops/ods/surface/sol/03177/opgs/edr/ncam/NRB_679526630EDR_S0891992NCAM00594M_.JPG\"><li>\\n<li><img src=\"https://mars.nasa.gov/msl-raw-images/proj/msl/redops/ods/surface/sol/03177/opgs/edr/ncam/NRB_679526598EDR_S0891992NCAM00594M_.JPG\"><li>\\n<li><img src=\"https://mars.nasa.gov/msl-raw-images/proj/msl/redops/ods/surface/sol/03177/opgs/edr/ncam/NRB_679526585EDR_S0891992NCAM00594M_.JPG\"><li>\\n<li><img src=\"https://mars.nasa.gov/msl-raw-images/proj/msl/redops/ods/surface/sol/03177/opgs/edr/ncam/NRB_679526572EDR_S0891992NCAM00594M_.JPG\"><li>\\n</ul>\\n</body>\\n</head>\\n</html>\\n'"
      ]
     },
     "execution_count": 71,
     "metadata": {},
     "output_type": "execute_result"
    }
   ],
   "source": [
    "build_web_page(images)"
   ]
  },
  {
   "cell_type": "code",
   "execution_count": 67,
   "metadata": {
    "ExecuteTime": {
     "end_time": "2021-07-15T00:39:08.844592Z",
     "start_time": "2021-07-15T00:39:08.840644Z"
    }
   },
   "outputs": [
    {
     "name": "stdout",
     "output_type": "stream",
     "text": [
      "<html>\n",
      "<head>\n",
      "</head>\n",
      "<body>\n",
      "<ul>\n",
      "<li><img src=\"https://mars.nasa.gov/msl-raw-images/proj/msl/redops/ods/surface/sol/03176/opgs/edr/ccam/CR0_679438544EDR_F0891992CCAM01176M_.JPG\"><li>\n",
      "<li><img src=\"https://mars.nasa.gov/msl-raw-images/proj/msl/redops/ods/surface/sol/03176/opgs/edr/ccam/CR0_679437869EDR_F0891992CCAM01176M_.JPG\"><li>\n",
      "<li><img src=\"https://mars.nasa.gov/msl-raw-images/proj/msl/redops/ods/surface/sol/03176/soas/rdr/ccam/CR0_679438544PRC_F0891992CCAM01176L2.PNG\"><li>\n",
      "<li><img src=\"https://mars.nasa.gov/msl-raw-images/proj/msl/redops/ods/surface/sol/03176/soas/rdr/ccam/CR0_679438544PRC_F0891992CCAM01176L1.PNG\"><li>\n",
      "<li><img src=\"https://mars.nasa.gov/msl-raw-images/proj/msl/redops/ods/surface/sol/03176/soas/rdr/ccam/CR0_679437869PRC_F0891992CCAM01176L2.PNG\"><li>\n",
      "<li><img src=\"https://mars.nasa.gov/msl-raw-images/proj/msl/redops/ods/surface/sol/03176/soas/rdr/ccam/CR0_679437869PRC_F0891992CCAM01176L1.PNG\"><li>\n",
      "<li><img src=\"https://mars.nasa.gov/msl-raw-images/proj/msl/redops/ods/surface/sol/03176/opgs/edr/ncam/NRB_679422334EDR_S0891992NCAM00567M_.JPG\"><li>\n",
      "<li><img src=\"https://mars.nasa.gov/msl-raw-images/proj/msl/redops/ods/surface/sol/03176/opgs/edr/ncam/NRB_679422296EDR_S0891992NCAM00567M_.JPG\"><li>\n",
      "<li><img src=\"https://mars.nasa.gov/msl-raw-images/proj/msl/redops/ods/surface/sol/03176/opgs/edr/ncam/NRB_679422258EDR_S0891992NCAM00567M_.JPG\"><li>\n",
      "<li><img src=\"https://mars.nasa.gov/msl-raw-images/proj/msl/redops/ods/surface/sol/03176/opgs/edr/ncam/NRB_679422220EDR_S0891992NCAM00567M_.JPG\"><li>\n",
      "<li><img src=\"https://mars.nasa.gov/msl-raw-images/proj/msl/redops/ods/surface/sol/03176/opgs/edr/ncam/NRB_679422182EDR_S0891992NCAM00567M_.JPG\"><li>\n",
      "<li><img src=\"https://mars.nasa.gov/msl-raw-images/proj/msl/redops/ods/surface/sol/03176/opgs/edr/ncam/NRB_679422144EDR_S0891992NCAM00567M_.JPG\"><li>\n",
      "<li><img src=\"https://mars.nasa.gov/msl-raw-images/proj/msl/redops/ods/surface/sol/03176/opgs/edr/ncam/NRB_679422106EDR_S0891992NCAM00567M_.JPG\"><li>\n",
      "<li><img src=\"https://mars.nasa.gov/msl-raw-images/proj/msl/redops/ods/surface/sol/03176/opgs/edr/ncam/NRB_679422068EDR_S0891992NCAM00567M_.JPG\"><li>\n",
      "<li><img src=\"https://mars.nasa.gov/msl-raw-images/proj/msl/redops/ods/surface/sol/03176/opgs/edr/ncam/NRB_679422019EDR_S0891992NCAM00536M_.JPG\"><li>\n",
      "<li><img src=\"https://mars.nasa.gov/msl-raw-images/proj/msl/redops/ods/surface/sol/03176/opgs/edr/ncam/NRB_679421985EDR_S0891992NCAM00536M_.JPG\"><li>\n",
      "<li><img src=\"https://mars.nasa.gov/msl-raw-images/proj/msl/redops/ods/surface/sol/03176/opgs/edr/ncam/NRB_679421951EDR_S0891992NCAM00536M_.JPG\"><li>\n",
      "<li><img src=\"https://mars.nasa.gov/msl-raw-images/proj/msl/redops/ods/surface/sol/03176/opgs/edr/ncam/NRB_679421917EDR_S0891992NCAM00536M_.JPG\"><li>\n",
      "<li><img src=\"https://mars.nasa.gov/msl-raw-images/proj/msl/redops/ods/surface/sol/03176/opgs/edr/ncam/NRB_679421883EDR_S0891992NCAM00536M_.JPG\"><li>\n",
      "<li><img src=\"https://mars.nasa.gov/msl-raw-images/proj/msl/redops/ods/surface/sol/03176/opgs/edr/ncam/NRB_679421849EDR_S0891992NCAM00536M_.JPG\"><li>\n",
      "<li><img src=\"https://mars.nasa.gov/msl-raw-images/proj/msl/redops/ods/surface/sol/03176/opgs/edr/ncam/NRB_679421815EDR_S0891992NCAM00536M_.JPG\"><li>\n",
      "<li><img src=\"https://mars.nasa.gov/msl-raw-images/proj/msl/redops/ods/surface/sol/03176/opgs/edr/ncam/NRB_679421780EDR_S0891992NCAM00536M_.JPG\"><li>\n",
      "<li><img src=\"https://mars.nasa.gov/msl-raw-images/proj/msl/redops/ods/surface/sol/03176/opgs/edr/ncam/NRB_679422402EDR_M0891992NCAM00580M_.JPG\"><li>\n",
      "</ul>\n",
      "</body>\n",
      "</head>\n",
      "</html>\n",
      "\n"
     ]
    }
   ],
   "source": [
    "print(build_web_page(images))"
   ]
  },
  {
   "cell_type": "code",
   "execution_count": null,
   "metadata": {},
   "outputs": [],
   "source": []
  }
 ],
 "metadata": {
  "hide_input": false,
  "kernelspec": {
   "display_name": "Python 3",
   "language": "python",
   "name": "python3"
  },
  "language_info": {
   "codemirror_mode": {
    "name": "ipython",
    "version": 3
   },
   "file_extension": ".py",
   "mimetype": "text/x-python",
   "name": "python",
   "nbconvert_exporter": "python",
   "pygments_lexer": "ipython3",
   "version": "3.7.3"
  },
  "toc": {
   "base_numbering": 1,
   "nav_menu": {},
   "number_sections": true,
   "sideBar": true,
   "skip_h1_title": false,
   "title_cell": "Table of Contents",
   "title_sidebar": "Contents",
   "toc_cell": false,
   "toc_position": {},
   "toc_section_display": true,
   "toc_window_display": false
  }
 },
 "nbformat": 4,
 "nbformat_minor": 2
}
