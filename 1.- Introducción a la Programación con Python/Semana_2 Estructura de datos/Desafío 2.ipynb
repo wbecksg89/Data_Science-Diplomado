{
 "cells": [
  {
   "cell_type": "code",
   "execution_count": 2,
   "metadata": {
    "ExecuteTime": {
     "end_time": "2021-07-11T20:43:48.561247Z",
     "start_time": "2021-07-11T20:43:48.051481Z"
    }
   },
   "outputs": [
    {
     "name": "stdout",
     "output_type": "stream",
     "text": [
      "1.- El data set tiene 271116 filas y 15 columnas\n",
      "35\n"
     ]
    }
   ],
   "source": [
    "import pandas as pd\n",
    "import numpy as np\n",
    "\n",
    "ejercicio_1 = pd.read_csv(\"athlete_events.csv\")\n",
    "ejercicio_1.shape\n",
    "print(f\"1.- El data set tiene {ejercicio_1.shape[0]} filas y {ejercicio_1.shape[1]} columnas\")\n",
    "\n",
    "# 2. Reportar cuántas competencias se han realizado a lo largo del tiempo.\n",
    "ejercicio_2 = ejercicio_1['Games'].nunique()\n",
    "#print(f\"2.- Se han realizado: {ejercicio_2} competencias\")\n",
    "print(ejercicio_1['Year'].nunique())\n",
    "\n"
   ]
  },
  {
   "cell_type": "code",
   "execution_count": 7,
   "metadata": {
    "ExecuteTime": {
     "end_time": "2021-07-04T00:19:27.757701Z",
     "start_time": "2021-07-04T00:19:27.679541Z"
    }
   },
   "outputs": [
    {
     "data": {
      "text/plain": [
       "Summer    0.820874\n",
       "Winter    0.179126\n",
       "Name: Season, dtype: float64"
      ]
     },
     "execution_count": 7,
     "metadata": {},
     "output_type": "execute_result"
    }
   ],
   "source": [
    "\"\"\"\n",
    "Reportar el porcentaje (número entre 0 y 1) de atletas que participaron tanto en los\n",
    "juegos olímpicos de Verano como en los de Invierno. El resultado debe guardarse en\n",
    "una variable llamada ejercicio_3.\n",
    "\"\"\"\n",
    "\n",
    "atletas_temporadas = ejercicio_1.loc[:,['Name','Season','Games']]\n",
    "ejercicio_3 = atletas_temporadas['Season'].value_counts()/len(atletas_temporadas['Name'])\n",
    "ejercicio_3\n",
    "#resultado = atletas_temporadas.groupby('Name').Season.nunique()\n",
    "#resultado = pd.DataFrame(resultado)\n",
    "#resultado = resultado[(resultado['Season']>1)]\n",
    "\n",
    "#ejercicio_3 = str(round(len(resultado)*100/len(atletas),2))+\"%\"\n",
    "#print(f\"Atletas que participaron en juegos olimpicos de verano e invierno: {len(resultado)}, de un total: {len(atletas)}, el porcentaje es: {ejercicio3}\")\n"
   ]
  },
  {
   "cell_type": "code",
   "execution_count": 3,
   "metadata": {
    "ExecuteTime": {
     "end_time": "2021-07-04T00:15:56.268593Z",
     "start_time": "2021-07-04T00:15:56.239427Z"
    }
   },
   "outputs": [
    {
     "data": {
      "text/plain": [
       "'1896 Summer'"
      ]
     },
     "execution_count": 3,
     "metadata": {},
     "output_type": "execute_result"
    }
   ],
   "source": [
    "\"\"\"4. Informar dónde fue la primera celebración de un Juego Olímpico de Verano. El\n",
    "resultado debe guardarse en una variable llamada ejercicio_4.\n",
    "Tip: Investige sobre las funciones min() y unique() de una Serie de pandas.\"\"\"\n",
    "\n",
    "ejercicio4 = ejercicio_1['Games'].drop_duplicates()\n",
    "ejercicio_4 = ejercicio4.min()\n",
    "ejercicio_4"
   ]
  },
  {
   "cell_type": "code",
   "execution_count": 4,
   "metadata": {
    "ExecuteTime": {
     "end_time": "2021-07-04T00:15:57.685121Z",
     "start_time": "2021-07-04T00:15:57.645154Z"
    }
   },
   "outputs": [
    {
     "data": {
      "text/plain": [
       "'1924 Winter'"
      ]
     },
     "execution_count": 4,
     "metadata": {},
     "output_type": "execute_result"
    }
   ],
   "source": [
    "\"\"\"\n",
    "5. Informar dónde fue la primera celebración de un Juego Olímpico de Invierno. El\n",
    "resultado debe guardarse en una variable llamada ejercicio_5.\n",
    "\"\"\"\n",
    "ejercicio5 = ejercicio_1['Games'].drop_duplicates()\n",
    "ejercicio5 = ejercicio5[ejercicio5.str.contains('Winter')]\n",
    "ejercicio_5 = ejercicio5.min()\n",
    "ejercicio_5"
   ]
  },
  {
   "cell_type": "code",
   "execution_count": 5,
   "metadata": {
    "ExecuteTime": {
     "end_time": "2021-07-04T00:15:58.551494Z",
     "start_time": "2021-07-04T00:15:58.149185Z"
    }
   },
   "outputs": [
    {
     "data": {
      "text/html": [
       "<div>\n",
       "<style scoped>\n",
       "    .dataframe tbody tr th:only-of-type {\n",
       "        vertical-align: middle;\n",
       "    }\n",
       "\n",
       "    .dataframe tbody tr th {\n",
       "        vertical-align: top;\n",
       "    }\n",
       "\n",
       "    .dataframe thead th {\n",
       "        text-align: right;\n",
       "    }\n",
       "</style>\n",
       "<table border=\"1\" class=\"dataframe\">\n",
       "  <thead>\n",
       "    <tr style=\"text-align: right;\">\n",
       "      <th></th>\n",
       "      <th>Name</th>\n",
       "    </tr>\n",
       "    <tr>\n",
       "      <th>Team</th>\n",
       "      <th></th>\n",
       "    </tr>\n",
       "  </thead>\n",
       "  <tbody>\n",
       "    <tr>\n",
       "      <th>United States</th>\n",
       "      <td>9114</td>\n",
       "    </tr>\n",
       "    <tr>\n",
       "      <th>France</th>\n",
       "      <td>5777</td>\n",
       "    </tr>\n",
       "    <tr>\n",
       "      <th>Great Britain</th>\n",
       "      <td>5758</td>\n",
       "    </tr>\n",
       "    <tr>\n",
       "      <th>Italy</th>\n",
       "      <td>4688</td>\n",
       "    </tr>\n",
       "    <tr>\n",
       "      <th>Germany</th>\n",
       "      <td>4569</td>\n",
       "    </tr>\n",
       "    <tr>\n",
       "      <th>Canada</th>\n",
       "      <td>4546</td>\n",
       "    </tr>\n",
       "    <tr>\n",
       "      <th>Japan</th>\n",
       "      <td>3981</td>\n",
       "    </tr>\n",
       "    <tr>\n",
       "      <th>Australia</th>\n",
       "      <td>3766</td>\n",
       "    </tr>\n",
       "    <tr>\n",
       "      <th>Sweden</th>\n",
       "      <td>3613</td>\n",
       "    </tr>\n",
       "    <tr>\n",
       "      <th>Poland</th>\n",
       "      <td>2932</td>\n",
       "    </tr>\n",
       "  </tbody>\n",
       "</table>\n",
       "</div>"
      ],
      "text/plain": [
       "               Name\n",
       "Team               \n",
       "United States  9114\n",
       "France         5777\n",
       "Great Britain  5758\n",
       "Italy          4688\n",
       "Germany        4569\n",
       "Canada         4546\n",
       "Japan          3981\n",
       "Australia      3766\n",
       "Sweden         3613\n",
       "Poland         2932"
      ]
     },
     "execution_count": 5,
     "metadata": {},
     "output_type": "execute_result"
    }
   ],
   "source": [
    "\"\"\"\n",
    "6. Reportar los 10 primeros países con mayor cantidad de atletas participantes a lo largo\n",
    "de los juegos. El resultado debe guardarse en una variable llamada ejercicio_6.\n",
    "\"\"\"\n",
    "atleta_pais = ejercicio_1.loc[:,['Name','Team']]\n",
    "atleta_pais = atleta_pais.drop_duplicates()\n",
    "atleta_pais = atleta_pais.groupby('Team').Name.nunique()\n",
    "atleta_pais = pd.DataFrame(atleta_pais)\n",
    "atleta_pais = atleta_pais.sort_values(by='Name', ascending=False)\n",
    "ejercicio_6 = atleta_pais.head(10)\n",
    "ejercicio_6\n",
    "\n",
    "#resultado = atletas_temporadas.groupby('Name').Season.nunique()"
   ]
  },
  {
   "cell_type": "code",
   "execution_count": 23,
   "metadata": {
    "ExecuteTime": {
     "end_time": "2021-07-04T00:33:18.272498Z",
     "start_time": "2021-07-04T00:33:18.188240Z"
    }
   },
   "outputs": [
    {
     "data": {
      "text/plain": [
       "Gold      0.336123\n",
       "Bronze    0.334188\n",
       "Silver    0.329689\n",
       "Name: Medal, dtype: float64"
      ]
     },
     "execution_count": 23,
     "metadata": {},
     "output_type": "execute_result"
    }
   ],
   "source": [
    "\"\"\"\n",
    "7. Reportar el porcentaje de medallas asignadas (oro, bronce, plata). El resultado debe \n",
    "guardarse en una variable llamada ejercicio_7.\n",
    "\"\"\"\n",
    "ejercicio_7 = ejercicio_1.loc[:,['Medal','Name']]\n",
    "ejercicio_7 = ejercicio_7[ejercicio_7['Medal'].notna()]\n",
    "ejercicio_7 = ejercicio_7['Medal'].value_counts()/ejercicio_7['Medal'].count()\n",
    "ejercicio_7"
   ]
  },
  {
   "cell_type": "code",
   "execution_count": 69,
   "metadata": {
    "ExecuteTime": {
     "end_time": "2021-07-04T01:30:49.237349Z",
     "start_time": "2021-07-04T01:30:49.160772Z"
    },
    "scrolled": true
   },
   "outputs": [
    {
     "data": {
      "text/html": [
       "<div>\n",
       "<style scoped>\n",
       "    .dataframe tbody tr th:only-of-type {\n",
       "        vertical-align: middle;\n",
       "    }\n",
       "\n",
       "    .dataframe tbody tr th {\n",
       "        vertical-align: top;\n",
       "    }\n",
       "\n",
       "    .dataframe thead th {\n",
       "        text-align: right;\n",
       "    }\n",
       "</style>\n",
       "<table border=\"1\" class=\"dataframe\">\n",
       "  <thead>\n",
       "    <tr style=\"text-align: right;\">\n",
       "      <th></th>\n",
       "      <th>Team</th>\n",
       "    </tr>\n",
       "  </thead>\n",
       "  <tbody>\n",
       "    <tr>\n",
       "      <th>0</th>\n",
       "      <td>Australia</td>\n",
       "    </tr>\n",
       "    <tr>\n",
       "      <th>1</th>\n",
       "      <td>Austria</td>\n",
       "    </tr>\n",
       "    <tr>\n",
       "      <th>2</th>\n",
       "      <td>Denmark</td>\n",
       "    </tr>\n",
       "    <tr>\n",
       "      <th>3</th>\n",
       "      <td>France</td>\n",
       "    </tr>\n",
       "    <tr>\n",
       "      <th>4</th>\n",
       "      <td>Germany</td>\n",
       "    </tr>\n",
       "    <tr>\n",
       "      <th>5</th>\n",
       "      <td>Great Britain</td>\n",
       "    </tr>\n",
       "    <tr>\n",
       "      <th>6</th>\n",
       "      <td>Greece</td>\n",
       "    </tr>\n",
       "    <tr>\n",
       "      <th>7</th>\n",
       "      <td>Hungary</td>\n",
       "    </tr>\n",
       "    <tr>\n",
       "      <th>8</th>\n",
       "      <td>Italy</td>\n",
       "    </tr>\n",
       "    <tr>\n",
       "      <th>9</th>\n",
       "      <td>Sweden</td>\n",
       "    </tr>\n",
       "    <tr>\n",
       "      <th>10</th>\n",
       "      <td>Switzerland</td>\n",
       "    </tr>\n",
       "    <tr>\n",
       "      <th>11</th>\n",
       "      <td>United States</td>\n",
       "    </tr>\n",
       "  </tbody>\n",
       "</table>\n",
       "</div>"
      ],
      "text/plain": [
       "             Team\n",
       "0       Australia\n",
       "1         Austria\n",
       "2         Denmark\n",
       "3          France\n",
       "4         Germany\n",
       "5   Great Britain\n",
       "6          Greece\n",
       "7         Hungary\n",
       "8           Italy\n",
       "9          Sweden\n",
       "10    Switzerland\n",
       "11  United States"
      ]
     },
     "execution_count": 69,
     "metadata": {},
     "output_type": "execute_result"
    }
   ],
   "source": [
    "\"\"\"\n",
    "8. Reportar cuáles fueron los países participantes en las primeras olimpiadas de verano. \n",
    "El resultado debe guardarse en una variable llamada ejercicio_8.\n",
    "\"\"\"\n",
    "pd.set_option('display.max_rows', 500)\n",
    "ejercicio_8 = ejercicio_1[ejercicio_1['Games']==ejercicio_4]\n",
    "\n",
    "duplicates = [1,2,5,9,10,12,13,14]\n",
    "ejercicio_8 = ejercicio_8.loc[:,['Team','NOC']].drop_duplicates().sort_values(by='Team').reset_index(drop=True)\n",
    "ejercicio_8 = ejercicio_8[~ejercicio_8.index.isin(duplicates)].reset_index(drop=True)\n",
    "ejercicio_8 = ejercicio_8.loc[:,['Team']]\n",
    "ejercicio_8"
   ]
  },
  {
   "cell_type": "code",
   "execution_count": null,
   "metadata": {},
   "outputs": [],
   "source": []
  }
 ],
 "metadata": {
  "hide_input": false,
  "kernelspec": {
   "display_name": "Python 3",
   "language": "python",
   "name": "python3"
  },
  "language_info": {
   "codemirror_mode": {
    "name": "ipython",
    "version": 3
   },
   "file_extension": ".py",
   "mimetype": "text/x-python",
   "name": "python",
   "nbconvert_exporter": "python",
   "pygments_lexer": "ipython3",
   "version": "3.7.3"
  },
  "toc": {
   "base_numbering": 1,
   "nav_menu": {},
   "number_sections": true,
   "sideBar": true,
   "skip_h1_title": false,
   "title_cell": "Table of Contents",
   "title_sidebar": "Contents",
   "toc_cell": false,
   "toc_position": {},
   "toc_section_display": true,
   "toc_window_display": false
  }
 },
 "nbformat": 4,
 "nbformat_minor": 2
}
