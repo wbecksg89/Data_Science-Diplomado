{
 "cells": [
  {
   "cell_type": "code",
   "execution_count": 36,
   "metadata": {
    "ExecuteTime": {
     "end_time": "2021-06-27T20:45:59.073112Z",
     "start_time": "2021-06-27T20:45:59.050174Z"
    }
   },
   "outputs": [
    {
     "name": "stdout",
     "output_type": "stream",
     "text": [
      "La cantidad de eventos bajo el promedio son: 26 de 50 eventos totales\n",
      "La cantidad de eventos bajo la velocidad y distancia promedio son: 4 de 50 eventos totales\n",
      "La cantidad de eventos sobre el promedio son: 24 de 50 eventos totales\n",
      "La cantidad de eventos de velocidad sobre el promedio y distancia bajo el promedio son: 46 de 50 eventos totales\n"
     ]
    }
   ],
   "source": [
    "velocidad = [4, 4, 7, 7, 8, 9, 10, 10, 10,\n",
    " 11, 11, 12, 12, 12, 12, 13, 13,\n",
    " 13, 13, 14, 14, 14, 14, 15, 15,\n",
    " 15, 16, 16, 17, 17, 17, 18, 18,\n",
    " 18, 18, 19, 19, 19, 20, 20, 20,\n",
    " 20, 20, 22, 23, 24, 24, 24, 24, 25]\n",
    "distancia = [2, 10, 4, 22, 16, 10, 18, 26, 34,\n",
    " 17, 28, 14, 20, 24, 28, 26, 34, 34,\n",
    " 46, 26, 36, 60, 80, 20, 26, 54, 32,\n",
    " 40, 32, 40, 50, 42, 56, 76, 84, 36,\n",
    " 46, 68, 32, 48, 52, 56, 64, 66, 54,\n",
    " 70, 92, 93, 120, 85]\n",
    "\"\"\"\n",
    "Con esta función se le solicita que, utilizando contadores, cuente cuántas veces ocurre cada\n",
    "uno de los siguientes eventos:\n",
    "● Velocidad bajo el promedio.\n",
    "● Velocidad bajo el promedio y distancia sobre el promedio.\n",
    "● Velocidad sobre el promedio.\n",
    "● Velocidad sobre el promedio y distancia bajo el promedio.\n",
    "\"\"\"\n",
    "\n",
    "vd = [i for i in zip(velocidad,distancia)]\n",
    "\n",
    "#1.- Velocidad Promedio\n",
    "vel_promedio = sum(velocidad)/len(velocidad)\n",
    "dist_promedio = sum(distancia)/len(distancia)\n",
    "\n",
    "#1.1.- Velocidades bajo el promedio\n",
    "cantidad_vel_bajo_promedio = len(list(filter(lambda x: x<vel_promedio,velocidad)))\n",
    "print(f\"La cantidad de eventos bajo el promedio son: {cantidad_vel_bajo_promedio} de {len(velocidad)} eventos totales\")\n",
    "\n",
    "#2.- Velocidad bajo promedio & distancia sobre el promedio\n",
    "dos = [i for i in vd if i[0]< vel_promedio and i[1]> dist_promedio]\n",
    "dos_total = len(dos)\n",
    "print(f\"La cantidad de eventos bajo la velocidad y distancia promedio son: {dos_total} de {len(vd)} eventos totales\")\n",
    "\n",
    "#3.- Velocidad sobre el promedio\n",
    "tres = len(velocidad)-cantidad_vel_bajo_promedio\n",
    "print(f\"La cantidad de eventos sobre el promedio son: {tres} de {len(vd)} eventos totales\")\n",
    "\n",
    "#4.- Velocidad sobre el promedio y distancia bajo el promedio.\n",
    "print(f\"La cantidad de eventos de velocidad sobre el promedio y distancia bajo el promedio son: {len(vd)-dos_total} de {len(vd)} eventos totales\")\n"
   ]
  },
  {
   "cell_type": "code",
   "execution_count": null,
   "metadata": {},
   "outputs": [],
   "source": []
  }
 ],
 "metadata": {
  "hide_input": false,
  "kernelspec": {
   "display_name": "Python 3",
   "language": "python",
   "name": "python3"
  },
  "language_info": {
   "codemirror_mode": {
    "name": "ipython",
    "version": 3
   },
   "file_extension": ".py",
   "mimetype": "text/x-python",
   "name": "python",
   "nbconvert_exporter": "python",
   "pygments_lexer": "ipython3",
   "version": "3.7.3"
  },
  "toc": {
   "base_numbering": 1,
   "nav_menu": {},
   "number_sections": true,
   "sideBar": true,
   "skip_h1_title": false,
   "title_cell": "Table of Contents",
   "title_sidebar": "Contents",
   "toc_cell": false,
   "toc_position": {},
   "toc_section_display": true,
   "toc_window_display": false
  }
 },
 "nbformat": 4,
 "nbformat_minor": 2
}
