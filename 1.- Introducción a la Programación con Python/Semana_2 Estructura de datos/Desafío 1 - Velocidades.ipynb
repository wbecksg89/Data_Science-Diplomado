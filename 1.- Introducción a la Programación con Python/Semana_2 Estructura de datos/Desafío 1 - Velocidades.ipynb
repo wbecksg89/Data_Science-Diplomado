{
 "cells": [
  {
   "cell_type": "markdown",
   "metadata": {
    "ExecuteTime": {
     "end_time": "2021-06-23T23:35:04.900898Z",
     "start_time": "2021-06-23T23:35:04.883953Z"
    }
   },
   "source": [
    "## Velocidad"
   ]
  },
  {
   "cell_type": "code",
   "execution_count": 7,
   "metadata": {
    "ExecuteTime": {
     "end_time": "2021-06-27T18:07:25.005993Z",
     "start_time": "2021-06-27T18:07:24.996007Z"
    }
   },
   "outputs": [
    {
     "name": "stdout",
     "output_type": "stream",
     "text": [
      "El promedio es: 15.4\n"
     ]
    }
   ],
   "source": [
    "from functools import reduce\n",
    "\n",
    "velocidad = [4, 4, 7, 7, 8, 9, 10, 10, 10,\n",
    " 11, 11, 12, 12, 12, 12, 13, 13,\n",
    " 13, 13, 14, 14, 14, 14, 15, 15,\n",
    " 15, 16, 16, 17, 17, 17, 18, 18,\n",
    " 18, 18, 19, 19, 19, 20, 20, 20,\n",
    " 20, 20, 22, 23, 24, 24, 24, 24, 25]\n",
    "\n",
    "def promedio(arreglo):\n",
    "    return sum(arreglo)/len(arreglo)\n",
    "\n",
    "print(f\"El promedio es: {promedio(velocidad)}\")"
   ]
  },
  {
   "cell_type": "markdown",
   "metadata": {
    "ExecuteTime": {
     "end_time": "2021-06-24T00:58:13.587017Z",
     "start_time": "2021-06-24T00:58:13.578019Z"
    }
   },
   "source": [
    "## listas_uno"
   ]
  },
  {
   "cell_type": "code",
   "execution_count": 5,
   "metadata": {
    "ExecuteTime": {
     "end_time": "2021-06-27T18:06:59.986511Z",
     "start_time": "2021-06-27T18:06:59.963572Z"
    }
   },
   "outputs": [
    {
     "name": "stdout",
     "output_type": "stream",
     "text": [
      "1.- Lista anidada que contenga los 6 autos: [['Mazda RX4', 21.0, 6, False, 4], ['Merc 240D', 24.4, 4, True, 2], ['Merc 280', 19.2, 6, True, 4], ['Valiant', 18.1, 6, True, 1], ['Merc 450SL', 17.3, 8, False, 3], ['Toyota Corolla', 33.9, 4, True, 1]]\n",
      "\n"
     ]
    }
   ],
   "source": [
    "auto1 = ['Mazda RX4', 21.0, 6, False, 4]\n",
    "auto2 = ['Merc 240D', 24.4, 4, True, 2]\n",
    "auto3 = ['Merc 280', 19.2, 6, True, 4]\n",
    "auto4 = ['Valiant', 18.1, 6, True, 1]\n",
    "auto5 = ['Merc 450SL', 17.3, 8, False, 3]\n",
    "auto6 = ['Toyota Corolla', 33.9, 4, True, 1]\n",
    "\n",
    "#1.- Lista anidada que contenga los 6 autos\n",
    "autos=[]\n",
    "\n",
    "for i in [auto1,auto2,auto3,auto4,auto5,auto6]:\n",
    "    autos.append(i)\n",
    "print(f\"1.- Lista anidada que contenga los 6 autos: {autos}\\n\")\n"
   ]
  },
  {
   "cell_type": "markdown",
   "metadata": {},
   "source": [
    "## listas_dos"
   ]
  },
  {
   "cell_type": "code",
   "execution_count": 8,
   "metadata": {
    "ExecuteTime": {
     "end_time": "2021-06-27T18:07:28.481519Z",
     "start_time": "2021-06-27T18:07:28.465562Z"
    }
   },
   "outputs": [
    {
     "name": "stdout",
     "output_type": "stream",
     "text": [
      "2.- Promedio de los 6 autos es: 22.316666666666663\n",
      "\n"
     ]
    }
   ],
   "source": [
    "#2.- Promedio de los 6 autos\n",
    "\n",
    "velocidades = []\n",
    "automoviles = []\n",
    "\n",
    "lista_temporal2=[]\n",
    "lista_temporal3=[]\n",
    "\n",
    "for i in autos:\n",
    "    #print(vel[1])\n",
    "    velocidades.append(i[1])\n",
    "    automoviles.append(i[0])\n",
    "    lista_temporal2.append(i[2])\n",
    "    lista_temporal3.append(i[4])\n",
    "\n",
    "print(f\"2.- Promedio de los 6 autos es: {promedio(velocidades)}\\n\")\n"
   ]
  },
  {
   "cell_type": "markdown",
   "metadata": {},
   "source": [
    "## listas_tres"
   ]
  },
  {
   "cell_type": "code",
   "execution_count": 36,
   "metadata": {
    "ExecuteTime": {
     "end_time": "2021-06-27T18:41:28.758084Z",
     "start_time": "2021-06-27T18:41:28.746067Z"
    }
   },
   "outputs": [
    {
     "name": "stdout",
     "output_type": "stream",
     "text": [
      "3.- Los autos que superan el promedio: 22.316666666666663 son: ('Merc 240D', 'Toyota Corolla'), con un valor de: (24.4, 33.9) respectivamente\n"
     ]
    }
   ],
   "source": [
    "\"\"\"\n",
    "3.- Generar un loop que muestre en pantalla aquellos autos cuyo segundo campo (el número flotante)\n",
    "es mayor al de la media de todos los autos.\n",
    "La solución debe estar dentro del programa listas_tres.py.\n",
    "\"\"\" \n",
    "\n",
    "resultado3 = [i[0:2] for i in autos if i[1]>promedio(velocidades)]\n",
    "\n",
    "print(f\"3.- Los autos que superan el promedio: {promedio(velocidades)} son: {resultado3[0][0],resultado3[1][0]}, con un valor de: {resultado3[0][1],resultado3[1][1]} respectivamente\")\n",
    "\n"
   ]
  },
  {
   "cell_type": "markdown",
   "metadata": {},
   "source": [
    "## listas_cuatro"
   ]
  },
  {
   "cell_type": "code",
   "execution_count": 25,
   "metadata": {
    "ExecuteTime": {
     "end_time": "2021-06-27T18:17:31.358610Z",
     "start_time": "2021-06-27T18:17:31.354608Z"
    }
   },
   "outputs": [
    {
     "name": "stdout",
     "output_type": "stream",
     "text": [
      "4.- Los autos que tienen su cuarta fila 'True' son: ['Merc 240D', 'Merc 280', 'Valiant', 'Toyota Corolla']\n"
     ]
    }
   ],
   "source": [
    "# 4.- El nombre del auto correspondiente, en caso de que este valor sea True.\n",
    "resultado4= [i[0] for i in autos if i[3]==True]\n",
    "print(f\"4.- Los autos que tienen su cuarta fila 'True' son: {resultado4}\")"
   ]
  },
  {
   "cell_type": "markdown",
   "metadata": {},
   "source": [
    "## listas_cinco"
   ]
  },
  {
   "cell_type": "code",
   "execution_count": 33,
   "metadata": {
    "ExecuteTime": {
     "end_time": "2021-06-27T18:28:04.221806Z",
     "start_time": "2021-06-27T18:28:04.202857Z"
    }
   },
   "outputs": [
    {
     "name": "stdout",
     "output_type": "stream",
     "text": [
      "Lista con los valores mayores que el promedio: [24.4, 33.9]\n"
     ]
    }
   ],
   "source": [
    "\"\"\"\n",
    "5.- Generar una lista con los valores flotantes (segundo campo) que sean mayores que el\n",
    "promedio, utilizando una operación funcional para filtrar estos datos.\n",
    "La solución debe estar dentro del programa listas_cinco.py.\n",
    "\"\"\"\n",
    "\n",
    "cinco = filter(lambda x: x > promedio(velocidades), velocidades)\n",
    "print(f\"Lista con los valores mayores que el promedio: {list(cinco)}\")"
   ]
  },
  {
   "cell_type": "code",
   "execution_count": null,
   "metadata": {},
   "outputs": [],
   "source": []
  }
 ],
 "metadata": {
  "hide_input": false,
  "kernelspec": {
   "display_name": "Python 3",
   "language": "python",
   "name": "python3"
  },
  "language_info": {
   "codemirror_mode": {
    "name": "ipython",
    "version": 3
   },
   "file_extension": ".py",
   "mimetype": "text/x-python",
   "name": "python",
   "nbconvert_exporter": "python",
   "pygments_lexer": "ipython3",
   "version": "3.7.3"
  },
  "toc": {
   "base_numbering": 1,
   "nav_menu": {},
   "number_sections": true,
   "sideBar": true,
   "skip_h1_title": false,
   "title_cell": "Table of Contents",
   "title_sidebar": "Contents",
   "toc_cell": false,
   "toc_position": {},
   "toc_section_display": true,
   "toc_window_display": false
  }
 },
 "nbformat": 4,
 "nbformat_minor": 2
}
