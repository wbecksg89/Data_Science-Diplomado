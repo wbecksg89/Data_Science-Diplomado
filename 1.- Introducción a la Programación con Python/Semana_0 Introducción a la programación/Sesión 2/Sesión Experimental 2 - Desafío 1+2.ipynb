{
 "cells": [
  {
   "cell_type": "markdown",
   "metadata": {},
   "source": [
    "# Desafío - Piedra, Papel o Tijera"
   ]
  },
  {
   "cell_type": "code",
   "execution_count": 28,
   "metadata": {
    "ExecuteTime": {
     "end_time": "2021-06-10T02:02:54.696531Z",
     "start_time": "2021-06-10T02:02:54.116694Z"
    }
   },
   "outputs": [
    {
     "name": "stdout",
     "output_type": "stream",
     "text": [
      "fsdafsad\n",
      "Jugador juega fsdafsad\n",
      "Debe ingresar piedra, papel o tijera\n"
     ]
    }
   ],
   "source": [
    "import random\n",
    "import sys\n",
    "\n",
    "usuario = input()\n",
    "usuario = usuario.lower()\n",
    "opciones = {1:\"piedra\",2:\"papel\",3:\"tijera\"}\n",
    "cpu = random.randint(1,3)\n",
    "cpu = opciones[cpu]\n",
    "print(f\"Jugador juega {usuario}\")\n",
    "    \n",
    "if usuario not in ('piedra','papel','tijera'):\n",
    "    print(\"Debe ingresar piedra, papel o tijera\")\n",
    "else:\n",
    "\n",
    "    if usuario == cpu:\n",
    "        print(f\"Computador juega: {cpu}\")\n",
    "        print('Empate')\n",
    "    elif (usuario == 'papel' and cpu == 'piedra') or (usuario == 'piedra' and cpu == 'tijera') or (usuario == 'tijera' and cpu == 'papel'):\n",
    "        print(f\"Computador juega: {cpu}\")\n",
    "        print(\"Gana usuario\")\n",
    "    else:\n",
    "        print(f\"Computador juega: {cpu}\")\n",
    "        print(\"Gana Computador\")\n",
    "\n"
   ]
  },
  {
   "cell_type": "code",
   "execution_count": 21,
   "metadata": {
    "ExecuteTime": {
     "end_time": "2021-06-10T02:00:19.565942Z",
     "start_time": "2021-06-10T02:00:19.552976Z"
    }
   },
   "outputs": [
    {
     "data": {
      "text/plain": [
       "'tijera'"
      ]
     },
     "execution_count": 21,
     "metadata": {},
     "output_type": "execute_result"
    }
   ],
   "source": [
    "cpu = random.randint(1,3)\n",
    "opciones[cpu]"
   ]
  },
  {
   "cell_type": "markdown",
   "metadata": {},
   "source": [
    "# El mayor de 3 números"
   ]
  },
  {
   "cell_type": "code",
   "execution_count": 7,
   "metadata": {
    "ExecuteTime": {
     "end_time": "2021-06-10T00:57:13.356452Z",
     "start_time": "2021-06-10T00:57:13.347476Z"
    }
   },
   "outputs": [
    {
     "name": "stdout",
     "output_type": "stream",
     "text": [
      "30\n"
     ]
    },
    {
     "data": {
      "text/plain": [
       "30"
      ]
     },
     "execution_count": 7,
     "metadata": {},
     "output_type": "execute_result"
    }
   ],
   "source": [
    "import numpy\n",
    "\n",
    "numero1 = 10\n",
    "numero2 = 20\n",
    "numero3 = 30\n",
    "\n",
    "if numero1 > numero2:\n",
    "    if numero1 > numero3:\n",
    "        print(numero1)\n",
    "    else:\n",
    "        print(numero3)\n",
    "elif numero2 > numero1:\n",
    "    if numero2 > numero3:\n",
    "        print(numero2)\n",
    "    else: \n",
    "        print(numero3)\n",
    "else:\n",
    "    print(\"Error\")\n",
    "        \n",
    "max(numero1,numero2,numero3)\n",
    "    "
   ]
  },
  {
   "cell_type": "code",
   "execution_count": 29,
   "metadata": {
    "ExecuteTime": {
     "end_time": "2021-06-10T02:20:38.469422Z",
     "start_time": "2021-06-10T02:20:38.458479Z"
    }
   },
   "outputs": [
    {
     "ename": "SyntaxError",
     "evalue": "invalid syntax (<ipython-input-29-9c78f6cacab4>, line 1)",
     "output_type": "error",
     "traceback": [
      "\u001b[1;36m  File \u001b[1;32m\"<ipython-input-29-9c78f6cacab4>\"\u001b[1;36m, line \u001b[1;32m1\u001b[0m\n\u001b[1;33m    as = \"Alias\"\u001b[0m\n\u001b[1;37m     ^\u001b[0m\n\u001b[1;31mSyntaxError\u001b[0m\u001b[1;31m:\u001b[0m invalid syntax\n"
     ]
    }
   ],
   "source": [
    "as = \"Alias\""
   ]
  },
  {
   "cell_type": "code",
   "execution_count": 30,
   "metadata": {
    "ExecuteTime": {
     "end_time": "2021-06-10T02:22:08.946924Z",
     "start_time": "2021-06-10T02:22:06.307359Z"
    }
   },
   "outputs": [
    {
     "name": "stdout",
     "output_type": "stream",
     "text": [
      "10\n",
      "20\n",
      "1020\n"
     ]
    }
   ],
   "source": [
    "uno = input()\n",
    "dos = input()\n",
    "print(int(uno+dos))"
   ]
  },
  {
   "cell_type": "code",
   "execution_count": 31,
   "metadata": {
    "ExecuteTime": {
     "end_time": "2021-06-10T02:25:42.629181Z",
     "start_time": "2021-06-10T02:25:42.619236Z"
    }
   },
   "outputs": [
    {
     "data": {
      "text/plain": [
       "False"
      ]
     },
     "execution_count": 31,
     "metadata": {},
     "output_type": "execute_result"
    }
   ],
   "source": [
    "(1 <= 18) != True"
   ]
  },
  {
   "cell_type": "code",
   "execution_count": 34,
   "metadata": {
    "ExecuteTime": {
     "end_time": "2021-06-10T02:27:08.712112Z",
     "start_time": "2021-06-10T02:27:08.707086Z"
    }
   },
   "outputs": [
    {
     "ename": "SyntaxError",
     "evalue": "can't assign to operator (<ipython-input-34-89c735c0aaae>, line 1)",
     "output_type": "error",
     "traceback": [
      "\u001b[1;36m  File \u001b[1;32m\"<ipython-input-34-89c735c0aaae>\"\u001b[1;36m, line \u001b[1;32m1\u001b[0m\n\u001b[1;33m    mascota == 'gato' and lindo = True\u001b[0m\n\u001b[1;37m                                      ^\u001b[0m\n\u001b[1;31mSyntaxError\u001b[0m\u001b[1;31m:\u001b[0m can't assign to operator\n"
     ]
    }
   ],
   "source": [
    "mascota == 'gato' and lindo = True"
   ]
  },
  {
   "cell_type": "code",
   "execution_count": null,
   "metadata": {},
   "outputs": [],
   "source": []
  }
 ],
 "metadata": {
  "hide_input": false,
  "kernelspec": {
   "display_name": "Python 3",
   "language": "python",
   "name": "python3"
  },
  "language_info": {
   "codemirror_mode": {
    "name": "ipython",
    "version": 3
   },
   "file_extension": ".py",
   "mimetype": "text/x-python",
   "name": "python",
   "nbconvert_exporter": "python",
   "pygments_lexer": "ipython3",
   "version": "3.7.3"
  },
  "toc": {
   "base_numbering": 1,
   "nav_menu": {},
   "number_sections": true,
   "sideBar": true,
   "skip_h1_title": false,
   "title_cell": "Table of Contents",
   "title_sidebar": "Contents",
   "toc_cell": false,
   "toc_position": {},
   "toc_section_display": true,
   "toc_window_display": false
  }
 },
 "nbformat": 4,
 "nbformat_minor": 2
}
