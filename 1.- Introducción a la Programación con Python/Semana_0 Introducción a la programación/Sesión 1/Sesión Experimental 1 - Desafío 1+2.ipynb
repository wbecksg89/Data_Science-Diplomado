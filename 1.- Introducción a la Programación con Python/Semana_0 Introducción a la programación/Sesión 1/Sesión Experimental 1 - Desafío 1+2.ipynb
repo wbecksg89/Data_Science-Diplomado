{
 "cells": [
  {
   "cell_type": "markdown",
   "metadata": {
    "ExecuteTime": {
     "end_time": "2021-06-08T00:51:02.968184Z",
     "start_time": "2021-06-08T00:51:02.957212Z"
    }
   },
   "source": [
    "## Desafío"
   ]
  },
  {
   "cell_type": "code",
   "execution_count": null,
   "metadata": {},
   "outputs": [],
   "source": [
    "import sys\n",
    "\"\"\"\n",
    "Se pide crear el programa escape.py donde el usuario ingrese la gravedad y el radio y como \n",
    "resultado obtenga la velocidad de escape.\n",
    "\"\"\"\n",
    "\n",
    "#g = 9.8\n",
    "#r = 6371\n",
    "g = float(sys.argv[1])\n",
    "r = float(sys.argv[2])\n",
    "# Respuesta: 11174.59 aprox.\n",
    "ve = (2*g*r*1000)**(1/2)\n",
    "print(ve)"
   ]
  },
  {
   "cell_type": "code",
   "execution_count": 30,
   "metadata": {
    "ExecuteTime": {
     "end_time": "2021-06-10T00:36:27.084207Z",
     "start_time": "2021-06-10T00:36:27.062291Z"
    }
   },
   "outputs": [
    {
     "ename": "TypeError",
     "evalue": "_getfullpathname: path should be string, bytes or os.PathLike, not list",
     "output_type": "error",
     "traceback": [
      "\u001b[1;31m---------------------------------------------------------------------------\u001b[0m",
      "\u001b[1;31mTypeError\u001b[0m                                 Traceback (most recent call last)",
      "\u001b[1;32m<ipython-input-30-6b971769cab4>\u001b[0m in \u001b[0;36m<module>\u001b[1;34m\u001b[0m\n\u001b[0;32m      1\u001b[0m \u001b[1;32mimport\u001b[0m \u001b[0mshutil\u001b[0m\u001b[1;33m\u001b[0m\u001b[1;33m\u001b[0m\u001b[0m\n\u001b[0;32m      2\u001b[0m \u001b[0marchivos\u001b[0m \u001b[1;33m=\u001b[0m \u001b[1;33m[\u001b[0m\u001b[1;34m\"emprendedor1.py\"\u001b[0m\u001b[1;33m,\u001b[0m\u001b[1;34m\"emprendedor2.py\"\u001b[0m\u001b[1;33m,\u001b[0m\u001b[1;34m\"emprendedor3.py\"\u001b[0m\u001b[1;33m]\u001b[0m\u001b[1;33m\u001b[0m\u001b[1;33m\u001b[0m\u001b[0m\n\u001b[1;32m----> 3\u001b[1;33m \u001b[0marchivo_zip\u001b[0m \u001b[1;33m=\u001b[0m \u001b[0mshutil\u001b[0m\u001b[1;33m.\u001b[0m\u001b[0mmake_archive\u001b[0m\u001b[1;33m(\u001b[0m\u001b[0marchivos\u001b[0m\u001b[1;33m,\u001b[0m \u001b[1;34m\"zip\"\u001b[0m\u001b[1;33m,\u001b[0m \u001b[1;34m\"Desafio2\"\u001b[0m\u001b[1;33m)\u001b[0m\u001b[1;33m\u001b[0m\u001b[1;33m\u001b[0m\u001b[0m\n\u001b[0m",
      "\u001b[1;32m~\\Anaconda3\\lib\\shutil.py\u001b[0m in \u001b[0;36mmake_archive\u001b[1;34m(base_name, format, root_dir, base_dir, verbose, dry_run, owner, group, logger)\u001b[0m\n\u001b[0;32m    794\u001b[0m         \u001b[1;32mif\u001b[0m \u001b[0mlogger\u001b[0m \u001b[1;32mis\u001b[0m \u001b[1;32mnot\u001b[0m \u001b[1;32mNone\u001b[0m\u001b[1;33m:\u001b[0m\u001b[1;33m\u001b[0m\u001b[1;33m\u001b[0m\u001b[0m\n\u001b[0;32m    795\u001b[0m             \u001b[0mlogger\u001b[0m\u001b[1;33m.\u001b[0m\u001b[0mdebug\u001b[0m\u001b[1;33m(\u001b[0m\u001b[1;34m\"changing into '%s'\"\u001b[0m\u001b[1;33m,\u001b[0m \u001b[0mroot_dir\u001b[0m\u001b[1;33m)\u001b[0m\u001b[1;33m\u001b[0m\u001b[1;33m\u001b[0m\u001b[0m\n\u001b[1;32m--> 796\u001b[1;33m         \u001b[0mbase_name\u001b[0m \u001b[1;33m=\u001b[0m \u001b[0mos\u001b[0m\u001b[1;33m.\u001b[0m\u001b[0mpath\u001b[0m\u001b[1;33m.\u001b[0m\u001b[0mabspath\u001b[0m\u001b[1;33m(\u001b[0m\u001b[0mbase_name\u001b[0m\u001b[1;33m)\u001b[0m\u001b[1;33m\u001b[0m\u001b[1;33m\u001b[0m\u001b[0m\n\u001b[0m\u001b[0;32m    797\u001b[0m         \u001b[1;32mif\u001b[0m \u001b[1;32mnot\u001b[0m \u001b[0mdry_run\u001b[0m\u001b[1;33m:\u001b[0m\u001b[1;33m\u001b[0m\u001b[1;33m\u001b[0m\u001b[0m\n\u001b[0;32m    798\u001b[0m             \u001b[0mos\u001b[0m\u001b[1;33m.\u001b[0m\u001b[0mchdir\u001b[0m\u001b[1;33m(\u001b[0m\u001b[0mroot_dir\u001b[0m\u001b[1;33m)\u001b[0m\u001b[1;33m\u001b[0m\u001b[1;33m\u001b[0m\u001b[0m\n",
      "\u001b[1;32m~\\Anaconda3\\lib\\ntpath.py\u001b[0m in \u001b[0;36mabspath\u001b[1;34m(path)\u001b[0m\n\u001b[0;32m    524\u001b[0m         \u001b[1;34m\"\"\"Return the absolute version of a path.\"\"\"\u001b[0m\u001b[1;33m\u001b[0m\u001b[1;33m\u001b[0m\u001b[0m\n\u001b[0;32m    525\u001b[0m         \u001b[1;32mtry\u001b[0m\u001b[1;33m:\u001b[0m\u001b[1;33m\u001b[0m\u001b[1;33m\u001b[0m\u001b[0m\n\u001b[1;32m--> 526\u001b[1;33m             \u001b[1;32mreturn\u001b[0m \u001b[0mnormpath\u001b[0m\u001b[1;33m(\u001b[0m\u001b[0m_getfullpathname\u001b[0m\u001b[1;33m(\u001b[0m\u001b[0mpath\u001b[0m\u001b[1;33m)\u001b[0m\u001b[1;33m)\u001b[0m\u001b[1;33m\u001b[0m\u001b[1;33m\u001b[0m\u001b[0m\n\u001b[0m\u001b[0;32m    527\u001b[0m         \u001b[1;32mexcept\u001b[0m \u001b[1;33m(\u001b[0m\u001b[0mOSError\u001b[0m\u001b[1;33m,\u001b[0m \u001b[0mValueError\u001b[0m\u001b[1;33m)\u001b[0m\u001b[1;33m:\u001b[0m\u001b[1;33m\u001b[0m\u001b[1;33m\u001b[0m\u001b[0m\n\u001b[0;32m    528\u001b[0m             \u001b[1;32mreturn\u001b[0m \u001b[0m_abspath_fallback\u001b[0m\u001b[1;33m(\u001b[0m\u001b[0mpath\u001b[0m\u001b[1;33m)\u001b[0m\u001b[1;33m\u001b[0m\u001b[1;33m\u001b[0m\u001b[0m\n",
      "\u001b[1;31mTypeError\u001b[0m: _getfullpathname: path should be string, bytes or os.PathLike, not list"
     ]
    }
   ],
   "source": [
    "import shutil\n",
    "archivos = [\"emprendedor1.py\",\"emprendedor2.py\",\"emprendedor3.py\"]\n",
    "archivo_zip = shutil.make_archive(archivos, \"zip\", \"Desafio2\")"
   ]
  },
  {
   "cell_type": "code",
   "execution_count": null,
   "metadata": {},
   "outputs": [],
   "source": [
    "from zipfile import Zipfile\n",
    "myzipfile = ZipFile(\"spam.zip\", mode='a')\n",
    "for mod_path in 'C:\\\\Users\\\\Walther\\\\Documents\\\\Cursos\\\\Desafío Latam - Data Science\\\\Semana_0': \n",
    "    myzipfile.write(mod)\n",
    "myzipfile.close()"
   ]
  },
  {
   "cell_type": "code",
   "execution_count": 31,
   "metadata": {
    "ExecuteTime": {
     "end_time": "2021-06-10T00:39:18.359453Z",
     "start_time": "2021-06-10T00:39:18.349447Z"
    }
   },
   "outputs": [
    {
     "data": {
      "text/plain": [
       "'C:\\\\Users\\\\Walther\\\\Documents\\\\Cursos\\\\Desafío Latam - Data Science\\\\Semana_0'"
      ]
     },
     "execution_count": 31,
     "metadata": {},
     "output_type": "execute_result"
    }
   ],
   "source": [
    "pwd"
   ]
  },
  {
   "cell_type": "markdown",
   "metadata": {},
   "source": [
    "## Desafío "
   ]
  },
  {
   "cell_type": "markdown",
   "metadata": {
    "ExecuteTime": {
     "end_time": "2021-06-09T23:45:40.283109Z",
     "start_time": "2021-06-09T23:45:40.265156Z"
    }
   },
   "source": [
    "### Emprendedor1"
   ]
  },
  {
   "cell_type": "code",
   "execution_count": 5,
   "metadata": {
    "ExecuteTime": {
     "end_time": "2021-06-09T23:56:00.039865Z",
     "start_time": "2021-06-09T23:56:00.017923Z"
    }
   },
   "outputs": [
    {
     "ename": "ValueError",
     "evalue": "invalid literal for int() with base 10: '-f'",
     "output_type": "error",
     "traceback": [
      "\u001b[1;31m---------------------------------------------------------------------------\u001b[0m",
      "\u001b[1;31mValueError\u001b[0m                                Traceback (most recent call last)",
      "\u001b[1;32m<ipython-input-5-fd8a7d3d5584>\u001b[0m in \u001b[0;36m<module>\u001b[1;34m\u001b[0m\n\u001b[0;32m     11\u001b[0m \u001b[1;32mimport\u001b[0m \u001b[0msys\u001b[0m\u001b[1;33m\u001b[0m\u001b[1;33m\u001b[0m\u001b[0m\n\u001b[0;32m     12\u001b[0m \u001b[1;33m\u001b[0m\u001b[0m\n\u001b[1;32m---> 13\u001b[1;33m \u001b[0mprecio_venta\u001b[0m \u001b[1;33m=\u001b[0m \u001b[0mint\u001b[0m\u001b[1;33m(\u001b[0m\u001b[0msys\u001b[0m\u001b[1;33m.\u001b[0m\u001b[0margv\u001b[0m\u001b[1;33m[\u001b[0m\u001b[1;36m1\u001b[0m\u001b[1;33m]\u001b[0m\u001b[1;33m)\u001b[0m\u001b[1;33m\u001b[0m\u001b[1;33m\u001b[0m\u001b[0m\n\u001b[0m\u001b[0;32m     14\u001b[0m \u001b[0musuarios\u001b[0m \u001b[1;33m=\u001b[0m \u001b[0mint\u001b[0m\u001b[1;33m(\u001b[0m\u001b[0msys\u001b[0m\u001b[1;33m.\u001b[0m\u001b[0margv\u001b[0m\u001b[1;33m[\u001b[0m\u001b[1;36m2\u001b[0m\u001b[1;33m]\u001b[0m\u001b[1;33m)\u001b[0m\u001b[1;33m\u001b[0m\u001b[1;33m\u001b[0m\u001b[0m\n\u001b[0;32m     15\u001b[0m \u001b[0mgastos\u001b[0m \u001b[1;33m=\u001b[0m \u001b[0mint\u001b[0m\u001b[1;33m(\u001b[0m\u001b[0msys\u001b[0m\u001b[1;33m.\u001b[0m\u001b[0margv\u001b[0m\u001b[1;33m[\u001b[0m\u001b[1;36m3\u001b[0m\u001b[1;33m]\u001b[0m\u001b[1;33m)\u001b[0m\u001b[1;33m\u001b[0m\u001b[1;33m\u001b[0m\u001b[0m\n",
      "\u001b[1;31mValueError\u001b[0m: invalid literal for int() with base 10: '-f'"
     ]
    }
   ],
   "source": [
    "\"\"\"\n",
    "Utilizando argv:\n",
    "Crear programa en donde muestre las utilidades en base al \n",
    "ingreso de 3 variables:\n",
    "1.- Precio de venta de un servicio\n",
    "2.- Número de usuarios suscritos\n",
    "3.- Gastos\n",
    "\n",
    "utilidad = (precio_venta * usuarios) - gastos\n",
    "\"\"\"\n",
    "import sys\n",
    "\n",
    "precio_venta = int(sys.argv[1])\n",
    "usuarios = int(sys.argv[2])\n",
    "gastos = int(sys.argv[3])\n",
    "\n",
    "utilidad = (precio_venta * usuarios) - gastos\n",
    "print(utilidad)"
   ]
  },
  {
   "cell_type": "code",
   "execution_count": 4,
   "metadata": {
    "ExecuteTime": {
     "end_time": "2021-06-09T23:53:13.574008Z",
     "start_time": "2021-06-09T23:53:13.565002Z"
    }
   },
   "outputs": [
    {
     "name": "stdout",
     "output_type": "stream",
     "text": [
      "20000\n"
     ]
    }
   ],
   "source": [
    "precio_venta=5000\n",
    "usuarios=5\n",
    "gastos=5000\n",
    "\n",
    "utilidad = (precio_venta * usuarios) - gastos\n",
    "print(utilidad)"
   ]
  },
  {
   "cell_type": "markdown",
   "metadata": {
    "ExecuteTime": {
     "end_time": "2021-06-09T23:58:53.383534Z",
     "start_time": "2021-06-09T23:58:53.368574Z"
    }
   },
   "source": [
    "### Emprendedor 2"
   ]
  },
  {
   "cell_type": "code",
   "execution_count": 13,
   "metadata": {
    "ExecuteTime": {
     "end_time": "2021-06-10T00:14:08.777554Z",
     "start_time": "2021-06-10T00:14:08.769575Z"
    }
   },
   "outputs": [
    {
     "name": "stdout",
     "output_type": "stream",
     "text": [
      "10000\n"
     ]
    }
   ],
   "source": [
    "\"\"\"\n",
    "Ingrese: \n",
    "1.- Cantidad de usuarios por categoría\n",
    "2.- Precio estándar\n",
    "3.- Gastos\n",
    "Mostrar utilidades\n",
    "\"\"\"\n",
    "usuarios_normales = 1\n",
    "usuarios_premium = 1\n",
    "usuarios_prueba = 1\n",
    "precio_normal = 5000\n",
    "gastos = 5000\n",
    "precio_premium = precio_normal*2\n",
    "precio_prueba = 0\n",
    "\n",
    "\n",
    "utilidad = (usuarios_normales*precio_normal + usuarios_premium*precio_premium + usuarios_prueba*precio_prueba) - gastos\n",
    "print(utilidad)"
   ]
  },
  {
   "cell_type": "markdown",
   "metadata": {
    "ExecuteTime": {
     "end_time": "2021-06-10T00:14:42.046129Z",
     "start_time": "2021-06-10T00:14:42.031179Z"
    }
   },
   "source": [
    "## Emprendedor 3"
   ]
  },
  {
   "cell_type": "code",
   "execution_count": 28,
   "metadata": {
    "ExecuteTime": {
     "end_time": "2021-06-10T00:28:48.617676Z",
     "start_time": "2021-06-10T00:28:48.092664Z"
    }
   },
   "outputs": [
    {
     "name": "stdout",
     "output_type": "stream",
     "text": [
      "\n",
      "La razón entre las utilidades actuales y las del año anterior es: 20.0\n",
      "La utilidad actual es: 20000\n"
     ]
    }
   ],
   "source": [
    "\"\"\"\n",
    "1.- Precio\n",
    "2.- Usuarios\n",
    "3.- Gastos\n",
    "4.- Utilidad año anterior (optativo, si no lo ingresa entonces 1000)\n",
    "- Mostrar razón entre la utilidad presente y pasado\n",
    "- Mostrar utilidades actuales\n",
    "- 1 tipo de usuario y precio\n",
    "\"\"\"\n",
    "precio_venta=5000\n",
    "usuarios=5\n",
    "gastos=5000\n",
    "\n",
    "try:\n",
    "    utilidad_pasada = int(input())\n",
    "except:\n",
    "    utilidad_pasada=1000\n",
    "\n",
    "razon = ((utilidad_actual-utilidad_pasada)/utilidad_pasada)+1\n",
    "print(f\"La razón entre las utilidades actuales y las del año anterior es: {razon}\")\n",
    "\n",
    "utilidad_actual = (precio_venta * usuarios) - gastos\n",
    "print(f\"La utilidad actual es: {utilidad_actual}\")\n",
    "\n"
   ]
  },
  {
   "cell_type": "code",
   "execution_count": null,
   "metadata": {},
   "outputs": [],
   "source": []
  }
 ],
 "metadata": {
  "hide_input": false,
  "kernelspec": {
   "display_name": "Python 3",
   "language": "python",
   "name": "python3"
  },
  "language_info": {
   "codemirror_mode": {
    "name": "ipython",
    "version": 3
   },
   "file_extension": ".py",
   "mimetype": "text/x-python",
   "name": "python",
   "nbconvert_exporter": "python",
   "pygments_lexer": "ipython3",
   "version": "3.7.3"
  },
  "toc": {
   "base_numbering": 1,
   "nav_menu": {},
   "number_sections": true,
   "sideBar": true,
   "skip_h1_title": false,
   "title_cell": "Table of Contents",
   "title_sidebar": "Contents",
   "toc_cell": false,
   "toc_position": {},
   "toc_section_display": true,
   "toc_window_display": false
  }
 },
 "nbformat": 4,
 "nbformat_minor": 2
}
